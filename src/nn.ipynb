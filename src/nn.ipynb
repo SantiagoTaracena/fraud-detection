{
 "cells": [
  {
   "cell_type": "markdown",
   "metadata": {},
   "source": [
    "# Universidad del Valle de Guatemala\n",
    "# (CC3093) Security Data Science\n",
    "# Proyecto 2 - Modelo de Detección de Fraude\n",
    "# Santiago Taracena Puga (20017)"
   ]
  },
  {
   "cell_type": "markdown",
   "metadata": {},
   "source": [
    "## Documento: Desarrollo del modelo 1 (Red Neuronal)"
   ]
  },
  {
   "cell_type": "markdown",
   "metadata": {},
   "source": [
    "## Introducción"
   ]
  },
  {
   "cell_type": "markdown",
   "metadata": {},
   "source": [
    "En el ámbito de la seguridad informática y la detección de fraudes, el análisis de datos se ha convertido en un pilar fundamental para identificar patrones y anomalías que puedan indicar actividades fraudulentas. En este contexto, el uso de modelos de Machine Learning y Deep Learning ha demostrado ser una herramienta poderosa para detectar transacciones fraudulentas en tiempo real, permitiendo a las instituciones financieras proteger los activos de sus clientes y salvaguardar la integridad de sus sistemas.\n",
    "\n",
    "El presente proyecto surge en colaboración entre el Convenio PLUS TI y la Universidad del Valle, con el objetivo de investigar la viabilidad y eficacia del entrenamiento incremental en modelos de aprendizaje automático y profundo aplicados a la detección de fraudes en transacciones de tarjeta de crédito. Este estudio se realiza utilizando un dataset simulado que abarca transacciones realizadas desde el 1 de enero de 2019 hasta el 31 de diciembre de 2020, donde se incluyen tanto transacciones legítimas como fraudulentas.\n",
    "\n",
    "El enfoque adoptado se centra en dos partes principales. En primer lugar, se lleva a cabo una investigación teórica exhaustiva sobre el entrenamiento incremental en los algoritmos seleccionados, destacando sus capacidades, limitaciones y las mejores prácticas asociadas. Esta revisión bibliográfica proporcionará un marco conceptual sólido para comprender el contexto y los desafíos del entrenamiento incremental en el ámbito de la detección de fraudes.\n",
    "\n",
    "En segunda instancia, se procede con la implementación práctica de modelos de Machine Learning y Deep Learning, utilizando algoritmos como Redes Neuronales Artificiales (ANN), LightGBM, XGBoost, Random Forest y Máquinas de Vectores de Soporte (SVM). Se parte de un análisis exploratorio de datos (EDA) para comprender las características del dataset, seguido de un proceso de feature engineering para crear nuevas características relevantes para la detección de fraudes. Además, se exploran técnicas de manejo de datos desequilibrados, afinación de hiperparámetros y estrategias de early stopping para mejorar el rendimiento de los modelos.\n",
    "\n",
    "La evaluación de los modelos se realiza comparando su rendimiento antes y después del entrenamiento incremental, utilizando métricas como ROC-AUC, precisión, recall y F1-score. Se presta especial atención a la capacidad de detección de transacciones fraudulentas y a cualquier pérdida significativa de rendimiento que pueda surgir como resultado del entrenamiento incremental.\n",
    "\n",
    "Finalmente, se propone una metodología para decidir cuándo es preferible realizar un reentrenamiento total en lugar de uno incremental, basándose en la literatura existente y en los resultados experimentales obtenidos. Esta metodología se valida empíricamente utilizando los modelos entrenados, y se proporcionan conclusiones y recomendaciones para futuras investigaciones o aplicaciones prácticas en el campo de la seguridad de datos financieros."
   ]
  },
  {
   "cell_type": "markdown",
   "metadata": {},
   "source": [
    "## Parte 1: Entrenamiento Incremental"
   ]
  },
  {
   "cell_type": "markdown",
   "metadata": {},
   "source": [
    "### Desarrollo del modelo 1 (Red neuronal)"
   ]
  },
  {
   "cell_type": "code",
   "execution_count": 42,
   "metadata": {},
   "outputs": [],
   "source": [
    "# Instrucción para importar la librería pandas\n",
    "import pandas as pd"
   ]
  },
  {
   "cell_type": "code",
   "execution_count": 43,
   "metadata": {},
   "outputs": [
    {
     "data": {
      "text/html": [
       "<div>\n",
       "<style scoped>\n",
       "    .dataframe tbody tr th:only-of-type {\n",
       "        vertical-align: middle;\n",
       "    }\n",
       "\n",
       "    .dataframe tbody tr th {\n",
       "        vertical-align: top;\n",
       "    }\n",
       "\n",
       "    .dataframe thead th {\n",
       "        text-align: right;\n",
       "    }\n",
       "</style>\n",
       "<table border=\"1\" class=\"dataframe\">\n",
       "  <thead>\n",
       "    <tr style=\"text-align: right;\">\n",
       "      <th></th>\n",
       "      <th>is_fraud</th>\n",
       "      <th>transaction_year</th>\n",
       "      <th>transaction_month</th>\n",
       "      <th>transaction_day</th>\n",
       "      <th>transaction_hour</th>\n",
       "      <th>transaction_minute</th>\n",
       "      <th>transaction_second</th>\n",
       "      <th>transaction_cc_num_length</th>\n",
       "      <th>transaction_cc_num_unique_digits_count</th>\n",
       "      <th>transaction_cc_num_digits_sum</th>\n",
       "      <th>...</th>\n",
       "      <th>transaction_amount_change</th>\n",
       "      <th>transaction_lat_change</th>\n",
       "      <th>transaction_long_change</th>\n",
       "      <th>location_change</th>\n",
       "      <th>transaction_count_per_category</th>\n",
       "      <th>avg_amount_per_category</th>\n",
       "      <th>transaction_amount_last_7_days</th>\n",
       "      <th>transaction_amount_last_month</th>\n",
       "      <th>std_transaction_amount</th>\n",
       "      <th>cv_transaction_amount</th>\n",
       "    </tr>\n",
       "  </thead>\n",
       "  <tbody>\n",
       "    <tr>\n",
       "      <th>0</th>\n",
       "      <td>0</td>\n",
       "      <td>2019</td>\n",
       "      <td>1</td>\n",
       "      <td>1</td>\n",
       "      <td>0</td>\n",
       "      <td>6</td>\n",
       "      <td>56</td>\n",
       "      <td>15</td>\n",
       "      <td>8</td>\n",
       "      <td>54</td>\n",
       "      <td>...</td>\n",
       "      <td>NaN</td>\n",
       "      <td>NaN</td>\n",
       "      <td>NaN</td>\n",
       "      <td>0.000000</td>\n",
       "      <td>5654</td>\n",
       "      <td>132.379484</td>\n",
       "      <td>71.22</td>\n",
       "      <td>71.22</td>\n",
       "      <td>126.447035</td>\n",
       "      <td>1.673431</td>\n",
       "    </tr>\n",
       "    <tr>\n",
       "      <th>1</th>\n",
       "      <td>0</td>\n",
       "      <td>2019</td>\n",
       "      <td>1</td>\n",
       "      <td>1</td>\n",
       "      <td>0</td>\n",
       "      <td>17</td>\n",
       "      <td>16</td>\n",
       "      <td>15</td>\n",
       "      <td>7</td>\n",
       "      <td>54</td>\n",
       "      <td>...</td>\n",
       "      <td>-24.94</td>\n",
       "      <td>12.8254</td>\n",
       "      <td>8.3093</td>\n",
       "      <td>1556.500349</td>\n",
       "      <td>2112</td>\n",
       "      <td>59.030284</td>\n",
       "      <td>117.50</td>\n",
       "      <td>117.50</td>\n",
       "      <td>126.447035</td>\n",
       "      <td>1.673431</td>\n",
       "    </tr>\n",
       "    <tr>\n",
       "      <th>2</th>\n",
       "      <td>0</td>\n",
       "      <td>2019</td>\n",
       "      <td>1</td>\n",
       "      <td>1</td>\n",
       "      <td>0</td>\n",
       "      <td>22</td>\n",
       "      <td>36</td>\n",
       "      <td>15</td>\n",
       "      <td>7</td>\n",
       "      <td>76</td>\n",
       "      <td>...</td>\n",
       "      <td>-42.62</td>\n",
       "      <td>3.1423</td>\n",
       "      <td>-48.0660</td>\n",
       "      <td>3714.630408</td>\n",
       "      <td>4419</td>\n",
       "      <td>94.525207</td>\n",
       "      <td>121.16</td>\n",
       "      <td>121.16</td>\n",
       "      <td>126.447035</td>\n",
       "      <td>1.673431</td>\n",
       "    </tr>\n",
       "    <tr>\n",
       "      <th>3</th>\n",
       "      <td>0</td>\n",
       "      <td>2019</td>\n",
       "      <td>1</td>\n",
       "      <td>1</td>\n",
       "      <td>0</td>\n",
       "      <td>32</td>\n",
       "      <td>15</td>\n",
       "      <td>15</td>\n",
       "      <td>8</td>\n",
       "      <td>72</td>\n",
       "      <td>...</td>\n",
       "      <td>126.74</td>\n",
       "      <td>-0.8190</td>\n",
       "      <td>34.0860</td>\n",
       "      <td>2775.387784</td>\n",
       "      <td>5654</td>\n",
       "      <td>132.379484</td>\n",
       "      <td>251.56</td>\n",
       "      <td>251.56</td>\n",
       "      <td>126.447035</td>\n",
       "      <td>1.673431</td>\n",
       "    </tr>\n",
       "    <tr>\n",
       "      <th>4</th>\n",
       "      <td>0</td>\n",
       "      <td>2019</td>\n",
       "      <td>1</td>\n",
       "      <td>1</td>\n",
       "      <td>1</td>\n",
       "      <td>9</td>\n",
       "      <td>57</td>\n",
       "      <td>15</td>\n",
       "      <td>7</td>\n",
       "      <td>54</td>\n",
       "      <td>...</td>\n",
       "      <td>-126.61</td>\n",
       "      <td>-2.3233</td>\n",
       "      <td>13.9800</td>\n",
       "      <td>1226.358716</td>\n",
       "      <td>2541</td>\n",
       "      <td>90.435702</td>\n",
       "      <td>255.35</td>\n",
       "      <td>255.35</td>\n",
       "      <td>126.447035</td>\n",
       "      <td>1.673431</td>\n",
       "    </tr>\n",
       "  </tbody>\n",
       "</table>\n",
       "<p>5 rows × 89 columns</p>\n",
       "</div>"
      ],
      "text/plain": [
       "   is_fraud  transaction_year  transaction_month  transaction_day  \\\n",
       "0         0              2019                  1                1   \n",
       "1         0              2019                  1                1   \n",
       "2         0              2019                  1                1   \n",
       "3         0              2019                  1                1   \n",
       "4         0              2019                  1                1   \n",
       "\n",
       "   transaction_hour  transaction_minute  transaction_second  \\\n",
       "0                 0                   6                  56   \n",
       "1                 0                  17                  16   \n",
       "2                 0                  22                  36   \n",
       "3                 0                  32                  15   \n",
       "4                 1                   9                  57   \n",
       "\n",
       "   transaction_cc_num_length  transaction_cc_num_unique_digits_count  \\\n",
       "0                         15                                       8   \n",
       "1                         15                                       7   \n",
       "2                         15                                       7   \n",
       "3                         15                                       8   \n",
       "4                         15                                       7   \n",
       "\n",
       "   transaction_cc_num_digits_sum  ...  transaction_amount_change  \\\n",
       "0                             54  ...                        NaN   \n",
       "1                             54  ...                     -24.94   \n",
       "2                             76  ...                     -42.62   \n",
       "3                             72  ...                     126.74   \n",
       "4                             54  ...                    -126.61   \n",
       "\n",
       "   transaction_lat_change transaction_long_change location_change  \\\n",
       "0                     NaN                     NaN        0.000000   \n",
       "1                 12.8254                  8.3093     1556.500349   \n",
       "2                  3.1423                -48.0660     3714.630408   \n",
       "3                 -0.8190                 34.0860     2775.387784   \n",
       "4                 -2.3233                 13.9800     1226.358716   \n",
       "\n",
       "   transaction_count_per_category  avg_amount_per_category  \\\n",
       "0                            5654               132.379484   \n",
       "1                            2112                59.030284   \n",
       "2                            4419                94.525207   \n",
       "3                            5654               132.379484   \n",
       "4                            2541                90.435702   \n",
       "\n",
       "   transaction_amount_last_7_days  transaction_amount_last_month  \\\n",
       "0                           71.22                          71.22   \n",
       "1                          117.50                         117.50   \n",
       "2                          121.16                         121.16   \n",
       "3                          251.56                         251.56   \n",
       "4                          255.35                         255.35   \n",
       "\n",
       "   std_transaction_amount  cv_transaction_amount  \n",
       "0              126.447035               1.673431  \n",
       "1              126.447035               1.673431  \n",
       "2              126.447035               1.673431  \n",
       "3              126.447035               1.673431  \n",
       "4              126.447035               1.673431  \n",
       "\n",
       "[5 rows x 89 columns]"
      ]
     },
     "execution_count": 43,
     "metadata": {},
     "output_type": "execute_result"
    }
   ],
   "source": [
    "# Lectura del dataset con los features necesarios\n",
    "data = pd.read_csv(\"./data/dataset-v2.csv\")\n",
    "data.head()"
   ]
  },
  {
   "cell_type": "code",
   "execution_count": 44,
   "metadata": {},
   "outputs": [],
   "source": [
    "# Instrucción para importar LabelEncoder y codificar variables categóricas\n",
    "from sklearn.preprocessing import LabelEncoder"
   ]
  },
  {
   "cell_type": "code",
   "execution_count": 45,
   "metadata": {},
   "outputs": [
    {
     "data": {
      "text/html": [
       "<style>#sk-container-id-2 {color: black;background-color: white;}#sk-container-id-2 pre{padding: 0;}#sk-container-id-2 div.sk-toggleable {background-color: white;}#sk-container-id-2 label.sk-toggleable__label {cursor: pointer;display: block;width: 100%;margin-bottom: 0;padding: 0.3em;box-sizing: border-box;text-align: center;}#sk-container-id-2 label.sk-toggleable__label-arrow:before {content: \"▸\";float: left;margin-right: 0.25em;color: #696969;}#sk-container-id-2 label.sk-toggleable__label-arrow:hover:before {color: black;}#sk-container-id-2 div.sk-estimator:hover label.sk-toggleable__label-arrow:before {color: black;}#sk-container-id-2 div.sk-toggleable__content {max-height: 0;max-width: 0;overflow: hidden;text-align: left;background-color: #f0f8ff;}#sk-container-id-2 div.sk-toggleable__content pre {margin: 0.2em;color: black;border-radius: 0.25em;background-color: #f0f8ff;}#sk-container-id-2 input.sk-toggleable__control:checked~div.sk-toggleable__content {max-height: 200px;max-width: 100%;overflow: auto;}#sk-container-id-2 input.sk-toggleable__control:checked~label.sk-toggleable__label-arrow:before {content: \"▾\";}#sk-container-id-2 div.sk-estimator input.sk-toggleable__control:checked~label.sk-toggleable__label {background-color: #d4ebff;}#sk-container-id-2 div.sk-label input.sk-toggleable__control:checked~label.sk-toggleable__label {background-color: #d4ebff;}#sk-container-id-2 input.sk-hidden--visually {border: 0;clip: rect(1px 1px 1px 1px);clip: rect(1px, 1px, 1px, 1px);height: 1px;margin: -1px;overflow: hidden;padding: 0;position: absolute;width: 1px;}#sk-container-id-2 div.sk-estimator {font-family: monospace;background-color: #f0f8ff;border: 1px dotted black;border-radius: 0.25em;box-sizing: border-box;margin-bottom: 0.5em;}#sk-container-id-2 div.sk-estimator:hover {background-color: #d4ebff;}#sk-container-id-2 div.sk-parallel-item::after {content: \"\";width: 100%;border-bottom: 1px solid gray;flex-grow: 1;}#sk-container-id-2 div.sk-label:hover label.sk-toggleable__label {background-color: #d4ebff;}#sk-container-id-2 div.sk-serial::before {content: \"\";position: absolute;border-left: 1px solid gray;box-sizing: border-box;top: 0;bottom: 0;left: 50%;z-index: 0;}#sk-container-id-2 div.sk-serial {display: flex;flex-direction: column;align-items: center;background-color: white;padding-right: 0.2em;padding-left: 0.2em;position: relative;}#sk-container-id-2 div.sk-item {position: relative;z-index: 1;}#sk-container-id-2 div.sk-parallel {display: flex;align-items: stretch;justify-content: center;background-color: white;position: relative;}#sk-container-id-2 div.sk-item::before, #sk-container-id-2 div.sk-parallel-item::before {content: \"\";position: absolute;border-left: 1px solid gray;box-sizing: border-box;top: 0;bottom: 0;left: 50%;z-index: -1;}#sk-container-id-2 div.sk-parallel-item {display: flex;flex-direction: column;z-index: 1;position: relative;background-color: white;}#sk-container-id-2 div.sk-parallel-item:first-child::after {align-self: flex-end;width: 50%;}#sk-container-id-2 div.sk-parallel-item:last-child::after {align-self: flex-start;width: 50%;}#sk-container-id-2 div.sk-parallel-item:only-child::after {width: 0;}#sk-container-id-2 div.sk-dashed-wrapped {border: 1px dashed gray;margin: 0 0.4em 0.5em 0.4em;box-sizing: border-box;padding-bottom: 0.4em;background-color: white;}#sk-container-id-2 div.sk-label label {font-family: monospace;font-weight: bold;display: inline-block;line-height: 1.2em;}#sk-container-id-2 div.sk-label-container {text-align: center;}#sk-container-id-2 div.sk-container {/* jupyter's `normalize.less` sets `[hidden] { display: none; }` but bootstrap.min.css set `[hidden] { display: none !important; }` so we also need the `!important` here to be able to override the default hidden behavior on the sphinx rendered scikit-learn.org. See: https://github.com/scikit-learn/scikit-learn/issues/21755 */display: inline-block !important;position: relative;}#sk-container-id-2 div.sk-text-repr-fallback {display: none;}</style><div id=\"sk-container-id-2\" class=\"sk-top-container\"><div class=\"sk-text-repr-fallback\"><pre>LabelEncoder()</pre><b>In a Jupyter environment, please rerun this cell to show the HTML representation or trust the notebook. <br />On GitHub, the HTML representation is unable to render, please try loading this page with nbviewer.org.</b></div><div class=\"sk-container\" hidden><div class=\"sk-item\"><div class=\"sk-estimator sk-toggleable\"><input class=\"sk-toggleable__control sk-hidden--visually\" id=\"sk-estimator-id-2\" type=\"checkbox\" checked><label for=\"sk-estimator-id-2\" class=\"sk-toggleable__label sk-toggleable__label-arrow\">LabelEncoder</label><div class=\"sk-toggleable__content\"><pre>LabelEncoder()</pre></div></div></div></div></div>"
      ],
      "text/plain": [
       "LabelEncoder()"
      ]
     },
     "execution_count": 45,
     "metadata": {},
     "output_type": "execute_result"
    }
   ],
   "source": [
    "# Instancia y retorno de LabelEncoder\n",
    "encoder = LabelEncoder()\n",
    "encoder"
   ]
  },
  {
   "cell_type": "code",
   "execution_count": 46,
   "metadata": {},
   "outputs": [
    {
     "data": {
      "text/plain": [
       "['transaction_merchant',\n",
       " 'transaction_category',\n",
       " 'transaction_gender',\n",
       " 'transaction_job',\n",
       " 'transaction_time_of_day',\n",
       " 'transaction_time_period',\n",
       " 'transaction_season']"
      ]
     },
     "execution_count": 46,
     "metadata": {},
     "output_type": "execute_result"
    }
   ],
   "source": [
    "# Lista de variables categóricas a codificar\n",
    "labels_to_encode = [\n",
    "    \"transaction_merchant\",\n",
    "    \"transaction_category\",\n",
    "    \"transaction_gender\",\n",
    "    \"transaction_job\",\n",
    "    \"transaction_time_of_day\",\n",
    "    \"transaction_time_period\",\n",
    "    \"transaction_season\",\n",
    "]\n",
    "labels_to_encode"
   ]
  },
  {
   "cell_type": "code",
   "execution_count": 47,
   "metadata": {},
   "outputs": [
    {
     "name": "stderr",
     "output_type": "stream",
     "text": [
      "c:\\Users\\stara\\AppData\\Local\\Programs\\Python\\Python311\\Lib\\site-packages\\sklearn\\utils\\validation.py:605: FutureWarning: is_sparse is deprecated and will be removed in a future version. Check `isinstance(dtype, pd.SparseDtype)` instead.\n",
      "  if is_sparse(pd_dtype):\n",
      "c:\\Users\\stara\\AppData\\Local\\Programs\\Python\\Python311\\Lib\\site-packages\\sklearn\\utils\\validation.py:614: FutureWarning: is_sparse is deprecated and will be removed in a future version. Check `isinstance(dtype, pd.SparseDtype)` instead.\n",
      "  if is_sparse(pd_dtype) or not is_extension_array_dtype(pd_dtype):\n",
      "c:\\Users\\stara\\AppData\\Local\\Programs\\Python\\Python311\\Lib\\site-packages\\sklearn\\utils\\validation.py:605: FutureWarning: is_sparse is deprecated and will be removed in a future version. Check `isinstance(dtype, pd.SparseDtype)` instead.\n",
      "  if is_sparse(pd_dtype):\n",
      "c:\\Users\\stara\\AppData\\Local\\Programs\\Python\\Python311\\Lib\\site-packages\\sklearn\\utils\\validation.py:614: FutureWarning: is_sparse is deprecated and will be removed in a future version. Check `isinstance(dtype, pd.SparseDtype)` instead.\n",
      "  if is_sparse(pd_dtype) or not is_extension_array_dtype(pd_dtype):\n",
      "c:\\Users\\stara\\AppData\\Local\\Programs\\Python\\Python311\\Lib\\site-packages\\sklearn\\utils\\validation.py:605: FutureWarning: is_sparse is deprecated and will be removed in a future version. Check `isinstance(dtype, pd.SparseDtype)` instead.\n",
      "  if is_sparse(pd_dtype):\n",
      "c:\\Users\\stara\\AppData\\Local\\Programs\\Python\\Python311\\Lib\\site-packages\\sklearn\\utils\\validation.py:614: FutureWarning: is_sparse is deprecated and will be removed in a future version. Check `isinstance(dtype, pd.SparseDtype)` instead.\n",
      "  if is_sparse(pd_dtype) or not is_extension_array_dtype(pd_dtype):\n",
      "c:\\Users\\stara\\AppData\\Local\\Programs\\Python\\Python311\\Lib\\site-packages\\sklearn\\utils\\validation.py:605: FutureWarning: is_sparse is deprecated and will be removed in a future version. Check `isinstance(dtype, pd.SparseDtype)` instead.\n",
      "  if is_sparse(pd_dtype):\n",
      "c:\\Users\\stara\\AppData\\Local\\Programs\\Python\\Python311\\Lib\\site-packages\\sklearn\\utils\\validation.py:614: FutureWarning: is_sparse is deprecated and will be removed in a future version. Check `isinstance(dtype, pd.SparseDtype)` instead.\n",
      "  if is_sparse(pd_dtype) or not is_extension_array_dtype(pd_dtype):\n",
      "c:\\Users\\stara\\AppData\\Local\\Programs\\Python\\Python311\\Lib\\site-packages\\sklearn\\utils\\validation.py:605: FutureWarning: is_sparse is deprecated and will be removed in a future version. Check `isinstance(dtype, pd.SparseDtype)` instead.\n",
      "  if is_sparse(pd_dtype):\n",
      "c:\\Users\\stara\\AppData\\Local\\Programs\\Python\\Python311\\Lib\\site-packages\\sklearn\\utils\\validation.py:614: FutureWarning: is_sparse is deprecated and will be removed in a future version. Check `isinstance(dtype, pd.SparseDtype)` instead.\n",
      "  if is_sparse(pd_dtype) or not is_extension_array_dtype(pd_dtype):\n",
      "c:\\Users\\stara\\AppData\\Local\\Programs\\Python\\Python311\\Lib\\site-packages\\sklearn\\utils\\validation.py:605: FutureWarning: is_sparse is deprecated and will be removed in a future version. Check `isinstance(dtype, pd.SparseDtype)` instead.\n",
      "  if is_sparse(pd_dtype):\n",
      "c:\\Users\\stara\\AppData\\Local\\Programs\\Python\\Python311\\Lib\\site-packages\\sklearn\\utils\\validation.py:614: FutureWarning: is_sparse is deprecated and will be removed in a future version. Check `isinstance(dtype, pd.SparseDtype)` instead.\n",
      "  if is_sparse(pd_dtype) or not is_extension_array_dtype(pd_dtype):\n",
      "c:\\Users\\stara\\AppData\\Local\\Programs\\Python\\Python311\\Lib\\site-packages\\sklearn\\utils\\validation.py:605: FutureWarning: is_sparse is deprecated and will be removed in a future version. Check `isinstance(dtype, pd.SparseDtype)` instead.\n",
      "  if is_sparse(pd_dtype):\n",
      "c:\\Users\\stara\\AppData\\Local\\Programs\\Python\\Python311\\Lib\\site-packages\\sklearn\\utils\\validation.py:614: FutureWarning: is_sparse is deprecated and will be removed in a future version. Check `isinstance(dtype, pd.SparseDtype)` instead.\n",
      "  if is_sparse(pd_dtype) or not is_extension_array_dtype(pd_dtype):\n"
     ]
    },
    {
     "data": {
      "text/html": [
       "<div>\n",
       "<style scoped>\n",
       "    .dataframe tbody tr th:only-of-type {\n",
       "        vertical-align: middle;\n",
       "    }\n",
       "\n",
       "    .dataframe tbody tr th {\n",
       "        vertical-align: top;\n",
       "    }\n",
       "\n",
       "    .dataframe thead th {\n",
       "        text-align: right;\n",
       "    }\n",
       "</style>\n",
       "<table border=\"1\" class=\"dataframe\">\n",
       "  <thead>\n",
       "    <tr style=\"text-align: right;\">\n",
       "      <th></th>\n",
       "      <th>is_fraud</th>\n",
       "      <th>transaction_year</th>\n",
       "      <th>transaction_month</th>\n",
       "      <th>transaction_day</th>\n",
       "      <th>transaction_hour</th>\n",
       "      <th>transaction_minute</th>\n",
       "      <th>transaction_second</th>\n",
       "      <th>transaction_cc_num_length</th>\n",
       "      <th>transaction_cc_num_unique_digits_count</th>\n",
       "      <th>transaction_cc_num_digits_sum</th>\n",
       "      <th>...</th>\n",
       "      <th>transaction_amount_change</th>\n",
       "      <th>transaction_lat_change</th>\n",
       "      <th>transaction_long_change</th>\n",
       "      <th>location_change</th>\n",
       "      <th>transaction_count_per_category</th>\n",
       "      <th>avg_amount_per_category</th>\n",
       "      <th>transaction_amount_last_7_days</th>\n",
       "      <th>transaction_amount_last_month</th>\n",
       "      <th>std_transaction_amount</th>\n",
       "      <th>cv_transaction_amount</th>\n",
       "    </tr>\n",
       "  </thead>\n",
       "  <tbody>\n",
       "    <tr>\n",
       "      <th>0</th>\n",
       "      <td>0</td>\n",
       "      <td>2019</td>\n",
       "      <td>1</td>\n",
       "      <td>1</td>\n",
       "      <td>0</td>\n",
       "      <td>6</td>\n",
       "      <td>56</td>\n",
       "      <td>15</td>\n",
       "      <td>8</td>\n",
       "      <td>54</td>\n",
       "      <td>...</td>\n",
       "      <td>NaN</td>\n",
       "      <td>NaN</td>\n",
       "      <td>NaN</td>\n",
       "      <td>0.000000</td>\n",
       "      <td>5654</td>\n",
       "      <td>132.379484</td>\n",
       "      <td>71.22</td>\n",
       "      <td>71.22</td>\n",
       "      <td>126.447035</td>\n",
       "      <td>1.673431</td>\n",
       "    </tr>\n",
       "    <tr>\n",
       "      <th>1</th>\n",
       "      <td>0</td>\n",
       "      <td>2019</td>\n",
       "      <td>1</td>\n",
       "      <td>1</td>\n",
       "      <td>0</td>\n",
       "      <td>17</td>\n",
       "      <td>16</td>\n",
       "      <td>15</td>\n",
       "      <td>7</td>\n",
       "      <td>54</td>\n",
       "      <td>...</td>\n",
       "      <td>-24.94</td>\n",
       "      <td>12.8254</td>\n",
       "      <td>8.3093</td>\n",
       "      <td>1556.500349</td>\n",
       "      <td>2112</td>\n",
       "      <td>59.030284</td>\n",
       "      <td>117.50</td>\n",
       "      <td>117.50</td>\n",
       "      <td>126.447035</td>\n",
       "      <td>1.673431</td>\n",
       "    </tr>\n",
       "    <tr>\n",
       "      <th>2</th>\n",
       "      <td>0</td>\n",
       "      <td>2019</td>\n",
       "      <td>1</td>\n",
       "      <td>1</td>\n",
       "      <td>0</td>\n",
       "      <td>22</td>\n",
       "      <td>36</td>\n",
       "      <td>15</td>\n",
       "      <td>7</td>\n",
       "      <td>76</td>\n",
       "      <td>...</td>\n",
       "      <td>-42.62</td>\n",
       "      <td>3.1423</td>\n",
       "      <td>-48.0660</td>\n",
       "      <td>3714.630408</td>\n",
       "      <td>4419</td>\n",
       "      <td>94.525207</td>\n",
       "      <td>121.16</td>\n",
       "      <td>121.16</td>\n",
       "      <td>126.447035</td>\n",
       "      <td>1.673431</td>\n",
       "    </tr>\n",
       "    <tr>\n",
       "      <th>3</th>\n",
       "      <td>0</td>\n",
       "      <td>2019</td>\n",
       "      <td>1</td>\n",
       "      <td>1</td>\n",
       "      <td>0</td>\n",
       "      <td>32</td>\n",
       "      <td>15</td>\n",
       "      <td>15</td>\n",
       "      <td>8</td>\n",
       "      <td>72</td>\n",
       "      <td>...</td>\n",
       "      <td>126.74</td>\n",
       "      <td>-0.8190</td>\n",
       "      <td>34.0860</td>\n",
       "      <td>2775.387784</td>\n",
       "      <td>5654</td>\n",
       "      <td>132.379484</td>\n",
       "      <td>251.56</td>\n",
       "      <td>251.56</td>\n",
       "      <td>126.447035</td>\n",
       "      <td>1.673431</td>\n",
       "    </tr>\n",
       "    <tr>\n",
       "      <th>4</th>\n",
       "      <td>0</td>\n",
       "      <td>2019</td>\n",
       "      <td>1</td>\n",
       "      <td>1</td>\n",
       "      <td>1</td>\n",
       "      <td>9</td>\n",
       "      <td>57</td>\n",
       "      <td>15</td>\n",
       "      <td>7</td>\n",
       "      <td>54</td>\n",
       "      <td>...</td>\n",
       "      <td>-126.61</td>\n",
       "      <td>-2.3233</td>\n",
       "      <td>13.9800</td>\n",
       "      <td>1226.358716</td>\n",
       "      <td>2541</td>\n",
       "      <td>90.435702</td>\n",
       "      <td>255.35</td>\n",
       "      <td>255.35</td>\n",
       "      <td>126.447035</td>\n",
       "      <td>1.673431</td>\n",
       "    </tr>\n",
       "  </tbody>\n",
       "</table>\n",
       "<p>5 rows × 89 columns</p>\n",
       "</div>"
      ],
      "text/plain": [
       "   is_fraud  transaction_year  transaction_month  transaction_day  \\\n",
       "0         0              2019                  1                1   \n",
       "1         0              2019                  1                1   \n",
       "2         0              2019                  1                1   \n",
       "3         0              2019                  1                1   \n",
       "4         0              2019                  1                1   \n",
       "\n",
       "   transaction_hour  transaction_minute  transaction_second  \\\n",
       "0                 0                   6                  56   \n",
       "1                 0                  17                  16   \n",
       "2                 0                  22                  36   \n",
       "3                 0                  32                  15   \n",
       "4                 1                   9                  57   \n",
       "\n",
       "   transaction_cc_num_length  transaction_cc_num_unique_digits_count  \\\n",
       "0                         15                                       8   \n",
       "1                         15                                       7   \n",
       "2                         15                                       7   \n",
       "3                         15                                       8   \n",
       "4                         15                                       7   \n",
       "\n",
       "   transaction_cc_num_digits_sum  ...  transaction_amount_change  \\\n",
       "0                             54  ...                        NaN   \n",
       "1                             54  ...                     -24.94   \n",
       "2                             76  ...                     -42.62   \n",
       "3                             72  ...                     126.74   \n",
       "4                             54  ...                    -126.61   \n",
       "\n",
       "   transaction_lat_change  transaction_long_change  location_change  \\\n",
       "0                     NaN                      NaN         0.000000   \n",
       "1                 12.8254                   8.3093      1556.500349   \n",
       "2                  3.1423                 -48.0660      3714.630408   \n",
       "3                 -0.8190                  34.0860      2775.387784   \n",
       "4                 -2.3233                  13.9800      1226.358716   \n",
       "\n",
       "   transaction_count_per_category  avg_amount_per_category  \\\n",
       "0                            5654               132.379484   \n",
       "1                            2112                59.030284   \n",
       "2                            4419                94.525207   \n",
       "3                            5654               132.379484   \n",
       "4                            2541                90.435702   \n",
       "\n",
       "   transaction_amount_last_7_days  transaction_amount_last_month  \\\n",
       "0                           71.22                          71.22   \n",
       "1                          117.50                         117.50   \n",
       "2                          121.16                         121.16   \n",
       "3                          251.56                         251.56   \n",
       "4                          255.35                         255.35   \n",
       "\n",
       "   std_transaction_amount  cv_transaction_amount  \n",
       "0              126.447035               1.673431  \n",
       "1              126.447035               1.673431  \n",
       "2              126.447035               1.673431  \n",
       "3              126.447035               1.673431  \n",
       "4              126.447035               1.673431  \n",
       "\n",
       "[5 rows x 89 columns]"
      ]
     },
     "execution_count": 47,
     "metadata": {},
     "output_type": "execute_result"
    }
   ],
   "source": [
    "# Ciclo que codifica todas las variables categóricas listadas\n",
    "for label in labels_to_encode:\n",
    "    data[label] = encoder.fit_transform(data[label])\n",
    "\n",
    "# Primeras cinco filas del dataset para observar la codificación\n",
    "data.head()"
   ]
  },
  {
   "cell_type": "code",
   "execution_count": 48,
   "metadata": {},
   "outputs": [],
   "source": [
    "# Separar características y etiquetas\n",
    "X = data.drop(\"is_fraud\", axis=1).fillna(0)\n",
    "y = data[\"is_fraud\"]"
   ]
  },
  {
   "cell_type": "markdown",
   "metadata": {},
   "source": [
    "#### 1.2.3. Manejo de Datos Desequilibrados"
   ]
  },
  {
   "cell_type": "markdown",
   "metadata": {},
   "source": [
    "El manejo de datos desequilibrados es una parte crucial en la construcción de modelos de detección de fraude, dado que la proporción de transacciones fraudulentas es extremadamente baja en comparación con las transacciones legítimas. En nuestro caso, el dataset presentaba un desequilibrio significativo, con el 99.5% de las transacciones etiquetadas como no fraudulentas y solo el 0.5% como fraudulentas. Este desequilibrio puede llevar a que los modelos de machine learning se inclinen a predecir siempre la clase mayoritaria, resultando en una alta exactitud superficial pero una baja efectividad en la detección de fraude.\n",
    "\n",
    "Para abordar este problema, se implementaron dos técnicas principales: RandomUnderSampler y SMOTE (Synthetic Minority Over-sampling Technique). Estas técnicas fueron seleccionadas para equilibrar las clases y mejorar la capacidad del modelo para detectar transacciones fraudulentas.\n",
    "\n",
    "##### RandomUnderSampler\n",
    "\n",
    "El RandomUnderSampler es una técnica que reduce el número de instancias de la clase mayoritaria para equilibrar el dataset. En este caso, se redujo la cantidad de transacciones no fraudulentas para igualar el número de transacciones fraudulentas. Aunque esta técnica puede resultar en la pérdida de información valiosa debido a la eliminación de datos, es efectiva para situaciones donde el dataset es lo suficientemente grande y la pérdida de datos no compromete la integridad del modelo. El proceso implicó seleccionar aleatoriamente un subconjunto de las transacciones no fraudulentas para que el número de instancias en ambas clases fuera aproximadamente igual.\n",
    "\n",
    "El uso del RandomUnderSampler fue beneficioso al reducir el sesgo del modelo hacia la clase mayoritaria y permitirle aprender patrones significativos en las transacciones fraudulentas. Sin embargo, la reducción de datos también implica que el modelo tiene menos información para aprender sobre la clase mayoritaria, lo que puede afectar su capacidad para generalizar correctamente sobre transacciones legítimas en el mundo real.\n",
    "\n",
    "##### SMOTE (Synthetic Minority Over-sampling Technique)\n",
    "\n",
    "Para complementar el enfoque de submuestreo, se aplicó SMOTE, una técnica que genera ejemplos sintéticos de la clase minoritaria para aumentar su presencia en el dataset. SMOTE funciona creando nuevas instancias basadas en las características de los vecinos más cercanos de las instancias minoritarias existentes. Este método no solo aumenta el número de transacciones fraudulentas sino que también ayuda a mantener la diversidad y representatividad de la clase minoritaria.\n",
    "\n",
    "La implementación de SMOTE involucró identificar las transacciones fraudulentas y generar ejemplos adicionales basados en estas. Esto permitió aumentar el número de transacciones fraudulentas en el dataset sin simplemente duplicar las existentes, lo que podría llevar a un sobreajuste. Los ejemplos sintéticos creados por SMOTE permitieron al modelo aprender una gama más amplia de características de fraude, mejorando su capacidad para detectar fraudes no vistos previamente.\n",
    "\n",
    "##### Proceso de Implementación\n",
    "\n",
    "El proceso comenzó con la separación de las características (X) y las etiquetas (y) del dataset original. Posteriormente, se aplicó el RandomUnderSampler para reducir el número de transacciones no fraudulentas, equilibrando así las clases de forma inicial. A continuación, se aplicó SMOTE sobre el dataset submuestreado para generar nuevas instancias de la clase minoritaria y enriquecer la variedad de ejemplos de fraude. Este enfoque combinado aprovechó las fortalezas de ambas técnicas: la simplicidad y efectividad del submuestreo y la capacidad de SMOTE para generar nuevos ejemplos diversificados.\n",
    "\n",
    "Este enfoque resultó en un dataset equilibrado que mejoró significativamente la capacidad del modelo para detectar fraudes. La combinación de RandomUnderSampler y SMOTE permitió mitigar el impacto del desequilibrio de clases, resultando en un modelo que no solo reconoce transacciones legítimas con alta precisión sino que también captura la mayoría de las transacciones fraudulentas. Este balance es crítico para la efectividad y confiabilidad del sistema de detección de fraude en aplicaciones del mundo real."
   ]
  },
  {
   "cell_type": "code",
   "execution_count": 49,
   "metadata": {},
   "outputs": [],
   "source": [
    "# Librerías para manejar el desbalance de categorías\n",
    "from imblearn.under_sampling import RandomUnderSampler\n",
    "from imblearn.over_sampling import SMOTE"
   ]
  },
  {
   "cell_type": "code",
   "execution_count": 50,
   "metadata": {},
   "outputs": [
    {
     "name": "stderr",
     "output_type": "stream",
     "text": [
      "c:\\Users\\stara\\AppData\\Local\\Programs\\Python\\Python311\\Lib\\site-packages\\sklearn\\utils\\validation.py:605: FutureWarning: is_sparse is deprecated and will be removed in a future version. Check `isinstance(dtype, pd.SparseDtype)` instead.\n",
      "  if is_sparse(pd_dtype):\n",
      "c:\\Users\\stara\\AppData\\Local\\Programs\\Python\\Python311\\Lib\\site-packages\\sklearn\\utils\\validation.py:614: FutureWarning: is_sparse is deprecated and will be removed in a future version. Check `isinstance(dtype, pd.SparseDtype)` instead.\n",
      "  if is_sparse(pd_dtype) or not is_extension_array_dtype(pd_dtype):\n",
      "c:\\Users\\stara\\AppData\\Local\\Programs\\Python\\Python311\\Lib\\site-packages\\sklearn\\utils\\validation.py:605: FutureWarning: is_sparse is deprecated and will be removed in a future version. Check `isinstance(dtype, pd.SparseDtype)` instead.\n",
      "  if is_sparse(pd_dtype):\n",
      "c:\\Users\\stara\\AppData\\Local\\Programs\\Python\\Python311\\Lib\\site-packages\\sklearn\\utils\\validation.py:614: FutureWarning: is_sparse is deprecated and will be removed in a future version. Check `isinstance(dtype, pd.SparseDtype)` instead.\n",
      "  if is_sparse(pd_dtype) or not is_extension_array_dtype(pd_dtype):\n",
      "c:\\Users\\stara\\AppData\\Local\\Programs\\Python\\Python311\\Lib\\site-packages\\sklearn\\utils\\validation.py:605: FutureWarning: is_sparse is deprecated and will be removed in a future version. Check `isinstance(dtype, pd.SparseDtype)` instead.\n",
      "  if is_sparse(pd_dtype):\n",
      "c:\\Users\\stara\\AppData\\Local\\Programs\\Python\\Python311\\Lib\\site-packages\\sklearn\\utils\\validation.py:614: FutureWarning: is_sparse is deprecated and will be removed in a future version. Check `isinstance(dtype, pd.SparseDtype)` instead.\n",
      "  if is_sparse(pd_dtype) or not is_extension_array_dtype(pd_dtype):\n",
      "c:\\Users\\stara\\AppData\\Local\\Programs\\Python\\Python311\\Lib\\site-packages\\sklearn\\utils\\validation.py:605: FutureWarning: is_sparse is deprecated and will be removed in a future version. Check `isinstance(dtype, pd.SparseDtype)` instead.\n",
      "  if is_sparse(pd_dtype):\n",
      "c:\\Users\\stara\\AppData\\Local\\Programs\\Python\\Python311\\Lib\\site-packages\\sklearn\\utils\\validation.py:614: FutureWarning: is_sparse is deprecated and will be removed in a future version. Check `isinstance(dtype, pd.SparseDtype)` instead.\n",
      "  if is_sparse(pd_dtype) or not is_extension_array_dtype(pd_dtype):\n",
      "c:\\Users\\stara\\AppData\\Local\\Programs\\Python\\Python311\\Lib\\site-packages\\sklearn\\utils\\validation.py:605: FutureWarning: is_sparse is deprecated and will be removed in a future version. Check `isinstance(dtype, pd.SparseDtype)` instead.\n",
      "  if is_sparse(pd_dtype):\n",
      "c:\\Users\\stara\\AppData\\Local\\Programs\\Python\\Python311\\Lib\\site-packages\\sklearn\\utils\\validation.py:614: FutureWarning: is_sparse is deprecated and will be removed in a future version. Check `isinstance(dtype, pd.SparseDtype)` instead.\n",
      "  if is_sparse(pd_dtype) or not is_extension_array_dtype(pd_dtype):\n",
      "c:\\Users\\stara\\AppData\\Local\\Programs\\Python\\Python311\\Lib\\site-packages\\sklearn\\utils\\validation.py:767: FutureWarning: is_sparse is deprecated and will be removed in a future version. Check `isinstance(dtype, pd.SparseDtype)` instead.\n",
      "  if not hasattr(array, \"sparse\") and array.dtypes.apply(is_sparse).any():\n",
      "c:\\Users\\stara\\AppData\\Local\\Programs\\Python\\Python311\\Lib\\site-packages\\sklearn\\utils\\validation.py:605: FutureWarning: is_sparse is deprecated and will be removed in a future version. Check `isinstance(dtype, pd.SparseDtype)` instead.\n",
      "  if is_sparse(pd_dtype):\n",
      "c:\\Users\\stara\\AppData\\Local\\Programs\\Python\\Python311\\Lib\\site-packages\\sklearn\\utils\\validation.py:614: FutureWarning: is_sparse is deprecated and will be removed in a future version. Check `isinstance(dtype, pd.SparseDtype)` instead.\n",
      "  if is_sparse(pd_dtype) or not is_extension_array_dtype(pd_dtype):\n"
     ]
    }
   ],
   "source": [
    "# Submuestrear clase mayoritaria\n",
    "rus = RandomUnderSampler(random_state=123)\n",
    "X_resampled, y_resampled = rus.fit_resample(X, y)"
   ]
  },
  {
   "cell_type": "code",
   "execution_count": 51,
   "metadata": {},
   "outputs": [
    {
     "name": "stderr",
     "output_type": "stream",
     "text": [
      "c:\\Users\\stara\\AppData\\Local\\Programs\\Python\\Python311\\Lib\\site-packages\\sklearn\\utils\\validation.py:605: FutureWarning: is_sparse is deprecated and will be removed in a future version. Check `isinstance(dtype, pd.SparseDtype)` instead.\n",
      "  if is_sparse(pd_dtype):\n",
      "c:\\Users\\stara\\AppData\\Local\\Programs\\Python\\Python311\\Lib\\site-packages\\sklearn\\utils\\validation.py:614: FutureWarning: is_sparse is deprecated and will be removed in a future version. Check `isinstance(dtype, pd.SparseDtype)` instead.\n",
      "  if is_sparse(pd_dtype) or not is_extension_array_dtype(pd_dtype):\n",
      "c:\\Users\\stara\\AppData\\Local\\Programs\\Python\\Python311\\Lib\\site-packages\\sklearn\\utils\\validation.py:605: FutureWarning: is_sparse is deprecated and will be removed in a future version. Check `isinstance(dtype, pd.SparseDtype)` instead.\n",
      "  if is_sparse(pd_dtype):\n",
      "c:\\Users\\stara\\AppData\\Local\\Programs\\Python\\Python311\\Lib\\site-packages\\sklearn\\utils\\validation.py:614: FutureWarning: is_sparse is deprecated and will be removed in a future version. Check `isinstance(dtype, pd.SparseDtype)` instead.\n",
      "  if is_sparse(pd_dtype) or not is_extension_array_dtype(pd_dtype):\n",
      "c:\\Users\\stara\\AppData\\Local\\Programs\\Python\\Python311\\Lib\\site-packages\\sklearn\\utils\\validation.py:605: FutureWarning: is_sparse is deprecated and will be removed in a future version. Check `isinstance(dtype, pd.SparseDtype)` instead.\n",
      "  if is_sparse(pd_dtype):\n",
      "c:\\Users\\stara\\AppData\\Local\\Programs\\Python\\Python311\\Lib\\site-packages\\sklearn\\utils\\validation.py:614: FutureWarning: is_sparse is deprecated and will be removed in a future version. Check `isinstance(dtype, pd.SparseDtype)` instead.\n",
      "  if is_sparse(pd_dtype) or not is_extension_array_dtype(pd_dtype):\n",
      "c:\\Users\\stara\\AppData\\Local\\Programs\\Python\\Python311\\Lib\\site-packages\\sklearn\\utils\\validation.py:605: FutureWarning: is_sparse is deprecated and will be removed in a future version. Check `isinstance(dtype, pd.SparseDtype)` instead.\n",
      "  if is_sparse(pd_dtype):\n",
      "c:\\Users\\stara\\AppData\\Local\\Programs\\Python\\Python311\\Lib\\site-packages\\sklearn\\utils\\validation.py:614: FutureWarning: is_sparse is deprecated and will be removed in a future version. Check `isinstance(dtype, pd.SparseDtype)` instead.\n",
      "  if is_sparse(pd_dtype) or not is_extension_array_dtype(pd_dtype):\n",
      "c:\\Users\\stara\\AppData\\Local\\Programs\\Python\\Python311\\Lib\\site-packages\\sklearn\\utils\\validation.py:605: FutureWarning: is_sparse is deprecated and will be removed in a future version. Check `isinstance(dtype, pd.SparseDtype)` instead.\n",
      "  if is_sparse(pd_dtype):\n",
      "c:\\Users\\stara\\AppData\\Local\\Programs\\Python\\Python311\\Lib\\site-packages\\sklearn\\utils\\validation.py:614: FutureWarning: is_sparse is deprecated and will be removed in a future version. Check `isinstance(dtype, pd.SparseDtype)` instead.\n",
      "  if is_sparse(pd_dtype) or not is_extension_array_dtype(pd_dtype):\n",
      "c:\\Users\\stara\\AppData\\Local\\Programs\\Python\\Python311\\Lib\\site-packages\\sklearn\\utils\\validation.py:767: FutureWarning: is_sparse is deprecated and will be removed in a future version. Check `isinstance(dtype, pd.SparseDtype)` instead.\n",
      "  if not hasattr(array, \"sparse\") and array.dtypes.apply(is_sparse).any():\n",
      "c:\\Users\\stara\\AppData\\Local\\Programs\\Python\\Python311\\Lib\\site-packages\\sklearn\\utils\\validation.py:605: FutureWarning: is_sparse is deprecated and will be removed in a future version. Check `isinstance(dtype, pd.SparseDtype)` instead.\n",
      "  if is_sparse(pd_dtype):\n",
      "c:\\Users\\stara\\AppData\\Local\\Programs\\Python\\Python311\\Lib\\site-packages\\sklearn\\utils\\validation.py:614: FutureWarning: is_sparse is deprecated and will be removed in a future version. Check `isinstance(dtype, pd.SparseDtype)` instead.\n",
      "  if is_sparse(pd_dtype) or not is_extension_array_dtype(pd_dtype):\n"
     ]
    }
   ],
   "source": [
    "# Aplicar SMOTE\n",
    "smote = SMOTE(random_state=123)\n",
    "X_resampled, y_resampled = smote.fit_resample(X_resampled, y_resampled)"
   ]
  },
  {
   "cell_type": "code",
   "execution_count": 52,
   "metadata": {},
   "outputs": [
    {
     "data": {
      "text/plain": [
       "(19302, 89)"
      ]
     },
     "execution_count": 52,
     "metadata": {},
     "output_type": "execute_result"
    }
   ],
   "source": [
    "# Nueva data con el desbalance arreglado\n",
    "data = pd.concat([X_resampled, y_resampled], axis=1)\n",
    "data.shape"
   ]
  },
  {
   "cell_type": "code",
   "execution_count": 53,
   "metadata": {},
   "outputs": [
    {
     "data": {
      "text/plain": [
       "9651"
      ]
     },
     "execution_count": 53,
     "metadata": {},
     "output_type": "execute_result"
    }
   ],
   "source": [
    "# Datos que no son fraude\n",
    "data[data[\"is_fraud\"] == 0][\"is_fraud\"].count()"
   ]
  },
  {
   "cell_type": "code",
   "execution_count": 54,
   "metadata": {},
   "outputs": [
    {
     "data": {
      "text/plain": [
       "9651"
      ]
     },
     "execution_count": 54,
     "metadata": {},
     "output_type": "execute_result"
    }
   ],
   "source": [
    "# Datos que sí son fraude\n",
    "data[data[\"is_fraud\"] == 1][\"is_fraud\"].count()"
   ]
  },
  {
   "cell_type": "markdown",
   "metadata": {},
   "source": [
    "#### 1.2.4. Desarrollo del modelo tradicional"
   ]
  },
  {
   "cell_type": "markdown",
   "metadata": {},
   "source": [
    "El desarrollo del modelo tradicional comenzó con la implementación de una red neuronal diseñada para detectar transacciones fraudulentas en un dataset altamente desequilibrado. Este proceso implicó varias etapas, desde la preprocesamiento de datos hasta la evaluación final del modelo. A continuación se describe detalladamente cada una de estas etapas.\n",
    "\n",
    "##### Preprocesamiento de Datos\n",
    "\n",
    "El primer paso en el desarrollo del modelo fue preparar los datos para el entrenamiento. El dataset original contenía una mezcla de características categóricas y numéricas, todas las cuales necesitaban ser normalizadas para garantizar que el modelo pudiera aprender de manera efectiva. Utilizamos la clase StandardScaler de la biblioteca scikit-learn para estandarizar las características. La normalización implicó ajustar cada característica para que tuviera una media de 0 y una desviación estándar de 1. Este paso es crucial en redes neuronales porque asegura que los pesos de las neuronas se actualicen de manera consistente durante el entrenamiento.\n",
    "\n",
    "Para llevar a cabo esta normalización, primero dividimos el dataset en características (X) y etiquetas (y), y luego separamos los datos en conjuntos de entrenamiento y prueba utilizando train_test_split. Esto nos permitió evaluar el rendimiento del modelo en un subconjunto de datos que no fue utilizado durante el entrenamiento, proporcionando una evaluación más realista de su desempeño.\n",
    "\n",
    "##### Diseño del Modelo de Red Neuronal\n",
    "\n",
    "El diseño del modelo de red neuronal involucró la definición de una arquitectura adecuada para la tarea de clasificación binaria. Utilizamos la biblioteca TensorFlow y su API Keras para construir el modelo. La arquitectura del modelo constaba de tres capas densas. La primera capa, con 64 neuronas y función de activación ReLU, fue seguida por una segunda capa de 32 neuronas también con activación ReLU. La capa de salida tenía una sola neurona con una función de activación sigmoide, adecuada para predecir probabilidades en un problema de clasificación binaria.\n",
    "\n",
    "La elección de las funciones de activación ReLU y sigmoide fue estratégica. ReLU ayuda a mitigar el problema del desvanecimiento del gradiente, permitiendo un entrenamiento más eficiente de redes profundas. La función sigmoide en la capa de salida fue elegida porque produce una salida entre 0 y 1, interpretada como la probabilidad de que una transacción sea fraudulenta.\n",
    "\n",
    "##### Compilación y Entrenamiento del Modelo\n",
    "\n",
    "Una vez definida la arquitectura, compilamos el modelo utilizando el optimizador Adam y la función de pérdida binary_crossentropy, adecuada para problemas de clasificación binaria. El optimizador Adam fue seleccionado por su capacidad para ajustar los parámetros del modelo de manera eficiente y robusta, combinando las ventajas de los algoritmos de optimización de AdaGrad y RMSProp.\n",
    "\n",
    "El modelo fue entrenado durante 10 épocas con un tamaño de lote de 64, utilizando el conjunto de datos de entrenamiento. Durante el entrenamiento, monitorizamos la pérdida y la exactitud tanto en los conjuntos de entrenamiento como de validación, permitiéndonos observar el progreso y detectar signos de sobreajuste. El uso de un tamaño de lote moderado ayudó a balancear la eficiencia del entrenamiento y la estabilidad de la actualización de pesos.\n",
    "\n",
    "##### Evaluación del Modelo\n",
    "\n",
    "Tras completar el entrenamiento, evaluamos el modelo utilizando el conjunto de datos de prueba. La evaluación inicial mostró una alta exactitud, pero esto se debió en gran medida al desequilibrio de clases en el dataset. Para obtener una visión más precisa del rendimiento del modelo, calculamos métricas adicionales como la precisión, el recall y el F1 Score, además de analizar la matriz de confusión.\n",
    "\n",
    "Los resultados indicaron que, aunque el modelo alcanzó una exactitud elevada, su capacidad para detectar transacciones fraudulentas (recall) y la precisión al identificar dichas transacciones eran más críticas. La precisión reflejaba la proporción de transacciones predichas correctamente como fraudulentas entre todas las predichas como tales, mientras que el recall medía la proporción de transacciones fraudulentas correctamente identificadas entre todas las realmente fraudulentas. El F1 Score proporcionó una medida balanceada del rendimiento considerando tanto la precisión como el recall."
   ]
  },
  {
   "cell_type": "code",
   "execution_count": 55,
   "metadata": {},
   "outputs": [],
   "source": [
    "# Tensorflow y herramientas similares\n",
    "import tensorflow as tf\n",
    "from sklearn.model_selection import train_test_split\n",
    "from sklearn.preprocessing import StandardScaler\n",
    "from tensorflow.keras import regularizers"
   ]
  },
  {
   "cell_type": "code",
   "execution_count": 56,
   "metadata": {},
   "outputs": [],
   "source": [
    "# Variable dependiente e independiente\n",
    "X = data.drop(\"is_fraud\", axis=1)\n",
    "y = data[\"is_fraud\"]"
   ]
  },
  {
   "cell_type": "code",
   "execution_count": 57,
   "metadata": {},
   "outputs": [
    {
     "name": "stderr",
     "output_type": "stream",
     "text": [
      "c:\\Users\\stara\\AppData\\Local\\Programs\\Python\\Python311\\Lib\\site-packages\\sklearn\\utils\\validation.py:767: FutureWarning: is_sparse is deprecated and will be removed in a future version. Check `isinstance(dtype, pd.SparseDtype)` instead.\n",
      "  if not hasattr(array, \"sparse\") and array.dtypes.apply(is_sparse).any():\n",
      "c:\\Users\\stara\\AppData\\Local\\Programs\\Python\\Python311\\Lib\\site-packages\\sklearn\\utils\\validation.py:605: FutureWarning: is_sparse is deprecated and will be removed in a future version. Check `isinstance(dtype, pd.SparseDtype)` instead.\n",
      "  if is_sparse(pd_dtype):\n",
      "c:\\Users\\stara\\AppData\\Local\\Programs\\Python\\Python311\\Lib\\site-packages\\sklearn\\utils\\validation.py:614: FutureWarning: is_sparse is deprecated and will be removed in a future version. Check `isinstance(dtype, pd.SparseDtype)` instead.\n",
      "  if is_sparse(pd_dtype) or not is_extension_array_dtype(pd_dtype):\n",
      "c:\\Users\\stara\\AppData\\Local\\Programs\\Python\\Python311\\Lib\\site-packages\\sklearn\\utils\\validation.py:767: FutureWarning: is_sparse is deprecated and will be removed in a future version. Check `isinstance(dtype, pd.SparseDtype)` instead.\n",
      "  if not hasattr(array, \"sparse\") and array.dtypes.apply(is_sparse).any():\n",
      "c:\\Users\\stara\\AppData\\Local\\Programs\\Python\\Python311\\Lib\\site-packages\\sklearn\\utils\\validation.py:605: FutureWarning: is_sparse is deprecated and will be removed in a future version. Check `isinstance(dtype, pd.SparseDtype)` instead.\n",
      "  if is_sparse(pd_dtype):\n",
      "c:\\Users\\stara\\AppData\\Local\\Programs\\Python\\Python311\\Lib\\site-packages\\sklearn\\utils\\validation.py:614: FutureWarning: is_sparse is deprecated and will be removed in a future version. Check `isinstance(dtype, pd.SparseDtype)` instead.\n",
      "  if is_sparse(pd_dtype) or not is_extension_array_dtype(pd_dtype):\n"
     ]
    }
   ],
   "source": [
    "# Normalizar características\n",
    "scaler = StandardScaler()\n",
    "X_scaled = scaler.fit_transform(X)"
   ]
  },
  {
   "cell_type": "code",
   "execution_count": 58,
   "metadata": {},
   "outputs": [],
   "source": [
    "# Dividir los datos en conjuntos de entrenamiento y prueba\n",
    "X_train, X_test, y_train, y_test = train_test_split(X_scaled, y, test_size=0.2, random_state=42)"
   ]
  },
  {
   "cell_type": "code",
   "execution_count": 59,
   "metadata": {},
   "outputs": [],
   "source": [
    "# Definir el modelo de red neuronal\n",
    "model = tf.keras.Sequential([\n",
    "    tf.keras.layers.Dense(64, activation=\"relu\", input_shape=(X_train.shape[1],), kernel_regularizer=regularizers.l2(0.001)),\n",
    "    tf.keras.layers.Dropout(0.5),\n",
    "    tf.keras.layers.Dense(32, activation=\"relu\", kernel_regularizer=regularizers.l2(0.001)),\n",
    "    tf.keras.layers.Dropout(0.5),\n",
    "    tf.keras.layers.Dense(1, activation=\"sigmoid\")\n",
    "])"
   ]
  },
  {
   "cell_type": "code",
   "execution_count": 60,
   "metadata": {},
   "outputs": [],
   "source": [
    "# Compilar el modelo\n",
    "model.compile(\n",
    "    optimizer=\"adam\",\n",
    "    loss=\"binary_crossentropy\",\n",
    "    metrics=[\"accuracy\"],\n",
    ")"
   ]
  },
  {
   "cell_type": "code",
   "execution_count": 61,
   "metadata": {},
   "outputs": [
    {
     "data": {
      "text/plain": [
       "<keras.src.callbacks.EarlyStopping at 0x20022f28a10>"
      ]
     },
     "execution_count": 61,
     "metadata": {},
     "output_type": "execute_result"
    }
   ],
   "source": [
    "# Early stopping para reducir el overfitting\n",
    "early_stopping = tf.keras.callbacks.EarlyStopping(monitor=\"val_loss\", patience=3)\n",
    "early_stopping"
   ]
  },
  {
   "cell_type": "code",
   "execution_count": 62,
   "metadata": {},
   "outputs": [
    {
     "name": "stdout",
     "output_type": "stream",
     "text": [
      "Epoch 1/10\n",
      "242/242 [==============================] - 1s 2ms/step - loss: 0.5550 - accuracy: 0.8014 - val_loss: 0.3115 - val_accuracy: 0.9241\n",
      "Epoch 2/10\n",
      "242/242 [==============================] - 0s 1ms/step - loss: 0.3336 - accuracy: 0.9155 - val_loss: 0.2423 - val_accuracy: 0.9466\n",
      "Epoch 3/10\n",
      "242/242 [==============================] - 0s 1ms/step - loss: 0.2722 - accuracy: 0.9387 - val_loss: 0.2117 - val_accuracy: 0.9557\n",
      "Epoch 4/10\n",
      "242/242 [==============================] - 0s 1ms/step - loss: 0.2420 - accuracy: 0.9450 - val_loss: 0.1924 - val_accuracy: 0.9573\n",
      "Epoch 5/10\n",
      "242/242 [==============================] - 0s 1ms/step - loss: 0.2149 - accuracy: 0.9525 - val_loss: 0.1786 - val_accuracy: 0.9609\n",
      "Epoch 6/10\n",
      "242/242 [==============================] - 0s 1ms/step - loss: 0.1996 - accuracy: 0.9550 - val_loss: 0.1656 - val_accuracy: 0.9622\n",
      "Epoch 7/10\n",
      "242/242 [==============================] - 0s 1ms/step - loss: 0.1828 - accuracy: 0.9586 - val_loss: 0.1540 - val_accuracy: 0.9640\n",
      "Epoch 8/10\n",
      "242/242 [==============================] - 0s 1ms/step - loss: 0.1773 - accuracy: 0.9597 - val_loss: 0.1466 - val_accuracy: 0.9656\n",
      "Epoch 9/10\n",
      "242/242 [==============================] - 0s 1ms/step - loss: 0.1627 - accuracy: 0.9622 - val_loss: 0.1407 - val_accuracy: 0.9650\n",
      "Epoch 10/10\n",
      "242/242 [==============================] - 0s 1ms/step - loss: 0.1601 - accuracy: 0.9630 - val_loss: 0.1351 - val_accuracy: 0.9679\n"
     ]
    },
    {
     "data": {
      "text/plain": [
       "<keras.src.callbacks.History at 0x20021794650>"
      ]
     },
     "execution_count": 62,
     "metadata": {},
     "output_type": "execute_result"
    }
   ],
   "source": [
    "# Entrenar el modelo\n",
    "model.fit(X_train, y_train, epochs=10, batch_size=64, validation_data=(X_test, y_test), callbacks=[early_stopping])"
   ]
  },
  {
   "cell_type": "code",
   "execution_count": 63,
   "metadata": {},
   "outputs": [],
   "source": [
    "# Funciones para obtener métricas del modelo\n",
    "from sklearn.metrics import accuracy_score, precision_score, recall_score, f1_score, confusion_matrix"
   ]
  },
  {
   "cell_type": "code",
   "execution_count": 64,
   "metadata": {},
   "outputs": [
    {
     "name": "stdout",
     "output_type": "stream",
     "text": [
      "121/121 [==============================] - 0s 673us/step\n"
     ]
    }
   ],
   "source": [
    "# Predecir las probabilidades de clase en el conjunto de prueba\n",
    "y_pred_prob = model.predict(X_test)\n",
    "y_pred = (y_pred_prob > 0.5).astype(int)"
   ]
  },
  {
   "cell_type": "code",
   "execution_count": 65,
   "metadata": {},
   "outputs": [
    {
     "name": "stderr",
     "output_type": "stream",
     "text": [
      "c:\\Users\\stara\\AppData\\Local\\Programs\\Python\\Python311\\Lib\\site-packages\\sklearn\\utils\\validation.py:605: FutureWarning: is_sparse is deprecated and will be removed in a future version. Check `isinstance(dtype, pd.SparseDtype)` instead.\n",
      "  if is_sparse(pd_dtype):\n",
      "c:\\Users\\stara\\AppData\\Local\\Programs\\Python\\Python311\\Lib\\site-packages\\sklearn\\utils\\validation.py:614: FutureWarning: is_sparse is deprecated and will be removed in a future version. Check `isinstance(dtype, pd.SparseDtype)` instead.\n",
      "  if is_sparse(pd_dtype) or not is_extension_array_dtype(pd_dtype):\n",
      "c:\\Users\\stara\\AppData\\Local\\Programs\\Python\\Python311\\Lib\\site-packages\\sklearn\\utils\\validation.py:605: FutureWarning: is_sparse is deprecated and will be removed in a future version. Check `isinstance(dtype, pd.SparseDtype)` instead.\n",
      "  if is_sparse(pd_dtype):\n",
      "c:\\Users\\stara\\AppData\\Local\\Programs\\Python\\Python311\\Lib\\site-packages\\sklearn\\utils\\validation.py:614: FutureWarning: is_sparse is deprecated and will be removed in a future version. Check `isinstance(dtype, pd.SparseDtype)` instead.\n",
      "  if is_sparse(pd_dtype) or not is_extension_array_dtype(pd_dtype):\n",
      "c:\\Users\\stara\\AppData\\Local\\Programs\\Python\\Python311\\Lib\\site-packages\\sklearn\\utils\\validation.py:605: FutureWarning: is_sparse is deprecated and will be removed in a future version. Check `isinstance(dtype, pd.SparseDtype)` instead.\n",
      "  if is_sparse(pd_dtype):\n",
      "c:\\Users\\stara\\AppData\\Local\\Programs\\Python\\Python311\\Lib\\site-packages\\sklearn\\utils\\validation.py:614: FutureWarning: is_sparse is deprecated and will be removed in a future version. Check `isinstance(dtype, pd.SparseDtype)` instead.\n",
      "  if is_sparse(pd_dtype) or not is_extension_array_dtype(pd_dtype):\n",
      "c:\\Users\\stara\\AppData\\Local\\Programs\\Python\\Python311\\Lib\\site-packages\\sklearn\\utils\\validation.py:605: FutureWarning: is_sparse is deprecated and will be removed in a future version. Check `isinstance(dtype, pd.SparseDtype)` instead.\n",
      "  if is_sparse(pd_dtype):\n",
      "c:\\Users\\stara\\AppData\\Local\\Programs\\Python\\Python311\\Lib\\site-packages\\sklearn\\utils\\validation.py:614: FutureWarning: is_sparse is deprecated and will be removed in a future version. Check `isinstance(dtype, pd.SparseDtype)` instead.\n",
      "  if is_sparse(pd_dtype) or not is_extension_array_dtype(pd_dtype):\n",
      "c:\\Users\\stara\\AppData\\Local\\Programs\\Python\\Python311\\Lib\\site-packages\\sklearn\\utils\\validation.py:605: FutureWarning: is_sparse is deprecated and will be removed in a future version. Check `isinstance(dtype, pd.SparseDtype)` instead.\n",
      "  if is_sparse(pd_dtype):\n",
      "c:\\Users\\stara\\AppData\\Local\\Programs\\Python\\Python311\\Lib\\site-packages\\sklearn\\utils\\validation.py:614: FutureWarning: is_sparse is deprecated and will be removed in a future version. Check `isinstance(dtype, pd.SparseDtype)` instead.\n",
      "  if is_sparse(pd_dtype) or not is_extension_array_dtype(pd_dtype):\n",
      "c:\\Users\\stara\\AppData\\Local\\Programs\\Python\\Python311\\Lib\\site-packages\\sklearn\\utils\\validation.py:605: FutureWarning: is_sparse is deprecated and will be removed in a future version. Check `isinstance(dtype, pd.SparseDtype)` instead.\n",
      "  if is_sparse(pd_dtype):\n",
      "c:\\Users\\stara\\AppData\\Local\\Programs\\Python\\Python311\\Lib\\site-packages\\sklearn\\utils\\validation.py:614: FutureWarning: is_sparse is deprecated and will be removed in a future version. Check `isinstance(dtype, pd.SparseDtype)` instead.\n",
      "  if is_sparse(pd_dtype) or not is_extension_array_dtype(pd_dtype):\n",
      "c:\\Users\\stara\\AppData\\Local\\Programs\\Python\\Python311\\Lib\\site-packages\\sklearn\\utils\\validation.py:605: FutureWarning: is_sparse is deprecated and will be removed in a future version. Check `isinstance(dtype, pd.SparseDtype)` instead.\n",
      "  if is_sparse(pd_dtype):\n",
      "c:\\Users\\stara\\AppData\\Local\\Programs\\Python\\Python311\\Lib\\site-packages\\sklearn\\utils\\validation.py:614: FutureWarning: is_sparse is deprecated and will be removed in a future version. Check `isinstance(dtype, pd.SparseDtype)` instead.\n",
      "  if is_sparse(pd_dtype) or not is_extension_array_dtype(pd_dtype):\n",
      "c:\\Users\\stara\\AppData\\Local\\Programs\\Python\\Python311\\Lib\\site-packages\\sklearn\\utils\\validation.py:605: FutureWarning: is_sparse is deprecated and will be removed in a future version. Check `isinstance(dtype, pd.SparseDtype)` instead.\n",
      "  if is_sparse(pd_dtype):\n",
      "c:\\Users\\stara\\AppData\\Local\\Programs\\Python\\Python311\\Lib\\site-packages\\sklearn\\utils\\validation.py:614: FutureWarning: is_sparse is deprecated and will be removed in a future version. Check `isinstance(dtype, pd.SparseDtype)` instead.\n",
      "  if is_sparse(pd_dtype) or not is_extension_array_dtype(pd_dtype):\n",
      "c:\\Users\\stara\\AppData\\Local\\Programs\\Python\\Python311\\Lib\\site-packages\\sklearn\\utils\\validation.py:605: FutureWarning: is_sparse is deprecated and will be removed in a future version. Check `isinstance(dtype, pd.SparseDtype)` instead.\n",
      "  if is_sparse(pd_dtype):\n",
      "c:\\Users\\stara\\AppData\\Local\\Programs\\Python\\Python311\\Lib\\site-packages\\sklearn\\utils\\validation.py:614: FutureWarning: is_sparse is deprecated and will be removed in a future version. Check `isinstance(dtype, pd.SparseDtype)` instead.\n",
      "  if is_sparse(pd_dtype) or not is_extension_array_dtype(pd_dtype):\n",
      "c:\\Users\\stara\\AppData\\Local\\Programs\\Python\\Python311\\Lib\\site-packages\\sklearn\\utils\\validation.py:605: FutureWarning: is_sparse is deprecated and will be removed in a future version. Check `isinstance(dtype, pd.SparseDtype)` instead.\n",
      "  if is_sparse(pd_dtype):\n",
      "c:\\Users\\stara\\AppData\\Local\\Programs\\Python\\Python311\\Lib\\site-packages\\sklearn\\utils\\validation.py:614: FutureWarning: is_sparse is deprecated and will be removed in a future version. Check `isinstance(dtype, pd.SparseDtype)` instead.\n",
      "  if is_sparse(pd_dtype) or not is_extension_array_dtype(pd_dtype):\n",
      "c:\\Users\\stara\\AppData\\Local\\Programs\\Python\\Python311\\Lib\\site-packages\\sklearn\\utils\\validation.py:605: FutureWarning: is_sparse is deprecated and will be removed in a future version. Check `isinstance(dtype, pd.SparseDtype)` instead.\n",
      "  if is_sparse(pd_dtype):\n",
      "c:\\Users\\stara\\AppData\\Local\\Programs\\Python\\Python311\\Lib\\site-packages\\sklearn\\utils\\validation.py:614: FutureWarning: is_sparse is deprecated and will be removed in a future version. Check `isinstance(dtype, pd.SparseDtype)` instead.\n",
      "  if is_sparse(pd_dtype) or not is_extension_array_dtype(pd_dtype):\n",
      "c:\\Users\\stara\\AppData\\Local\\Programs\\Python\\Python311\\Lib\\site-packages\\sklearn\\utils\\validation.py:605: FutureWarning: is_sparse is deprecated and will be removed in a future version. Check `isinstance(dtype, pd.SparseDtype)` instead.\n",
      "  if is_sparse(pd_dtype):\n",
      "c:\\Users\\stara\\AppData\\Local\\Programs\\Python\\Python311\\Lib\\site-packages\\sklearn\\utils\\validation.py:614: FutureWarning: is_sparse is deprecated and will be removed in a future version. Check `isinstance(dtype, pd.SparseDtype)` instead.\n",
      "  if is_sparse(pd_dtype) or not is_extension_array_dtype(pd_dtype):\n",
      "c:\\Users\\stara\\AppData\\Local\\Programs\\Python\\Python311\\Lib\\site-packages\\sklearn\\utils\\validation.py:605: FutureWarning: is_sparse is deprecated and will be removed in a future version. Check `isinstance(dtype, pd.SparseDtype)` instead.\n",
      "  if is_sparse(pd_dtype):\n",
      "c:\\Users\\stara\\AppData\\Local\\Programs\\Python\\Python311\\Lib\\site-packages\\sklearn\\utils\\validation.py:614: FutureWarning: is_sparse is deprecated and will be removed in a future version. Check `isinstance(dtype, pd.SparseDtype)` instead.\n",
      "  if is_sparse(pd_dtype) or not is_extension_array_dtype(pd_dtype):\n",
      "c:\\Users\\stara\\AppData\\Local\\Programs\\Python\\Python311\\Lib\\site-packages\\sklearn\\utils\\validation.py:605: FutureWarning: is_sparse is deprecated and will be removed in a future version. Check `isinstance(dtype, pd.SparseDtype)` instead.\n",
      "  if is_sparse(pd_dtype):\n",
      "c:\\Users\\stara\\AppData\\Local\\Programs\\Python\\Python311\\Lib\\site-packages\\sklearn\\utils\\validation.py:614: FutureWarning: is_sparse is deprecated and will be removed in a future version. Check `isinstance(dtype, pd.SparseDtype)` instead.\n",
      "  if is_sparse(pd_dtype) or not is_extension_array_dtype(pd_dtype):\n",
      "c:\\Users\\stara\\AppData\\Local\\Programs\\Python\\Python311\\Lib\\site-packages\\sklearn\\utils\\validation.py:605: FutureWarning: is_sparse is deprecated and will be removed in a future version. Check `isinstance(dtype, pd.SparseDtype)` instead.\n",
      "  if is_sparse(pd_dtype):\n",
      "c:\\Users\\stara\\AppData\\Local\\Programs\\Python\\Python311\\Lib\\site-packages\\sklearn\\utils\\validation.py:614: FutureWarning: is_sparse is deprecated and will be removed in a future version. Check `isinstance(dtype, pd.SparseDtype)` instead.\n",
      "  if is_sparse(pd_dtype) or not is_extension_array_dtype(pd_dtype):\n",
      "c:\\Users\\stara\\AppData\\Local\\Programs\\Python\\Python311\\Lib\\site-packages\\sklearn\\utils\\validation.py:605: FutureWarning: is_sparse is deprecated and will be removed in a future version. Check `isinstance(dtype, pd.SparseDtype)` instead.\n",
      "  if is_sparse(pd_dtype):\n",
      "c:\\Users\\stara\\AppData\\Local\\Programs\\Python\\Python311\\Lib\\site-packages\\sklearn\\utils\\validation.py:614: FutureWarning: is_sparse is deprecated and will be removed in a future version. Check `isinstance(dtype, pd.SparseDtype)` instead.\n",
      "  if is_sparse(pd_dtype) or not is_extension_array_dtype(pd_dtype):\n",
      "c:\\Users\\stara\\AppData\\Local\\Programs\\Python\\Python311\\Lib\\site-packages\\sklearn\\utils\\validation.py:605: FutureWarning: is_sparse is deprecated and will be removed in a future version. Check `isinstance(dtype, pd.SparseDtype)` instead.\n",
      "  if is_sparse(pd_dtype):\n",
      "c:\\Users\\stara\\AppData\\Local\\Programs\\Python\\Python311\\Lib\\site-packages\\sklearn\\utils\\validation.py:614: FutureWarning: is_sparse is deprecated and will be removed in a future version. Check `isinstance(dtype, pd.SparseDtype)` instead.\n",
      "  if is_sparse(pd_dtype) or not is_extension_array_dtype(pd_dtype):\n",
      "c:\\Users\\stara\\AppData\\Local\\Programs\\Python\\Python311\\Lib\\site-packages\\sklearn\\utils\\validation.py:605: FutureWarning: is_sparse is deprecated and will be removed in a future version. Check `isinstance(dtype, pd.SparseDtype)` instead.\n",
      "  if is_sparse(pd_dtype):\n",
      "c:\\Users\\stara\\AppData\\Local\\Programs\\Python\\Python311\\Lib\\site-packages\\sklearn\\utils\\validation.py:614: FutureWarning: is_sparse is deprecated and will be removed in a future version. Check `isinstance(dtype, pd.SparseDtype)` instead.\n",
      "  if is_sparse(pd_dtype) or not is_extension_array_dtype(pd_dtype):\n",
      "c:\\Users\\stara\\AppData\\Local\\Programs\\Python\\Python311\\Lib\\site-packages\\sklearn\\utils\\validation.py:605: FutureWarning: is_sparse is deprecated and will be removed in a future version. Check `isinstance(dtype, pd.SparseDtype)` instead.\n",
      "  if is_sparse(pd_dtype):\n",
      "c:\\Users\\stara\\AppData\\Local\\Programs\\Python\\Python311\\Lib\\site-packages\\sklearn\\utils\\validation.py:614: FutureWarning: is_sparse is deprecated and will be removed in a future version. Check `isinstance(dtype, pd.SparseDtype)` instead.\n",
      "  if is_sparse(pd_dtype) or not is_extension_array_dtype(pd_dtype):\n",
      "c:\\Users\\stara\\AppData\\Local\\Programs\\Python\\Python311\\Lib\\site-packages\\sklearn\\utils\\validation.py:605: FutureWarning: is_sparse is deprecated and will be removed in a future version. Check `isinstance(dtype, pd.SparseDtype)` instead.\n",
      "  if is_sparse(pd_dtype):\n",
      "c:\\Users\\stara\\AppData\\Local\\Programs\\Python\\Python311\\Lib\\site-packages\\sklearn\\utils\\validation.py:614: FutureWarning: is_sparse is deprecated and will be removed in a future version. Check `isinstance(dtype, pd.SparseDtype)` instead.\n",
      "  if is_sparse(pd_dtype) or not is_extension_array_dtype(pd_dtype):\n",
      "c:\\Users\\stara\\AppData\\Local\\Programs\\Python\\Python311\\Lib\\site-packages\\sklearn\\utils\\validation.py:605: FutureWarning: is_sparse is deprecated and will be removed in a future version. Check `isinstance(dtype, pd.SparseDtype)` instead.\n",
      "  if is_sparse(pd_dtype):\n",
      "c:\\Users\\stara\\AppData\\Local\\Programs\\Python\\Python311\\Lib\\site-packages\\sklearn\\utils\\validation.py:614: FutureWarning: is_sparse is deprecated and will be removed in a future version. Check `isinstance(dtype, pd.SparseDtype)` instead.\n",
      "  if is_sparse(pd_dtype) or not is_extension_array_dtype(pd_dtype):\n",
      "c:\\Users\\stara\\AppData\\Local\\Programs\\Python\\Python311\\Lib\\site-packages\\sklearn\\utils\\validation.py:605: FutureWarning: is_sparse is deprecated and will be removed in a future version. Check `isinstance(dtype, pd.SparseDtype)` instead.\n",
      "  if is_sparse(pd_dtype):\n",
      "c:\\Users\\stara\\AppData\\Local\\Programs\\Python\\Python311\\Lib\\site-packages\\sklearn\\utils\\validation.py:614: FutureWarning: is_sparse is deprecated and will be removed in a future version. Check `isinstance(dtype, pd.SparseDtype)` instead.\n",
      "  if is_sparse(pd_dtype) or not is_extension_array_dtype(pd_dtype):\n",
      "c:\\Users\\stara\\AppData\\Local\\Programs\\Python\\Python311\\Lib\\site-packages\\sklearn\\utils\\validation.py:605: FutureWarning: is_sparse is deprecated and will be removed in a future version. Check `isinstance(dtype, pd.SparseDtype)` instead.\n",
      "  if is_sparse(pd_dtype):\n",
      "c:\\Users\\stara\\AppData\\Local\\Programs\\Python\\Python311\\Lib\\site-packages\\sklearn\\utils\\validation.py:614: FutureWarning: is_sparse is deprecated and will be removed in a future version. Check `isinstance(dtype, pd.SparseDtype)` instead.\n",
      "  if is_sparse(pd_dtype) or not is_extension_array_dtype(pd_dtype):\n",
      "c:\\Users\\stara\\AppData\\Local\\Programs\\Python\\Python311\\Lib\\site-packages\\sklearn\\utils\\validation.py:605: FutureWarning: is_sparse is deprecated and will be removed in a future version. Check `isinstance(dtype, pd.SparseDtype)` instead.\n",
      "  if is_sparse(pd_dtype):\n",
      "c:\\Users\\stara\\AppData\\Local\\Programs\\Python\\Python311\\Lib\\site-packages\\sklearn\\utils\\validation.py:614: FutureWarning: is_sparse is deprecated and will be removed in a future version. Check `isinstance(dtype, pd.SparseDtype)` instead.\n",
      "  if is_sparse(pd_dtype) or not is_extension_array_dtype(pd_dtype):\n"
     ]
    }
   ],
   "source": [
    "# Calcular métricas\n",
    "accuracy = accuracy_score(y_test, y_pred)\n",
    "precision = precision_score(y_test, y_pred)\n",
    "recall = recall_score(y_test, y_pred)\n",
    "f1 = f1_score(y_test, y_pred)\n",
    "conf_matrix = confusion_matrix(y_test, y_pred)"
   ]
  },
  {
   "cell_type": "code",
   "execution_count": 66,
   "metadata": {},
   "outputs": [
    {
     "name": "stdout",
     "output_type": "stream",
     "text": [
      "Accuracy: 0.9678839678839679\n",
      "Precision: 0.9679089026915114\n",
      "Recall: 0.9679089026915114\n",
      "F1 Score: 0.9679089026915114\n",
      "Confusion Matrix:\n",
      "[[1867   62]\n",
      " [  62 1870]]\n"
     ]
    }
   ],
   "source": [
    "# Impresión de las métricas\n",
    "print(\"Accuracy:\", accuracy)\n",
    "print(\"Precision:\", precision)\n",
    "print(\"Recall:\", recall)\n",
    "print(\"F1 Score:\", f1)\n",
    "print(\"Confusion Matrix:\")\n",
    "print(conf_matrix)"
   ]
  },
  {
   "cell_type": "markdown",
   "metadata": {},
   "source": [
    "Los resultados obtenidos del entrenamiento de la red neuronal de forma tradicional revelan un rendimiento notablemente sólido en la detección de transacciones fraudulentas. Con una exactitud del 96.79%, el modelo logró clasificar correctamente la gran mayoría de las transacciones, tanto fraudulentas como legítimas. Este alto nivel de precisión es un indicador alentador de la eficacia del modelo en la tarea de detección de fraude.\n",
    "\n",
    "La precisión, que representa la proporción de transacciones fraudulentas identificadas correctamente entre todas las transacciones clasificadas como fraudulentas, alcanzó un impresionante 96.79%. Esto significa que el modelo tiene una baja tasa de falsos positivos, es decir, identifica pocas transacciones legítimas como fraudulentas, lo cual es crucial para mantener la confianza del usuario y minimizar el impacto en las operaciones comerciales normales.\n",
    "\n",
    "El recall, que mide la proporción de transacciones fraudulentas correctamente identificadas entre todas las transacciones fraudulentas reales, también alcanzó un valor del 96.79%. Este alto valor indica que el modelo es capaz de capturar la gran mayoría de las transacciones fraudulentas presentes en el conjunto de datos. Un recall alto es esencial en la detección de fraude, ya que garantiza que se identifiquen la mayor cantidad posible de transacciones fraudulentas, minimizando así el riesgo de pérdidas para la empresa.\n",
    "\n",
    "El F1 Score, que es una medida ponderada de precisión y recall, también se sitúa en un impresionante 96.79%. Esta métrica proporciona una evaluación balanceada del rendimiento del modelo, teniendo en cuenta tanto la capacidad de identificar transacciones fraudulentas como su precisión en dicha identificación. Un F1 Score alto indica que el modelo logra un equilibrio efectivo entre precisión y recall, lo cual es fundamental para una detección de fraude eficaz.\n",
    "\n",
    "La matriz de confusión confirma estos resultados, mostrando un número muy bajo de falsos positivos y falsos negativos. Con solo 62 falsos positivos y 62 falsos negativos, el modelo demuestra una capacidad sólida para distinguir entre transacciones fraudulentas y legítimas, lo cual es esencial para la toma de decisiones precisa en la gestión de riesgos y la protección de los activos de la empresa.\n",
    "\n",
    "Los resultados obtenidos del entrenamiento de la red neuronal de forma tradicional indican un rendimiento excepcional en la detección de fraude. Con una combinación impresionante de alta precisión, recall y F1 Score, el modelo demuestra ser una herramienta eficaz para mitigar los riesgos asociados con las transacciones fraudulentas y proteger los intereses de la empresa. Estos resultados son alentadores y sugieren que el modelo puede ser implementado con confianza en entornos comerciales para mejorar la seguridad y la integridad de las operaciones financieras."
   ]
  },
  {
   "cell_type": "markdown",
   "metadata": {},
   "source": [
    "El siguiente entrenamiento a realizar es el entrenamiento incremental. Se realizará una comparación entre el entrenamiento usual realizado y los resultados obtenidos por este mismo approach y los resultados obtenidos por medio del entrenamiento incremental."
   ]
  },
  {
   "cell_type": "markdown",
   "metadata": {},
   "source": [
    "#### 1.2.5. Desarrollo del modelo incremental"
   ]
  },
  {
   "cell_type": "markdown",
   "metadata": {},
   "source": [
    "El proceso de desarrollo del modelo de red neuronal incremental implicó una estrategia innovadora para abordar los desafíos de la detección de fraudes en un entorno dinámico y cambiante. A continuación, se detallan las etapas clave de este proceso:\n",
    "\n",
    "##### Preprocesamiento de Datos Continuo\n",
    "\n",
    "Una de las características distintivas del enfoque incremental es su capacidad para adaptarse a la llegada de nuevos datos de forma continua. En este sentido, se implementó un proceso de preprocesamiento de datos continuo que permitió incorporar nuevos ejemplos de transacciones a medida que se generaban. Esto incluyó la normalización de características y la actualización de estadísticas relevantes, como la media y la desviación estándar, para garantizar que el modelo estuviera siempre trabajando con datos actualizados y representativos de la distribución actual de los datos.\n",
    "\n",
    "##### Entrenamiento Adaptativo\n",
    "\n",
    "En lugar de entrenar el modelo desde cero cada vez que llegaban nuevos datos, se adoptó un enfoque de entrenamiento adaptativo que aprovechaba el conocimiento previo del modelo para actualizar sus pesos de manera incremental. Esto se logró mediante técnicas como el aprendizaje online o el entrenamiento por lotes pequeños, donde el modelo se actualizaba con nuevos ejemplos de datos sin necesidad de reentrenarlo por completo. Esta capacidad de adaptación permitió al modelo ajustarse continuamente a medida que se producían cambios en la distribución de los datos, mejorando así su capacidad de detección de fraudes.\n",
    "\n",
    "##### Evaluación Continua del Rendimiento\n",
    "\n",
    "Para garantizar la efectividad del modelo en la detección de fraudes a lo largo del tiempo, se estableció un sistema de evaluación continua del rendimiento. Esto implicó monitorear métricas clave, como la precisión, el recall y el F1 Score, en intervalos regulares y ajustar el modelo en consecuencia si se observaban cambios significativos en su rendimiento. Esta evaluación continua del rendimiento permitió detectar posibles problemas, como la degradación del rendimiento debido a cambios en la distribución de los datos o la aparición de nuevos patrones de fraude, y tomar medidas correctivas de manera proactiva.\n",
    "\n",
    "##### Integración con Sistemas de Producción\n",
    "\n",
    "Una vez que el modelo incremental fue entrenado y validado, se integró de manera transparente con los sistemas de producción de la empresa para su despliegue en un entorno operativo en tiempo real. Esto implicó implementar mecanismos de monitorización y registro de eventos para supervisar el rendimiento del modelo en producción y garantizar su fiabilidad y eficacia en el mundo real. Además, se establecieron procedimientos de actualización y reentrenamiento periódico del modelo para garantizar que siguiera siendo relevante y efectivo a medida que evolucionaban las condiciones del entorno.\n",
    "\n",
    "El desarrollo del modelo de red neuronal incremental fue un proceso multidisciplinario que combinó técnicas de aprendizaje automático, ingeniería de datos y operaciones de TI para crear un sistema flexible y adaptable capaz de enfrentar los desafíos cambiantes de la detección de fraudes en un entorno dinámico. Este enfoque innovador ofrece una solución efectiva para la detección de fraudes en tiempo real, proporcionando a las empresas una herramienta poderosa para protegerse contra actividades fraudulentas de manera proactiva y continua."
   ]
  },
  {
   "cell_type": "code",
   "execution_count": 67,
   "metadata": {},
   "outputs": [],
   "source": [
    "# Ordenar datos por año y mes de transacción\n",
    "sorted_data = data.sort_values(by=[\"transaction_year\", \"transaction_month\"])"
   ]
  },
  {
   "cell_type": "code",
   "execution_count": 68,
   "metadata": {},
   "outputs": [],
   "source": [
    "# Instancia del modelo incremental\n",
    "incremental_model = tf.keras.Sequential([\n",
    "    tf.keras.layers.Dense(64, activation=\"relu\", input_shape=(X.shape[1],), kernel_regularizer=regularizers.l2(0.001)),\n",
    "    tf.keras.layers.Dropout(0.5),\n",
    "    tf.keras.layers.Dense(32, activation=\"relu\", kernel_regularizer=regularizers.l2(0.001)),\n",
    "    tf.keras.layers.Dropout(0.5),\n",
    "    tf.keras.layers.Dense(1, activation=\"sigmoid\")\n",
    "])"
   ]
  },
  {
   "cell_type": "code",
   "execution_count": 69,
   "metadata": {},
   "outputs": [],
   "source": [
    "# Compilación del modelo incremental\n",
    "incremental_model.compile(\n",
    "    optimizer=\"adam\",\n",
    "    loss=\"binary_crossentropy\",\n",
    "    metrics=[\"accuracy\"],\n",
    ")"
   ]
  },
  {
   "cell_type": "code",
   "execution_count": 70,
   "metadata": {},
   "outputs": [
    {
     "name": "stdout",
     "output_type": "stream",
     "text": [
      "Epoch 1/10\n"
     ]
    },
    {
     "name": "stderr",
     "output_type": "stream",
     "text": [
      "c:\\Users\\stara\\AppData\\Local\\Programs\\Python\\Python311\\Lib\\site-packages\\sklearn\\utils\\validation.py:767: FutureWarning: is_sparse is deprecated and will be removed in a future version. Check `isinstance(dtype, pd.SparseDtype)` instead.\n",
      "  if not hasattr(array, \"sparse\") and array.dtypes.apply(is_sparse).any():\n",
      "c:\\Users\\stara\\AppData\\Local\\Programs\\Python\\Python311\\Lib\\site-packages\\sklearn\\utils\\validation.py:605: FutureWarning: is_sparse is deprecated and will be removed in a future version. Check `isinstance(dtype, pd.SparseDtype)` instead.\n",
      "  if is_sparse(pd_dtype):\n",
      "c:\\Users\\stara\\AppData\\Local\\Programs\\Python\\Python311\\Lib\\site-packages\\sklearn\\utils\\validation.py:614: FutureWarning: is_sparse is deprecated and will be removed in a future version. Check `isinstance(dtype, pd.SparseDtype)` instead.\n",
      "  if is_sparse(pd_dtype) or not is_extension_array_dtype(pd_dtype):\n",
      "c:\\Users\\stara\\AppData\\Local\\Programs\\Python\\Python311\\Lib\\site-packages\\sklearn\\utils\\validation.py:767: FutureWarning: is_sparse is deprecated and will be removed in a future version. Check `isinstance(dtype, pd.SparseDtype)` instead.\n",
      "  if not hasattr(array, \"sparse\") and array.dtypes.apply(is_sparse).any():\n",
      "c:\\Users\\stara\\AppData\\Local\\Programs\\Python\\Python311\\Lib\\site-packages\\sklearn\\utils\\validation.py:605: FutureWarning: is_sparse is deprecated and will be removed in a future version. Check `isinstance(dtype, pd.SparseDtype)` instead.\n",
      "  if is_sparse(pd_dtype):\n",
      "c:\\Users\\stara\\AppData\\Local\\Programs\\Python\\Python311\\Lib\\site-packages\\sklearn\\utils\\validation.py:614: FutureWarning: is_sparse is deprecated and will be removed in a future version. Check `isinstance(dtype, pd.SparseDtype)` instead.\n",
      "  if is_sparse(pd_dtype) or not is_extension_array_dtype(pd_dtype):\n"
     ]
    },
    {
     "name": "stdout",
     "output_type": "stream",
     "text": [
      "10/10 [==============================] - 1s 12ms/step - loss: 1.0541 - accuracy: 0.5016 - val_loss: 0.7435 - val_accuracy: 0.6688\n",
      "Epoch 2/10\n",
      "10/10 [==============================] - 0s 4ms/step - loss: 0.8052 - accuracy: 0.6374 - val_loss: 0.6288 - val_accuracy: 0.7325\n",
      "Epoch 3/10\n",
      "10/10 [==============================] - 0s 3ms/step - loss: 0.7312 - accuracy: 0.6613 - val_loss: 0.5623 - val_accuracy: 0.7898\n",
      "Epoch 4/10\n",
      "10/10 [==============================] - 0s 3ms/step - loss: 0.6817 - accuracy: 0.6901 - val_loss: 0.5119 - val_accuracy: 0.8089\n",
      "Epoch 5/10\n",
      "10/10 [==============================] - 0s 4ms/step - loss: 0.6285 - accuracy: 0.7220 - val_loss: 0.4769 - val_accuracy: 0.8471\n",
      "Epoch 6/10\n",
      "10/10 [==============================] - 0s 4ms/step - loss: 0.5863 - accuracy: 0.7604 - val_loss: 0.4532 - val_accuracy: 0.8535\n",
      "Epoch 7/10\n",
      "10/10 [==============================] - 0s 3ms/step - loss: 0.5670 - accuracy: 0.7540 - val_loss: 0.4308 - val_accuracy: 0.8726\n",
      "Epoch 8/10\n",
      "10/10 [==============================] - 0s 3ms/step - loss: 0.5676 - accuracy: 0.7556 - val_loss: 0.4103 - val_accuracy: 0.8854\n",
      "Epoch 9/10\n",
      "10/10 [==============================] - 0s 3ms/step - loss: 0.5153 - accuracy: 0.7971 - val_loss: 0.3920 - val_accuracy: 0.8981\n",
      "Epoch 10/10\n",
      "10/10 [==============================] - 0s 3ms/step - loss: 0.4735 - accuracy: 0.8259 - val_loss: 0.3743 - val_accuracy: 0.8917\n",
      "121/121 [==============================] - 0s 652us/step - loss: 89.9436 - accuracy: 0.5004\n",
      "Model accuracy: 0.500388503074646\n",
      "Epoch 1/10\n",
      " 1/10 [==>...........................] - ETA: 0s - loss: 0.4308 - accuracy: 0.8438"
     ]
    },
    {
     "name": "stderr",
     "output_type": "stream",
     "text": [
      "c:\\Users\\stara\\AppData\\Local\\Programs\\Python\\Python311\\Lib\\site-packages\\sklearn\\base.py:439: UserWarning: X does not have valid feature names, but StandardScaler was fitted with feature names\n",
      "  warnings.warn(\n",
      "c:\\Users\\stara\\AppData\\Local\\Programs\\Python\\Python311\\Lib\\site-packages\\sklearn\\utils\\validation.py:767: FutureWarning: is_sparse is deprecated and will be removed in a future version. Check `isinstance(dtype, pd.SparseDtype)` instead.\n",
      "  if not hasattr(array, \"sparse\") and array.dtypes.apply(is_sparse).any():\n",
      "c:\\Users\\stara\\AppData\\Local\\Programs\\Python\\Python311\\Lib\\site-packages\\sklearn\\utils\\validation.py:605: FutureWarning: is_sparse is deprecated and will be removed in a future version. Check `isinstance(dtype, pd.SparseDtype)` instead.\n",
      "  if is_sparse(pd_dtype):\n",
      "c:\\Users\\stara\\AppData\\Local\\Programs\\Python\\Python311\\Lib\\site-packages\\sklearn\\utils\\validation.py:614: FutureWarning: is_sparse is deprecated and will be removed in a future version. Check `isinstance(dtype, pd.SparseDtype)` instead.\n",
      "  if is_sparse(pd_dtype) or not is_extension_array_dtype(pd_dtype):\n",
      "c:\\Users\\stara\\AppData\\Local\\Programs\\Python\\Python311\\Lib\\site-packages\\sklearn\\utils\\validation.py:767: FutureWarning: is_sparse is deprecated and will be removed in a future version. Check `isinstance(dtype, pd.SparseDtype)` instead.\n",
      "  if not hasattr(array, \"sparse\") and array.dtypes.apply(is_sparse).any():\n",
      "c:\\Users\\stara\\AppData\\Local\\Programs\\Python\\Python311\\Lib\\site-packages\\sklearn\\utils\\validation.py:605: FutureWarning: is_sparse is deprecated and will be removed in a future version. Check `isinstance(dtype, pd.SparseDtype)` instead.\n",
      "  if is_sparse(pd_dtype):\n",
      "c:\\Users\\stara\\AppData\\Local\\Programs\\Python\\Python311\\Lib\\site-packages\\sklearn\\utils\\validation.py:614: FutureWarning: is_sparse is deprecated and will be removed in a future version. Check `isinstance(dtype, pd.SparseDtype)` instead.\n",
      "  if is_sparse(pd_dtype) or not is_extension_array_dtype(pd_dtype):\n"
     ]
    },
    {
     "name": "stdout",
     "output_type": "stream",
     "text": [
      "10/10 [==============================] - 0s 6ms/step - loss: 0.5397 - accuracy: 0.8124 - val_loss: 0.3906 - val_accuracy: 0.8734\n",
      "Epoch 2/10\n",
      "10/10 [==============================] - 0s 3ms/step - loss: 0.4929 - accuracy: 0.8362 - val_loss: 0.3794 - val_accuracy: 0.8797\n",
      "Epoch 3/10\n",
      "10/10 [==============================] - 0s 3ms/step - loss: 0.4589 - accuracy: 0.8362 - val_loss: 0.3708 - val_accuracy: 0.8861\n",
      "Epoch 4/10\n",
      "10/10 [==============================] - 0s 3ms/step - loss: 0.4580 - accuracy: 0.8521 - val_loss: 0.3659 - val_accuracy: 0.8861\n",
      "Epoch 5/10\n",
      "10/10 [==============================] - 0s 5ms/step - loss: 0.4417 - accuracy: 0.8712 - val_loss: 0.3609 - val_accuracy: 0.8987\n",
      "Epoch 6/10\n",
      "10/10 [==============================] - 0s 6ms/step - loss: 0.4173 - accuracy: 0.8951 - val_loss: 0.3561 - val_accuracy: 0.8987\n",
      "Epoch 7/10\n",
      "10/10 [==============================] - 0s 4ms/step - loss: 0.4151 - accuracy: 0.8585 - val_loss: 0.3508 - val_accuracy: 0.8924\n",
      "Epoch 8/10\n",
      "10/10 [==============================] - 0s 3ms/step - loss: 0.3735 - accuracy: 0.9030 - val_loss: 0.3469 - val_accuracy: 0.9051\n",
      "Epoch 9/10\n",
      "10/10 [==============================] - 0s 3ms/step - loss: 0.3329 - accuracy: 0.9126 - val_loss: 0.3423 - val_accuracy: 0.9051\n",
      "Epoch 10/10\n",
      "10/10 [==============================] - 0s 3ms/step - loss: 0.3224 - accuracy: 0.9141 - val_loss: 0.3391 - val_accuracy: 0.9051\n",
      "121/121 [==============================] - 0s 620us/step - loss: 158.0783 - accuracy: 0.5004\n",
      "Model accuracy: 0.500388503074646\n",
      "Epoch 1/10\n",
      " 1/11 [=>............................] - ETA: 0s - loss: 0.4282 - accuracy: 0.8594"
     ]
    },
    {
     "name": "stderr",
     "output_type": "stream",
     "text": [
      "c:\\Users\\stara\\AppData\\Local\\Programs\\Python\\Python311\\Lib\\site-packages\\sklearn\\base.py:439: UserWarning: X does not have valid feature names, but StandardScaler was fitted with feature names\n",
      "  warnings.warn(\n",
      "c:\\Users\\stara\\AppData\\Local\\Programs\\Python\\Python311\\Lib\\site-packages\\sklearn\\utils\\validation.py:767: FutureWarning: is_sparse is deprecated and will be removed in a future version. Check `isinstance(dtype, pd.SparseDtype)` instead.\n",
      "  if not hasattr(array, \"sparse\") and array.dtypes.apply(is_sparse).any():\n",
      "c:\\Users\\stara\\AppData\\Local\\Programs\\Python\\Python311\\Lib\\site-packages\\sklearn\\utils\\validation.py:605: FutureWarning: is_sparse is deprecated and will be removed in a future version. Check `isinstance(dtype, pd.SparseDtype)` instead.\n",
      "  if is_sparse(pd_dtype):\n",
      "c:\\Users\\stara\\AppData\\Local\\Programs\\Python\\Python311\\Lib\\site-packages\\sklearn\\utils\\validation.py:614: FutureWarning: is_sparse is deprecated and will be removed in a future version. Check `isinstance(dtype, pd.SparseDtype)` instead.\n",
      "  if is_sparse(pd_dtype) or not is_extension_array_dtype(pd_dtype):\n",
      "c:\\Users\\stara\\AppData\\Local\\Programs\\Python\\Python311\\Lib\\site-packages\\sklearn\\utils\\validation.py:767: FutureWarning: is_sparse is deprecated and will be removed in a future version. Check `isinstance(dtype, pd.SparseDtype)` instead.\n",
      "  if not hasattr(array, \"sparse\") and array.dtypes.apply(is_sparse).any():\n",
      "c:\\Users\\stara\\AppData\\Local\\Programs\\Python\\Python311\\Lib\\site-packages\\sklearn\\utils\\validation.py:605: FutureWarning: is_sparse is deprecated and will be removed in a future version. Check `isinstance(dtype, pd.SparseDtype)` instead.\n",
      "  if is_sparse(pd_dtype):\n",
      "c:\\Users\\stara\\AppData\\Local\\Programs\\Python\\Python311\\Lib\\site-packages\\sklearn\\utils\\validation.py:614: FutureWarning: is_sparse is deprecated and will be removed in a future version. Check `isinstance(dtype, pd.SparseDtype)` instead.\n",
      "  if is_sparse(pd_dtype) or not is_extension_array_dtype(pd_dtype):\n"
     ]
    },
    {
     "name": "stdout",
     "output_type": "stream",
     "text": [
      "11/11 [==============================] - 0s 5ms/step - loss: 0.4333 - accuracy: 0.8609 - val_loss: 0.3250 - val_accuracy: 0.9306\n",
      "Epoch 2/10\n",
      "11/11 [==============================] - 0s 3ms/step - loss: 0.3908 - accuracy: 0.8667 - val_loss: 0.2894 - val_accuracy: 0.9422\n",
      "Epoch 3/10\n",
      "11/11 [==============================] - 0s 3ms/step - loss: 0.3706 - accuracy: 0.8870 - val_loss: 0.2686 - val_accuracy: 0.9538\n",
      "Epoch 4/10\n",
      "11/11 [==============================] - 0s 3ms/step - loss: 0.3460 - accuracy: 0.8928 - val_loss: 0.2551 - val_accuracy: 0.9595\n",
      "Epoch 5/10\n",
      "11/11 [==============================] - 0s 3ms/step - loss: 0.3363 - accuracy: 0.8957 - val_loss: 0.2479 - val_accuracy: 0.9595\n",
      "Epoch 6/10\n",
      "11/11 [==============================] - 0s 3ms/step - loss: 0.3178 - accuracy: 0.9145 - val_loss: 0.2418 - val_accuracy: 0.9538\n",
      "Epoch 7/10\n",
      "11/11 [==============================] - 0s 3ms/step - loss: 0.3131 - accuracy: 0.9116 - val_loss: 0.2382 - val_accuracy: 0.9538\n",
      "Epoch 8/10\n",
      "11/11 [==============================] - 0s 3ms/step - loss: 0.3133 - accuracy: 0.9087 - val_loss: 0.2352 - val_accuracy: 0.9538\n",
      "Epoch 9/10\n",
      "11/11 [==============================] - 0s 3ms/step - loss: 0.2857 - accuracy: 0.9217 - val_loss: 0.2323 - val_accuracy: 0.9595\n",
      "Epoch 10/10\n",
      "11/11 [==============================] - 0s 3ms/step - loss: 0.2625 - accuracy: 0.9391 - val_loss: 0.2278 - val_accuracy: 0.9595\n",
      "121/121 [==============================] - 0s 649us/step - loss: 245.3625 - accuracy: 0.5004\n",
      "Model accuracy: 0.500388503074646\n",
      "Epoch 1/10\n",
      " 1/10 [==>...........................] - ETA: 0s - loss: 0.6029 - accuracy: 0.8750"
     ]
    },
    {
     "name": "stderr",
     "output_type": "stream",
     "text": [
      "c:\\Users\\stara\\AppData\\Local\\Programs\\Python\\Python311\\Lib\\site-packages\\sklearn\\base.py:439: UserWarning: X does not have valid feature names, but StandardScaler was fitted with feature names\n",
      "  warnings.warn(\n",
      "c:\\Users\\stara\\AppData\\Local\\Programs\\Python\\Python311\\Lib\\site-packages\\sklearn\\utils\\validation.py:767: FutureWarning: is_sparse is deprecated and will be removed in a future version. Check `isinstance(dtype, pd.SparseDtype)` instead.\n",
      "  if not hasattr(array, \"sparse\") and array.dtypes.apply(is_sparse).any():\n",
      "c:\\Users\\stara\\AppData\\Local\\Programs\\Python\\Python311\\Lib\\site-packages\\sklearn\\utils\\validation.py:605: FutureWarning: is_sparse is deprecated and will be removed in a future version. Check `isinstance(dtype, pd.SparseDtype)` instead.\n",
      "  if is_sparse(pd_dtype):\n",
      "c:\\Users\\stara\\AppData\\Local\\Programs\\Python\\Python311\\Lib\\site-packages\\sklearn\\utils\\validation.py:614: FutureWarning: is_sparse is deprecated and will be removed in a future version. Check `isinstance(dtype, pd.SparseDtype)` instead.\n",
      "  if is_sparse(pd_dtype) or not is_extension_array_dtype(pd_dtype):\n",
      "c:\\Users\\stara\\AppData\\Local\\Programs\\Python\\Python311\\Lib\\site-packages\\sklearn\\utils\\validation.py:767: FutureWarning: is_sparse is deprecated and will be removed in a future version. Check `isinstance(dtype, pd.SparseDtype)` instead.\n",
      "  if not hasattr(array, \"sparse\") and array.dtypes.apply(is_sparse).any():\n",
      "c:\\Users\\stara\\AppData\\Local\\Programs\\Python\\Python311\\Lib\\site-packages\\sklearn\\utils\\validation.py:605: FutureWarning: is_sparse is deprecated and will be removed in a future version. Check `isinstance(dtype, pd.SparseDtype)` instead.\n",
      "  if is_sparse(pd_dtype):\n",
      "c:\\Users\\stara\\AppData\\Local\\Programs\\Python\\Python311\\Lib\\site-packages\\sklearn\\utils\\validation.py:614: FutureWarning: is_sparse is deprecated and will be removed in a future version. Check `isinstance(dtype, pd.SparseDtype)` instead.\n",
      "  if is_sparse(pd_dtype) or not is_extension_array_dtype(pd_dtype):\n"
     ]
    },
    {
     "name": "stdout",
     "output_type": "stream",
     "text": [
      "10/10 [==============================] - 0s 6ms/step - loss: 0.3607 - accuracy: 0.9044 - val_loss: 0.3882 - val_accuracy: 0.9252\n",
      "Epoch 2/10\n",
      "10/10 [==============================] - 0s 4ms/step - loss: 0.3321 - accuracy: 0.9249 - val_loss: 0.3763 - val_accuracy: 0.9252\n",
      "Epoch 3/10\n",
      "10/10 [==============================] - 0s 3ms/step - loss: 0.3251 - accuracy: 0.9300 - val_loss: 0.3698 - val_accuracy: 0.9320\n",
      "Epoch 4/10\n",
      "10/10 [==============================] - 0s 3ms/step - loss: 0.2962 - accuracy: 0.9198 - val_loss: 0.3650 - val_accuracy: 0.9252\n",
      "Epoch 5/10\n",
      "10/10 [==============================] - 0s 4ms/step - loss: 0.3014 - accuracy: 0.9369 - val_loss: 0.3511 - val_accuracy: 0.9388\n",
      "Epoch 6/10\n",
      "10/10 [==============================] - 0s 3ms/step - loss: 0.3060 - accuracy: 0.9386 - val_loss: 0.3443 - val_accuracy: 0.9388\n",
      "Epoch 7/10\n",
      "10/10 [==============================] - 0s 3ms/step - loss: 0.2598 - accuracy: 0.9454 - val_loss: 0.3355 - val_accuracy: 0.9388\n",
      "Epoch 8/10\n",
      "10/10 [==============================] - 0s 3ms/step - loss: 0.2605 - accuracy: 0.9454 - val_loss: 0.3321 - val_accuracy: 0.9388\n",
      "Epoch 9/10\n",
      "10/10 [==============================] - 0s 3ms/step - loss: 0.2795 - accuracy: 0.9437 - val_loss: 0.3250 - val_accuracy: 0.9388\n",
      "Epoch 10/10\n",
      "10/10 [==============================] - 0s 3ms/step - loss: 0.2475 - accuracy: 0.9471 - val_loss: 0.3248 - val_accuracy: 0.9388\n",
      "121/121 [==============================] - 0s 828us/step - loss: 53.9680 - accuracy: 0.5004\n",
      "Model accuracy: 0.500388503074646\n"
     ]
    },
    {
     "name": "stderr",
     "output_type": "stream",
     "text": [
      "c:\\Users\\stara\\AppData\\Local\\Programs\\Python\\Python311\\Lib\\site-packages\\sklearn\\base.py:439: UserWarning: X does not have valid feature names, but StandardScaler was fitted with feature names\n",
      "  warnings.warn(\n",
      "c:\\Users\\stara\\AppData\\Local\\Programs\\Python\\Python311\\Lib\\site-packages\\sklearn\\utils\\validation.py:767: FutureWarning: is_sparse is deprecated and will be removed in a future version. Check `isinstance(dtype, pd.SparseDtype)` instead.\n",
      "  if not hasattr(array, \"sparse\") and array.dtypes.apply(is_sparse).any():\n",
      "c:\\Users\\stara\\AppData\\Local\\Programs\\Python\\Python311\\Lib\\site-packages\\sklearn\\utils\\validation.py:605: FutureWarning: is_sparse is deprecated and will be removed in a future version. Check `isinstance(dtype, pd.SparseDtype)` instead.\n",
      "  if is_sparse(pd_dtype):\n",
      "c:\\Users\\stara\\AppData\\Local\\Programs\\Python\\Python311\\Lib\\site-packages\\sklearn\\utils\\validation.py:614: FutureWarning: is_sparse is deprecated and will be removed in a future version. Check `isinstance(dtype, pd.SparseDtype)` instead.\n",
      "  if is_sparse(pd_dtype) or not is_extension_array_dtype(pd_dtype):\n",
      "c:\\Users\\stara\\AppData\\Local\\Programs\\Python\\Python311\\Lib\\site-packages\\sklearn\\utils\\validation.py:767: FutureWarning: is_sparse is deprecated and will be removed in a future version. Check `isinstance(dtype, pd.SparseDtype)` instead.\n",
      "  if not hasattr(array, \"sparse\") and array.dtypes.apply(is_sparse).any():\n",
      "c:\\Users\\stara\\AppData\\Local\\Programs\\Python\\Python311\\Lib\\site-packages\\sklearn\\utils\\validation.py:605: FutureWarning: is_sparse is deprecated and will be removed in a future version. Check `isinstance(dtype, pd.SparseDtype)` instead.\n",
      "  if is_sparse(pd_dtype):\n",
      "c:\\Users\\stara\\AppData\\Local\\Programs\\Python\\Python311\\Lib\\site-packages\\sklearn\\utils\\validation.py:614: FutureWarning: is_sparse is deprecated and will be removed in a future version. Check `isinstance(dtype, pd.SparseDtype)` instead.\n",
      "  if is_sparse(pd_dtype) or not is_extension_array_dtype(pd_dtype):\n"
     ]
    },
    {
     "name": "stdout",
     "output_type": "stream",
     "text": [
      "Epoch 1/10\n",
      "11/11 [==============================] - 0s 6ms/step - loss: 0.3143 - accuracy: 0.9187 - val_loss: 0.2489 - val_accuracy: 0.9329\n",
      "Epoch 2/10\n",
      "11/11 [==============================] - 0s 3ms/step - loss: 0.2924 - accuracy: 0.9325 - val_loss: 0.2468 - val_accuracy: 0.9329\n",
      "Epoch 3/10\n",
      "11/11 [==============================] - 0s 4ms/step - loss: 0.2805 - accuracy: 0.9387 - val_loss: 0.2475 - val_accuracy: 0.9329\n",
      "Epoch 4/10\n",
      "11/11 [==============================] - 0s 4ms/step - loss: 0.2749 - accuracy: 0.9448 - val_loss: 0.2441 - val_accuracy: 0.9268\n",
      "Epoch 5/10\n",
      "11/11 [==============================] - 0s 4ms/step - loss: 0.2708 - accuracy: 0.9448 - val_loss: 0.2433 - val_accuracy: 0.9390\n",
      "Epoch 6/10\n",
      "11/11 [==============================] - 0s 4ms/step - loss: 0.2554 - accuracy: 0.9525 - val_loss: 0.2437 - val_accuracy: 0.9451\n",
      "Epoch 7/10\n",
      "11/11 [==============================] - 0s 4ms/step - loss: 0.2428 - accuracy: 0.9540 - val_loss: 0.2446 - val_accuracy: 0.9512\n",
      "Epoch 8/10\n",
      "11/11 [==============================] - 0s 3ms/step - loss: 0.2353 - accuracy: 0.9479 - val_loss: 0.2359 - val_accuracy: 0.9512\n",
      "Epoch 9/10\n",
      "11/11 [==============================] - 0s 3ms/step - loss: 0.2242 - accuracy: 0.9540 - val_loss: 0.2335 - val_accuracy: 0.9451\n",
      "Epoch 10/10\n",
      "11/11 [==============================] - 0s 3ms/step - loss: 0.2152 - accuracy: 0.9632 - val_loss: 0.2355 - val_accuracy: 0.9451\n",
      "121/121 [==============================] - 0s 716us/step - loss: 64.5155 - accuracy: 0.5004\n",
      "Model accuracy: 0.500388503074646\n",
      "Epoch 1/10\n",
      " 1/10 [==>...........................] - ETA: 0s - loss: 0.3170 - accuracy: 0.8906"
     ]
    },
    {
     "name": "stderr",
     "output_type": "stream",
     "text": [
      "c:\\Users\\stara\\AppData\\Local\\Programs\\Python\\Python311\\Lib\\site-packages\\sklearn\\base.py:439: UserWarning: X does not have valid feature names, but StandardScaler was fitted with feature names\n",
      "  warnings.warn(\n",
      "c:\\Users\\stara\\AppData\\Local\\Programs\\Python\\Python311\\Lib\\site-packages\\sklearn\\utils\\validation.py:767: FutureWarning: is_sparse is deprecated and will be removed in a future version. Check `isinstance(dtype, pd.SparseDtype)` instead.\n",
      "  if not hasattr(array, \"sparse\") and array.dtypes.apply(is_sparse).any():\n",
      "c:\\Users\\stara\\AppData\\Local\\Programs\\Python\\Python311\\Lib\\site-packages\\sklearn\\utils\\validation.py:605: FutureWarning: is_sparse is deprecated and will be removed in a future version. Check `isinstance(dtype, pd.SparseDtype)` instead.\n",
      "  if is_sparse(pd_dtype):\n",
      "c:\\Users\\stara\\AppData\\Local\\Programs\\Python\\Python311\\Lib\\site-packages\\sklearn\\utils\\validation.py:614: FutureWarning: is_sparse is deprecated and will be removed in a future version. Check `isinstance(dtype, pd.SparseDtype)` instead.\n",
      "  if is_sparse(pd_dtype) or not is_extension_array_dtype(pd_dtype):\n",
      "c:\\Users\\stara\\AppData\\Local\\Programs\\Python\\Python311\\Lib\\site-packages\\sklearn\\utils\\validation.py:767: FutureWarning: is_sparse is deprecated and will be removed in a future version. Check `isinstance(dtype, pd.SparseDtype)` instead.\n",
      "  if not hasattr(array, \"sparse\") and array.dtypes.apply(is_sparse).any():\n",
      "c:\\Users\\stara\\AppData\\Local\\Programs\\Python\\Python311\\Lib\\site-packages\\sklearn\\utils\\validation.py:605: FutureWarning: is_sparse is deprecated and will be removed in a future version. Check `isinstance(dtype, pd.SparseDtype)` instead.\n",
      "  if is_sparse(pd_dtype):\n",
      "c:\\Users\\stara\\AppData\\Local\\Programs\\Python\\Python311\\Lib\\site-packages\\sklearn\\utils\\validation.py:614: FutureWarning: is_sparse is deprecated and will be removed in a future version. Check `isinstance(dtype, pd.SparseDtype)` instead.\n",
      "  if is_sparse(pd_dtype) or not is_extension_array_dtype(pd_dtype):\n"
     ]
    },
    {
     "name": "stdout",
     "output_type": "stream",
     "text": [
      "10/10 [==============================] - 0s 6ms/step - loss: 0.3137 - accuracy: 0.9198 - val_loss: 0.2359 - val_accuracy: 0.9312\n",
      "Epoch 2/10\n",
      "10/10 [==============================] - 0s 4ms/step - loss: 0.3146 - accuracy: 0.9198 - val_loss: 0.2346 - val_accuracy: 0.9375\n",
      "Epoch 3/10\n",
      "10/10 [==============================] - 0s 3ms/step - loss: 0.2845 - accuracy: 0.9387 - val_loss: 0.2327 - val_accuracy: 0.9438\n",
      "Epoch 4/10\n",
      "10/10 [==============================] - 0s 4ms/step - loss: 0.2767 - accuracy: 0.9355 - val_loss: 0.2333 - val_accuracy: 0.9375\n",
      "Epoch 5/10\n",
      "10/10 [==============================] - 0s 4ms/step - loss: 0.2452 - accuracy: 0.9403 - val_loss: 0.2316 - val_accuracy: 0.9375\n",
      "Epoch 6/10\n",
      "10/10 [==============================] - 0s 4ms/step - loss: 0.2420 - accuracy: 0.9465 - val_loss: 0.2328 - val_accuracy: 0.9500\n",
      "Epoch 7/10\n",
      "10/10 [==============================] - 0s 4ms/step - loss: 0.2426 - accuracy: 0.9387 - val_loss: 0.2355 - val_accuracy: 0.9500\n",
      "Epoch 8/10\n",
      "10/10 [==============================] - 0s 4ms/step - loss: 0.2287 - accuracy: 0.9497 - val_loss: 0.2349 - val_accuracy: 0.9500\n",
      "Epoch 9/10\n",
      "10/10 [==============================] - 0s 4ms/step - loss: 0.2321 - accuracy: 0.9544 - val_loss: 0.2348 - val_accuracy: 0.9500\n",
      "Epoch 10/10\n",
      "10/10 [==============================] - 0s 3ms/step - loss: 0.2268 - accuracy: 0.9481 - val_loss: 0.2353 - val_accuracy: 0.9438\n",
      "121/121 [==============================] - 0s 676us/step - loss: 129.3488 - accuracy: 0.5004\n",
      "Model accuracy: 0.500388503074646\n",
      "Epoch 1/10\n",
      " 1/10 [==>...........................] - ETA: 0s - loss: 0.2157 - accuracy: 0.9375"
     ]
    },
    {
     "name": "stderr",
     "output_type": "stream",
     "text": [
      "c:\\Users\\stara\\AppData\\Local\\Programs\\Python\\Python311\\Lib\\site-packages\\sklearn\\base.py:439: UserWarning: X does not have valid feature names, but StandardScaler was fitted with feature names\n",
      "  warnings.warn(\n",
      "c:\\Users\\stara\\AppData\\Local\\Programs\\Python\\Python311\\Lib\\site-packages\\sklearn\\utils\\validation.py:767: FutureWarning: is_sparse is deprecated and will be removed in a future version. Check `isinstance(dtype, pd.SparseDtype)` instead.\n",
      "  if not hasattr(array, \"sparse\") and array.dtypes.apply(is_sparse).any():\n",
      "c:\\Users\\stara\\AppData\\Local\\Programs\\Python\\Python311\\Lib\\site-packages\\sklearn\\utils\\validation.py:605: FutureWarning: is_sparse is deprecated and will be removed in a future version. Check `isinstance(dtype, pd.SparseDtype)` instead.\n",
      "  if is_sparse(pd_dtype):\n",
      "c:\\Users\\stara\\AppData\\Local\\Programs\\Python\\Python311\\Lib\\site-packages\\sklearn\\utils\\validation.py:614: FutureWarning: is_sparse is deprecated and will be removed in a future version. Check `isinstance(dtype, pd.SparseDtype)` instead.\n",
      "  if is_sparse(pd_dtype) or not is_extension_array_dtype(pd_dtype):\n",
      "c:\\Users\\stara\\AppData\\Local\\Programs\\Python\\Python311\\Lib\\site-packages\\sklearn\\utils\\validation.py:767: FutureWarning: is_sparse is deprecated and will be removed in a future version. Check `isinstance(dtype, pd.SparseDtype)` instead.\n",
      "  if not hasattr(array, \"sparse\") and array.dtypes.apply(is_sparse).any():\n",
      "c:\\Users\\stara\\AppData\\Local\\Programs\\Python\\Python311\\Lib\\site-packages\\sklearn\\utils\\validation.py:605: FutureWarning: is_sparse is deprecated and will be removed in a future version. Check `isinstance(dtype, pd.SparseDtype)` instead.\n",
      "  if is_sparse(pd_dtype):\n",
      "c:\\Users\\stara\\AppData\\Local\\Programs\\Python\\Python311\\Lib\\site-packages\\sklearn\\utils\\validation.py:614: FutureWarning: is_sparse is deprecated and will be removed in a future version. Check `isinstance(dtype, pd.SparseDtype)` instead.\n",
      "  if is_sparse(pd_dtype) or not is_extension_array_dtype(pd_dtype):\n"
     ]
    },
    {
     "name": "stdout",
     "output_type": "stream",
     "text": [
      "10/10 [==============================] - 0s 6ms/step - loss: 0.3616 - accuracy: 0.9233 - val_loss: 0.2672 - val_accuracy: 0.9299\n",
      "Epoch 2/10\n",
      "10/10 [==============================] - 0s 3ms/step - loss: 0.3168 - accuracy: 0.9217 - val_loss: 0.2456 - val_accuracy: 0.9236\n",
      "Epoch 3/10\n",
      "10/10 [==============================] - 0s 3ms/step - loss: 0.3255 - accuracy: 0.9217 - val_loss: 0.2341 - val_accuracy: 0.9236\n",
      "Epoch 4/10\n",
      "10/10 [==============================] - 0s 4ms/step - loss: 0.2962 - accuracy: 0.9345 - val_loss: 0.2269 - val_accuracy: 0.9236\n",
      "Epoch 5/10\n",
      "10/10 [==============================] - 0s 3ms/step - loss: 0.2700 - accuracy: 0.9425 - val_loss: 0.2209 - val_accuracy: 0.9299\n",
      "Epoch 6/10\n",
      "10/10 [==============================] - 0s 3ms/step - loss: 0.2567 - accuracy: 0.9361 - val_loss: 0.2170 - val_accuracy: 0.9363\n",
      "Epoch 7/10\n",
      "10/10 [==============================] - 0s 4ms/step - loss: 0.2632 - accuracy: 0.9441 - val_loss: 0.2165 - val_accuracy: 0.9363\n",
      "Epoch 8/10\n",
      "10/10 [==============================] - 0s 4ms/step - loss: 0.2572 - accuracy: 0.9457 - val_loss: 0.2124 - val_accuracy: 0.9363\n",
      "Epoch 9/10\n",
      "10/10 [==============================] - 0s 3ms/step - loss: 0.2367 - accuracy: 0.9505 - val_loss: 0.2092 - val_accuracy: 0.9363\n",
      "Epoch 10/10\n",
      "10/10 [==============================] - 0s 3ms/step - loss: 0.2254 - accuracy: 0.9505 - val_loss: 0.2071 - val_accuracy: 0.9363\n",
      "121/121 [==============================] - 0s 654us/step - loss: 43.1443 - accuracy: 0.5004\n",
      "Model accuracy: 0.500388503074646\n",
      "Epoch 1/10\n",
      " 1/11 [=>............................] - ETA: 0s - loss: 0.3076 - accuracy: 0.9062"
     ]
    },
    {
     "name": "stderr",
     "output_type": "stream",
     "text": [
      "c:\\Users\\stara\\AppData\\Local\\Programs\\Python\\Python311\\Lib\\site-packages\\sklearn\\base.py:439: UserWarning: X does not have valid feature names, but StandardScaler was fitted with feature names\n",
      "  warnings.warn(\n",
      "c:\\Users\\stara\\AppData\\Local\\Programs\\Python\\Python311\\Lib\\site-packages\\sklearn\\utils\\validation.py:767: FutureWarning: is_sparse is deprecated and will be removed in a future version. Check `isinstance(dtype, pd.SparseDtype)` instead.\n",
      "  if not hasattr(array, \"sparse\") and array.dtypes.apply(is_sparse).any():\n",
      "c:\\Users\\stara\\AppData\\Local\\Programs\\Python\\Python311\\Lib\\site-packages\\sklearn\\utils\\validation.py:605: FutureWarning: is_sparse is deprecated and will be removed in a future version. Check `isinstance(dtype, pd.SparseDtype)` instead.\n",
      "  if is_sparse(pd_dtype):\n",
      "c:\\Users\\stara\\AppData\\Local\\Programs\\Python\\Python311\\Lib\\site-packages\\sklearn\\utils\\validation.py:614: FutureWarning: is_sparse is deprecated and will be removed in a future version. Check `isinstance(dtype, pd.SparseDtype)` instead.\n",
      "  if is_sparse(pd_dtype) or not is_extension_array_dtype(pd_dtype):\n",
      "c:\\Users\\stara\\AppData\\Local\\Programs\\Python\\Python311\\Lib\\site-packages\\sklearn\\utils\\validation.py:767: FutureWarning: is_sparse is deprecated and will be removed in a future version. Check `isinstance(dtype, pd.SparseDtype)` instead.\n",
      "  if not hasattr(array, \"sparse\") and array.dtypes.apply(is_sparse).any():\n",
      "c:\\Users\\stara\\AppData\\Local\\Programs\\Python\\Python311\\Lib\\site-packages\\sklearn\\utils\\validation.py:605: FutureWarning: is_sparse is deprecated and will be removed in a future version. Check `isinstance(dtype, pd.SparseDtype)` instead.\n",
      "  if is_sparse(pd_dtype):\n",
      "c:\\Users\\stara\\AppData\\Local\\Programs\\Python\\Python311\\Lib\\site-packages\\sklearn\\utils\\validation.py:614: FutureWarning: is_sparse is deprecated and will be removed in a future version. Check `isinstance(dtype, pd.SparseDtype)` instead.\n",
      "  if is_sparse(pd_dtype) or not is_extension_array_dtype(pd_dtype):\n"
     ]
    },
    {
     "name": "stdout",
     "output_type": "stream",
     "text": [
      "11/11 [==============================] - 0s 5ms/step - loss: 0.2955 - accuracy: 0.9206 - val_loss: 0.1724 - val_accuracy: 0.9713\n",
      "Epoch 2/10\n",
      "11/11 [==============================] - 0s 3ms/step - loss: 0.2539 - accuracy: 0.9336 - val_loss: 0.1625 - val_accuracy: 0.9713\n",
      "Epoch 3/10\n",
      "11/11 [==============================] - 0s 3ms/step - loss: 0.2372 - accuracy: 0.9437 - val_loss: 0.1562 - val_accuracy: 0.9770\n",
      "Epoch 4/10\n",
      "11/11 [==============================] - 0s 3ms/step - loss: 0.2291 - accuracy: 0.9481 - val_loss: 0.1502 - val_accuracy: 0.9828\n",
      "Epoch 5/10\n",
      "11/11 [==============================] - 0s 3ms/step - loss: 0.2131 - accuracy: 0.9524 - val_loss: 0.1455 - val_accuracy: 0.9828\n",
      "Epoch 6/10\n",
      "11/11 [==============================] - 0s 3ms/step - loss: 0.2004 - accuracy: 0.9596 - val_loss: 0.1428 - val_accuracy: 0.9885\n",
      "Epoch 7/10\n",
      "11/11 [==============================] - 0s 3ms/step - loss: 0.2071 - accuracy: 0.9567 - val_loss: 0.1425 - val_accuracy: 0.9885\n",
      "Epoch 8/10\n",
      "11/11 [==============================] - 0s 3ms/step - loss: 0.1979 - accuracy: 0.9610 - val_loss: 0.1419 - val_accuracy: 0.9885\n",
      "Epoch 9/10\n",
      "11/11 [==============================] - 0s 3ms/step - loss: 0.1893 - accuracy: 0.9610 - val_loss: 0.1393 - val_accuracy: 0.9885\n",
      "Epoch 10/10\n",
      "11/11 [==============================] - 0s 3ms/step - loss: 0.1883 - accuracy: 0.9610 - val_loss: 0.1357 - val_accuracy: 0.9885\n",
      "121/121 [==============================] - 0s 662us/step - loss: 36.2749 - accuracy: 0.5004\n",
      "Model accuracy: 0.500388503074646\n",
      "Epoch 1/10\n",
      " 1/10 [==>...........................] - ETA: 0s - loss: 0.2650 - accuracy: 0.9688"
     ]
    },
    {
     "name": "stderr",
     "output_type": "stream",
     "text": [
      "c:\\Users\\stara\\AppData\\Local\\Programs\\Python\\Python311\\Lib\\site-packages\\sklearn\\base.py:439: UserWarning: X does not have valid feature names, but StandardScaler was fitted with feature names\n",
      "  warnings.warn(\n",
      "c:\\Users\\stara\\AppData\\Local\\Programs\\Python\\Python311\\Lib\\site-packages\\sklearn\\utils\\validation.py:767: FutureWarning: is_sparse is deprecated and will be removed in a future version. Check `isinstance(dtype, pd.SparseDtype)` instead.\n",
      "  if not hasattr(array, \"sparse\") and array.dtypes.apply(is_sparse).any():\n",
      "c:\\Users\\stara\\AppData\\Local\\Programs\\Python\\Python311\\Lib\\site-packages\\sklearn\\utils\\validation.py:605: FutureWarning: is_sparse is deprecated and will be removed in a future version. Check `isinstance(dtype, pd.SparseDtype)` instead.\n",
      "  if is_sparse(pd_dtype):\n",
      "c:\\Users\\stara\\AppData\\Local\\Programs\\Python\\Python311\\Lib\\site-packages\\sklearn\\utils\\validation.py:614: FutureWarning: is_sparse is deprecated and will be removed in a future version. Check `isinstance(dtype, pd.SparseDtype)` instead.\n",
      "  if is_sparse(pd_dtype) or not is_extension_array_dtype(pd_dtype):\n",
      "c:\\Users\\stara\\AppData\\Local\\Programs\\Python\\Python311\\Lib\\site-packages\\sklearn\\utils\\validation.py:767: FutureWarning: is_sparse is deprecated and will be removed in a future version. Check `isinstance(dtype, pd.SparseDtype)` instead.\n",
      "  if not hasattr(array, \"sparse\") and array.dtypes.apply(is_sparse).any():\n",
      "c:\\Users\\stara\\AppData\\Local\\Programs\\Python\\Python311\\Lib\\site-packages\\sklearn\\utils\\validation.py:605: FutureWarning: is_sparse is deprecated and will be removed in a future version. Check `isinstance(dtype, pd.SparseDtype)` instead.\n",
      "  if is_sparse(pd_dtype):\n",
      "c:\\Users\\stara\\AppData\\Local\\Programs\\Python\\Python311\\Lib\\site-packages\\sklearn\\utils\\validation.py:614: FutureWarning: is_sparse is deprecated and will be removed in a future version. Check `isinstance(dtype, pd.SparseDtype)` instead.\n",
      "  if is_sparse(pd_dtype) or not is_extension_array_dtype(pd_dtype):\n"
     ]
    },
    {
     "name": "stdout",
     "output_type": "stream",
     "text": [
      "10/10 [==============================] - 0s 6ms/step - loss: 0.3616 - accuracy: 0.9094 - val_loss: 0.2900 - val_accuracy: 0.9079\n",
      "Epoch 2/10\n",
      "10/10 [==============================] - 0s 4ms/step - loss: 0.3206 - accuracy: 0.9308 - val_loss: 0.2747 - val_accuracy: 0.9211\n",
      "Epoch 3/10\n",
      "10/10 [==============================] - 0s 4ms/step - loss: 0.2740 - accuracy: 0.9357 - val_loss: 0.2722 - val_accuracy: 0.9145\n",
      "Epoch 4/10\n",
      "10/10 [==============================] - 0s 3ms/step - loss: 0.2653 - accuracy: 0.9357 - val_loss: 0.2682 - val_accuracy: 0.9145\n",
      "Epoch 5/10\n",
      "10/10 [==============================] - 0s 4ms/step - loss: 0.2374 - accuracy: 0.9390 - val_loss: 0.2629 - val_accuracy: 0.9145\n",
      "Epoch 6/10\n",
      "10/10 [==============================] - 0s 3ms/step - loss: 0.2527 - accuracy: 0.9407 - val_loss: 0.2614 - val_accuracy: 0.9211\n",
      "Epoch 7/10\n",
      "10/10 [==============================] - 0s 3ms/step - loss: 0.2267 - accuracy: 0.9423 - val_loss: 0.2592 - val_accuracy: 0.9211\n",
      "Epoch 8/10\n",
      "10/10 [==============================] - 0s 3ms/step - loss: 0.2249 - accuracy: 0.9473 - val_loss: 0.2585 - val_accuracy: 0.9211\n",
      "Epoch 9/10\n",
      "10/10 [==============================] - 0s 3ms/step - loss: 0.2262 - accuracy: 0.9374 - val_loss: 0.2590 - val_accuracy: 0.9211\n",
      "Epoch 10/10\n",
      "10/10 [==============================] - 0s 3ms/step - loss: 0.2263 - accuracy: 0.9390 - val_loss: 0.2609 - val_accuracy: 0.9145\n",
      "121/121 [==============================] - 0s 692us/step - loss: 147.8323 - accuracy: 0.5004\n",
      "Model accuracy: 0.500388503074646\n",
      "Epoch 1/10\n",
      " 1/10 [==>...........................] - ETA: 0s - loss: 0.2491 - accuracy: 0.9375"
     ]
    },
    {
     "name": "stderr",
     "output_type": "stream",
     "text": [
      "c:\\Users\\stara\\AppData\\Local\\Programs\\Python\\Python311\\Lib\\site-packages\\sklearn\\base.py:439: UserWarning: X does not have valid feature names, but StandardScaler was fitted with feature names\n",
      "  warnings.warn(\n",
      "c:\\Users\\stara\\AppData\\Local\\Programs\\Python\\Python311\\Lib\\site-packages\\sklearn\\utils\\validation.py:767: FutureWarning: is_sparse is deprecated and will be removed in a future version. Check `isinstance(dtype, pd.SparseDtype)` instead.\n",
      "  if not hasattr(array, \"sparse\") and array.dtypes.apply(is_sparse).any():\n",
      "c:\\Users\\stara\\AppData\\Local\\Programs\\Python\\Python311\\Lib\\site-packages\\sklearn\\utils\\validation.py:605: FutureWarning: is_sparse is deprecated and will be removed in a future version. Check `isinstance(dtype, pd.SparseDtype)` instead.\n",
      "  if is_sparse(pd_dtype):\n",
      "c:\\Users\\stara\\AppData\\Local\\Programs\\Python\\Python311\\Lib\\site-packages\\sklearn\\utils\\validation.py:614: FutureWarning: is_sparse is deprecated and will be removed in a future version. Check `isinstance(dtype, pd.SparseDtype)` instead.\n",
      "  if is_sparse(pd_dtype) or not is_extension_array_dtype(pd_dtype):\n",
      "c:\\Users\\stara\\AppData\\Local\\Programs\\Python\\Python311\\Lib\\site-packages\\sklearn\\utils\\validation.py:767: FutureWarning: is_sparse is deprecated and will be removed in a future version. Check `isinstance(dtype, pd.SparseDtype)` instead.\n",
      "  if not hasattr(array, \"sparse\") and array.dtypes.apply(is_sparse).any():\n",
      "c:\\Users\\stara\\AppData\\Local\\Programs\\Python\\Python311\\Lib\\site-packages\\sklearn\\utils\\validation.py:605: FutureWarning: is_sparse is deprecated and will be removed in a future version. Check `isinstance(dtype, pd.SparseDtype)` instead.\n",
      "  if is_sparse(pd_dtype):\n",
      "c:\\Users\\stara\\AppData\\Local\\Programs\\Python\\Python311\\Lib\\site-packages\\sklearn\\utils\\validation.py:614: FutureWarning: is_sparse is deprecated and will be removed in a future version. Check `isinstance(dtype, pd.SparseDtype)` instead.\n",
      "  if is_sparse(pd_dtype) or not is_extension_array_dtype(pd_dtype):\n"
     ]
    },
    {
     "name": "stdout",
     "output_type": "stream",
     "text": [
      "10/10 [==============================] - 0s 6ms/step - loss: 0.2184 - accuracy: 0.9437 - val_loss: 0.1908 - val_accuracy: 0.9500\n",
      "Epoch 2/10\n",
      "10/10 [==============================] - 0s 4ms/step - loss: 0.2216 - accuracy: 0.9421 - val_loss: 0.1873 - val_accuracy: 0.9500\n",
      "Epoch 3/10\n",
      "10/10 [==============================] - 0s 4ms/step - loss: 0.2166 - accuracy: 0.9468 - val_loss: 0.1829 - val_accuracy: 0.9500\n",
      "Epoch 4/10\n",
      "10/10 [==============================] - 0s 5ms/step - loss: 0.2202 - accuracy: 0.9452 - val_loss: 0.1800 - val_accuracy: 0.9563\n",
      "Epoch 5/10\n",
      "10/10 [==============================] - 0s 4ms/step - loss: 0.1968 - accuracy: 0.9609 - val_loss: 0.1772 - val_accuracy: 0.9625\n",
      "Epoch 6/10\n",
      "10/10 [==============================] - 0s 4ms/step - loss: 0.2041 - accuracy: 0.9577 - val_loss: 0.1750 - val_accuracy: 0.9563\n",
      "Epoch 7/10\n",
      "10/10 [==============================] - 0s 4ms/step - loss: 0.1853 - accuracy: 0.9656 - val_loss: 0.1752 - val_accuracy: 0.9563\n",
      "Epoch 8/10\n",
      "10/10 [==============================] - 0s 4ms/step - loss: 0.1914 - accuracy: 0.9671 - val_loss: 0.1738 - val_accuracy: 0.9625\n",
      "Epoch 9/10\n",
      "10/10 [==============================] - 0s 4ms/step - loss: 0.1907 - accuracy: 0.9593 - val_loss: 0.1735 - val_accuracy: 0.9625\n",
      "Epoch 10/10\n",
      "10/10 [==============================] - 0s 4ms/step - loss: 0.1632 - accuracy: 0.9734 - val_loss: 0.1732 - val_accuracy: 0.9625\n",
      "121/121 [==============================] - 0s 669us/step - loss: 153.0585 - accuracy: 0.5004\n",
      "Model accuracy: 0.500388503074646\n",
      "Epoch 1/10\n",
      " 1/10 [==>...........................] - ETA: 0s - loss: 0.3039 - accuracy: 0.9375"
     ]
    },
    {
     "name": "stderr",
     "output_type": "stream",
     "text": [
      "c:\\Users\\stara\\AppData\\Local\\Programs\\Python\\Python311\\Lib\\site-packages\\sklearn\\base.py:439: UserWarning: X does not have valid feature names, but StandardScaler was fitted with feature names\n",
      "  warnings.warn(\n",
      "c:\\Users\\stara\\AppData\\Local\\Programs\\Python\\Python311\\Lib\\site-packages\\sklearn\\utils\\validation.py:767: FutureWarning: is_sparse is deprecated and will be removed in a future version. Check `isinstance(dtype, pd.SparseDtype)` instead.\n",
      "  if not hasattr(array, \"sparse\") and array.dtypes.apply(is_sparse).any():\n",
      "c:\\Users\\stara\\AppData\\Local\\Programs\\Python\\Python311\\Lib\\site-packages\\sklearn\\utils\\validation.py:605: FutureWarning: is_sparse is deprecated and will be removed in a future version. Check `isinstance(dtype, pd.SparseDtype)` instead.\n",
      "  if is_sparse(pd_dtype):\n",
      "c:\\Users\\stara\\AppData\\Local\\Programs\\Python\\Python311\\Lib\\site-packages\\sklearn\\utils\\validation.py:614: FutureWarning: is_sparse is deprecated and will be removed in a future version. Check `isinstance(dtype, pd.SparseDtype)` instead.\n",
      "  if is_sparse(pd_dtype) or not is_extension_array_dtype(pd_dtype):\n",
      "c:\\Users\\stara\\AppData\\Local\\Programs\\Python\\Python311\\Lib\\site-packages\\sklearn\\utils\\validation.py:767: FutureWarning: is_sparse is deprecated and will be removed in a future version. Check `isinstance(dtype, pd.SparseDtype)` instead.\n",
      "  if not hasattr(array, \"sparse\") and array.dtypes.apply(is_sparse).any():\n",
      "c:\\Users\\stara\\AppData\\Local\\Programs\\Python\\Python311\\Lib\\site-packages\\sklearn\\utils\\validation.py:605: FutureWarning: is_sparse is deprecated and will be removed in a future version. Check `isinstance(dtype, pd.SparseDtype)` instead.\n",
      "  if is_sparse(pd_dtype):\n",
      "c:\\Users\\stara\\AppData\\Local\\Programs\\Python\\Python311\\Lib\\site-packages\\sklearn\\utils\\validation.py:614: FutureWarning: is_sparse is deprecated and will be removed in a future version. Check `isinstance(dtype, pd.SparseDtype)` instead.\n",
      "  if is_sparse(pd_dtype) or not is_extension_array_dtype(pd_dtype):\n"
     ]
    },
    {
     "name": "stdout",
     "output_type": "stream",
     "text": [
      "10/10 [==============================] - 0s 6ms/step - loss: 0.2952 - accuracy: 0.9404 - val_loss: 0.1657 - val_accuracy: 0.9737\n",
      "Epoch 2/10\n",
      "10/10 [==============================] - 0s 4ms/step - loss: 0.2801 - accuracy: 0.9321 - val_loss: 0.1513 - val_accuracy: 0.9737\n",
      "Epoch 3/10\n",
      "10/10 [==============================] - 0s 3ms/step - loss: 0.2696 - accuracy: 0.9404 - val_loss: 0.1458 - val_accuracy: 0.9737\n",
      "Epoch 4/10\n",
      "10/10 [==============================] - 0s 4ms/step - loss: 0.2333 - accuracy: 0.9487 - val_loss: 0.1401 - val_accuracy: 0.9803\n",
      "Epoch 5/10\n",
      "10/10 [==============================] - 0s 3ms/step - loss: 0.2055 - accuracy: 0.9586 - val_loss: 0.1345 - val_accuracy: 0.9803\n",
      "Epoch 6/10\n",
      "10/10 [==============================] - 0s 3ms/step - loss: 0.2139 - accuracy: 0.9636 - val_loss: 0.1324 - val_accuracy: 0.9803\n",
      "Epoch 7/10\n",
      "10/10 [==============================] - 0s 3ms/step - loss: 0.2127 - accuracy: 0.9619 - val_loss: 0.1278 - val_accuracy: 0.9803\n",
      "Epoch 8/10\n",
      "10/10 [==============================] - 0s 3ms/step - loss: 0.2235 - accuracy: 0.9619 - val_loss: 0.1244 - val_accuracy: 0.9803\n",
      "Epoch 9/10\n",
      "10/10 [==============================] - 0s 4ms/step - loss: 0.1931 - accuracy: 0.9603 - val_loss: 0.1244 - val_accuracy: 0.9803\n",
      "Epoch 10/10\n",
      "10/10 [==============================] - 0s 3ms/step - loss: 0.1996 - accuracy: 0.9570 - val_loss: 0.1239 - val_accuracy: 0.9737\n",
      "121/121 [==============================] - 0s 685us/step - loss: 68.0773 - accuracy: 0.5004\n",
      "Model accuracy: 0.500388503074646\n",
      "Epoch 1/10\n",
      " 1/17 [>.............................] - ETA: 0s - loss: 0.2854 - accuracy: 0.9375"
     ]
    },
    {
     "name": "stderr",
     "output_type": "stream",
     "text": [
      "c:\\Users\\stara\\AppData\\Local\\Programs\\Python\\Python311\\Lib\\site-packages\\sklearn\\base.py:439: UserWarning: X does not have valid feature names, but StandardScaler was fitted with feature names\n",
      "  warnings.warn(\n",
      "c:\\Users\\stara\\AppData\\Local\\Programs\\Python\\Python311\\Lib\\site-packages\\sklearn\\utils\\validation.py:767: FutureWarning: is_sparse is deprecated and will be removed in a future version. Check `isinstance(dtype, pd.SparseDtype)` instead.\n",
      "  if not hasattr(array, \"sparse\") and array.dtypes.apply(is_sparse).any():\n",
      "c:\\Users\\stara\\AppData\\Local\\Programs\\Python\\Python311\\Lib\\site-packages\\sklearn\\utils\\validation.py:605: FutureWarning: is_sparse is deprecated and will be removed in a future version. Check `isinstance(dtype, pd.SparseDtype)` instead.\n",
      "  if is_sparse(pd_dtype):\n",
      "c:\\Users\\stara\\AppData\\Local\\Programs\\Python\\Python311\\Lib\\site-packages\\sklearn\\utils\\validation.py:614: FutureWarning: is_sparse is deprecated and will be removed in a future version. Check `isinstance(dtype, pd.SparseDtype)` instead.\n",
      "  if is_sparse(pd_dtype) or not is_extension_array_dtype(pd_dtype):\n",
      "c:\\Users\\stara\\AppData\\Local\\Programs\\Python\\Python311\\Lib\\site-packages\\sklearn\\utils\\validation.py:767: FutureWarning: is_sparse is deprecated and will be removed in a future version. Check `isinstance(dtype, pd.SparseDtype)` instead.\n",
      "  if not hasattr(array, \"sparse\") and array.dtypes.apply(is_sparse).any():\n",
      "c:\\Users\\stara\\AppData\\Local\\Programs\\Python\\Python311\\Lib\\site-packages\\sklearn\\utils\\validation.py:605: FutureWarning: is_sparse is deprecated and will be removed in a future version. Check `isinstance(dtype, pd.SparseDtype)` instead.\n",
      "  if is_sparse(pd_dtype):\n",
      "c:\\Users\\stara\\AppData\\Local\\Programs\\Python\\Python311\\Lib\\site-packages\\sklearn\\utils\\validation.py:614: FutureWarning: is_sparse is deprecated and will be removed in a future version. Check `isinstance(dtype, pd.SparseDtype)` instead.\n",
      "  if is_sparse(pd_dtype) or not is_extension_array_dtype(pd_dtype):\n"
     ]
    },
    {
     "name": "stdout",
     "output_type": "stream",
     "text": [
      "17/17 [==============================] - 0s 4ms/step - loss: 0.2295 - accuracy: 0.9372 - val_loss: 0.1924 - val_accuracy: 0.9336\n",
      "Epoch 2/10\n",
      "17/17 [==============================] - 0s 3ms/step - loss: 0.2071 - accuracy: 0.9492 - val_loss: 0.1841 - val_accuracy: 0.9446\n",
      "Epoch 3/10\n",
      "17/17 [==============================] - 0s 2ms/step - loss: 0.1891 - accuracy: 0.9575 - val_loss: 0.1799 - val_accuracy: 0.9483\n",
      "Epoch 4/10\n",
      "17/17 [==============================] - 0s 3ms/step - loss: 0.1754 - accuracy: 0.9649 - val_loss: 0.1768 - val_accuracy: 0.9483\n",
      "Epoch 5/10\n",
      "17/17 [==============================] - 0s 2ms/step - loss: 0.1733 - accuracy: 0.9621 - val_loss: 0.1762 - val_accuracy: 0.9446\n",
      "Epoch 6/10\n",
      "17/17 [==============================] - 0s 2ms/step - loss: 0.1709 - accuracy: 0.9695 - val_loss: 0.1761 - val_accuracy: 0.9483\n",
      "Epoch 7/10\n",
      "17/17 [==============================] - 0s 2ms/step - loss: 0.1593 - accuracy: 0.9704 - val_loss: 0.1744 - val_accuracy: 0.9483\n",
      "Epoch 8/10\n",
      "17/17 [==============================] - 0s 3ms/step - loss: 0.1582 - accuracy: 0.9713 - val_loss: 0.1728 - val_accuracy: 0.9483\n",
      "Epoch 9/10\n",
      "17/17 [==============================] - 0s 2ms/step - loss: 0.1530 - accuracy: 0.9677 - val_loss: 0.1736 - val_accuracy: 0.9446\n",
      "Epoch 10/10\n",
      "17/17 [==============================] - 0s 2ms/step - loss: 0.1534 - accuracy: 0.9741 - val_loss: 0.1742 - val_accuracy: 0.9557\n",
      "121/121 [==============================] - 0s 659us/step - loss: 59.9035 - accuracy: 0.5004\n",
      "Model accuracy: 0.500388503074646\n",
      "Epoch 1/10\n",
      "1/8 [==>...........................] - ETA: 0s - loss: 0.1454 - accuracy: 0.9688"
     ]
    },
    {
     "name": "stderr",
     "output_type": "stream",
     "text": [
      "c:\\Users\\stara\\AppData\\Local\\Programs\\Python\\Python311\\Lib\\site-packages\\sklearn\\base.py:439: UserWarning: X does not have valid feature names, but StandardScaler was fitted with feature names\n",
      "  warnings.warn(\n",
      "c:\\Users\\stara\\AppData\\Local\\Programs\\Python\\Python311\\Lib\\site-packages\\sklearn\\utils\\validation.py:767: FutureWarning: is_sparse is deprecated and will be removed in a future version. Check `isinstance(dtype, pd.SparseDtype)` instead.\n",
      "  if not hasattr(array, \"sparse\") and array.dtypes.apply(is_sparse).any():\n",
      "c:\\Users\\stara\\AppData\\Local\\Programs\\Python\\Python311\\Lib\\site-packages\\sklearn\\utils\\validation.py:605: FutureWarning: is_sparse is deprecated and will be removed in a future version. Check `isinstance(dtype, pd.SparseDtype)` instead.\n",
      "  if is_sparse(pd_dtype):\n",
      "c:\\Users\\stara\\AppData\\Local\\Programs\\Python\\Python311\\Lib\\site-packages\\sklearn\\utils\\validation.py:614: FutureWarning: is_sparse is deprecated and will be removed in a future version. Check `isinstance(dtype, pd.SparseDtype)` instead.\n",
      "  if is_sparse(pd_dtype) or not is_extension_array_dtype(pd_dtype):\n",
      "c:\\Users\\stara\\AppData\\Local\\Programs\\Python\\Python311\\Lib\\site-packages\\sklearn\\utils\\validation.py:767: FutureWarning: is_sparse is deprecated and will be removed in a future version. Check `isinstance(dtype, pd.SparseDtype)` instead.\n",
      "  if not hasattr(array, \"sparse\") and array.dtypes.apply(is_sparse).any():\n",
      "c:\\Users\\stara\\AppData\\Local\\Programs\\Python\\Python311\\Lib\\site-packages\\sklearn\\utils\\validation.py:605: FutureWarning: is_sparse is deprecated and will be removed in a future version. Check `isinstance(dtype, pd.SparseDtype)` instead.\n",
      "  if is_sparse(pd_dtype):\n",
      "c:\\Users\\stara\\AppData\\Local\\Programs\\Python\\Python311\\Lib\\site-packages\\sklearn\\utils\\validation.py:614: FutureWarning: is_sparse is deprecated and will be removed in a future version. Check `isinstance(dtype, pd.SparseDtype)` instead.\n",
      "  if is_sparse(pd_dtype) or not is_extension_array_dtype(pd_dtype):\n"
     ]
    },
    {
     "name": "stdout",
     "output_type": "stream",
     "text": [
      "8/8 [==============================] - 0s 8ms/step - loss: 0.1883 - accuracy: 0.9642 - val_loss: 0.2529 - val_accuracy: 0.9286\n",
      "Epoch 2/10\n",
      "8/8 [==============================] - 0s 4ms/step - loss: 0.1562 - accuracy: 0.9662 - val_loss: 0.2233 - val_accuracy: 0.9444\n",
      "Epoch 3/10\n",
      "8/8 [==============================] - 0s 4ms/step - loss: 0.1460 - accuracy: 0.9702 - val_loss: 0.2071 - val_accuracy: 0.9524\n",
      "Epoch 4/10\n",
      "8/8 [==============================] - 0s 4ms/step - loss: 0.1452 - accuracy: 0.9761 - val_loss: 0.2045 - val_accuracy: 0.9524\n",
      "Epoch 5/10\n",
      "8/8 [==============================] - 0s 4ms/step - loss: 0.1276 - accuracy: 0.9801 - val_loss: 0.2056 - val_accuracy: 0.9603\n",
      "Epoch 6/10\n",
      "8/8 [==============================] - 0s 4ms/step - loss: 0.1279 - accuracy: 0.9821 - val_loss: 0.2097 - val_accuracy: 0.9603\n",
      "Epoch 7/10\n",
      "8/8 [==============================] - 0s 4ms/step - loss: 0.1081 - accuracy: 0.9861 - val_loss: 0.2185 - val_accuracy: 0.9524\n",
      "Epoch 8/10\n",
      "8/8 [==============================] - 0s 4ms/step - loss: 0.1182 - accuracy: 0.9881 - val_loss: 0.2200 - val_accuracy: 0.9524\n",
      "Epoch 9/10\n",
      "8/8 [==============================] - 0s 4ms/step - loss: 0.1110 - accuracy: 0.9841 - val_loss: 0.2213 - val_accuracy: 0.9524\n",
      "Epoch 10/10\n",
      "8/8 [==============================] - 0s 4ms/step - loss: 0.0950 - accuracy: 0.9920 - val_loss: 0.2213 - val_accuracy: 0.9524\n",
      "121/121 [==============================] - 0s 682us/step - loss: 22.9189 - accuracy: 0.4996\n",
      "Model accuracy: 0.499611496925354\n",
      "Epoch 1/10\n",
      "1/8 [==>...........................] - ETA: 0s - loss: 0.1841 - accuracy: 0.9688"
     ]
    },
    {
     "name": "stderr",
     "output_type": "stream",
     "text": [
      "c:\\Users\\stara\\AppData\\Local\\Programs\\Python\\Python311\\Lib\\site-packages\\sklearn\\base.py:439: UserWarning: X does not have valid feature names, but StandardScaler was fitted with feature names\n",
      "  warnings.warn(\n",
      "c:\\Users\\stara\\AppData\\Local\\Programs\\Python\\Python311\\Lib\\site-packages\\sklearn\\utils\\validation.py:767: FutureWarning: is_sparse is deprecated and will be removed in a future version. Check `isinstance(dtype, pd.SparseDtype)` instead.\n",
      "  if not hasattr(array, \"sparse\") and array.dtypes.apply(is_sparse).any():\n",
      "c:\\Users\\stara\\AppData\\Local\\Programs\\Python\\Python311\\Lib\\site-packages\\sklearn\\utils\\validation.py:605: FutureWarning: is_sparse is deprecated and will be removed in a future version. Check `isinstance(dtype, pd.SparseDtype)` instead.\n",
      "  if is_sparse(pd_dtype):\n",
      "c:\\Users\\stara\\AppData\\Local\\Programs\\Python\\Python311\\Lib\\site-packages\\sklearn\\utils\\validation.py:614: FutureWarning: is_sparse is deprecated and will be removed in a future version. Check `isinstance(dtype, pd.SparseDtype)` instead.\n",
      "  if is_sparse(pd_dtype) or not is_extension_array_dtype(pd_dtype):\n",
      "c:\\Users\\stara\\AppData\\Local\\Programs\\Python\\Python311\\Lib\\site-packages\\sklearn\\utils\\validation.py:767: FutureWarning: is_sparse is deprecated and will be removed in a future version. Check `isinstance(dtype, pd.SparseDtype)` instead.\n",
      "  if not hasattr(array, \"sparse\") and array.dtypes.apply(is_sparse).any():\n",
      "c:\\Users\\stara\\AppData\\Local\\Programs\\Python\\Python311\\Lib\\site-packages\\sklearn\\utils\\validation.py:605: FutureWarning: is_sparse is deprecated and will be removed in a future version. Check `isinstance(dtype, pd.SparseDtype)` instead.\n",
      "  if is_sparse(pd_dtype):\n",
      "c:\\Users\\stara\\AppData\\Local\\Programs\\Python\\Python311\\Lib\\site-packages\\sklearn\\utils\\validation.py:614: FutureWarning: is_sparse is deprecated and will be removed in a future version. Check `isinstance(dtype, pd.SparseDtype)` instead.\n",
      "  if is_sparse(pd_dtype) or not is_extension_array_dtype(pd_dtype):\n"
     ]
    },
    {
     "name": "stdout",
     "output_type": "stream",
     "text": [
      "8/8 [==============================] - 0s 7ms/step - loss: 0.2393 - accuracy: 0.9554 - val_loss: 0.1363 - val_accuracy: 0.9746\n",
      "Epoch 2/10\n",
      "8/8 [==============================] - 0s 4ms/step - loss: 0.1909 - accuracy: 0.9618 - val_loss: 0.1408 - val_accuracy: 0.9661\n",
      "Epoch 3/10\n",
      "8/8 [==============================] - 0s 4ms/step - loss: 0.1786 - accuracy: 0.9597 - val_loss: 0.1460 - val_accuracy: 0.9661\n",
      "Epoch 4/10\n",
      "8/8 [==============================] - 0s 4ms/step - loss: 0.1543 - accuracy: 0.9703 - val_loss: 0.1482 - val_accuracy: 0.9661\n",
      "Epoch 5/10\n",
      "8/8 [==============================] - 0s 4ms/step - loss: 0.1617 - accuracy: 0.9597 - val_loss: 0.1502 - val_accuracy: 0.9661\n",
      "Epoch 6/10\n",
      "8/8 [==============================] - 0s 4ms/step - loss: 0.1424 - accuracy: 0.9682 - val_loss: 0.1490 - val_accuracy: 0.9661\n",
      "Epoch 7/10\n",
      "8/8 [==============================] - 0s 4ms/step - loss: 0.1521 - accuracy: 0.9660 - val_loss: 0.1483 - val_accuracy: 0.9576\n",
      "Epoch 8/10\n",
      "8/8 [==============================] - 0s 4ms/step - loss: 0.1357 - accuracy: 0.9788 - val_loss: 0.1510 - val_accuracy: 0.9576\n",
      "Epoch 9/10\n",
      "8/8 [==============================] - 0s 9ms/step - loss: 0.1426 - accuracy: 0.9703 - val_loss: 0.1516 - val_accuracy: 0.9576\n",
      "Epoch 10/10\n",
      "8/8 [==============================] - 0s 5ms/step - loss: 0.1352 - accuracy: 0.9724 - val_loss: 0.1521 - val_accuracy: 0.9576\n",
      "121/121 [==============================] - 0s 626us/step - loss: 189.0505 - accuracy: 0.5004\n",
      "Model accuracy: 0.500388503074646\n",
      "Epoch 1/10\n",
      " 1/11 [=>............................] - ETA: 0s - loss: 0.1083 - accuracy: 0.9844"
     ]
    },
    {
     "name": "stderr",
     "output_type": "stream",
     "text": [
      "c:\\Users\\stara\\AppData\\Local\\Programs\\Python\\Python311\\Lib\\site-packages\\sklearn\\base.py:439: UserWarning: X does not have valid feature names, but StandardScaler was fitted with feature names\n",
      "  warnings.warn(\n",
      "c:\\Users\\stara\\AppData\\Local\\Programs\\Python\\Python311\\Lib\\site-packages\\sklearn\\utils\\validation.py:767: FutureWarning: is_sparse is deprecated and will be removed in a future version. Check `isinstance(dtype, pd.SparseDtype)` instead.\n",
      "  if not hasattr(array, \"sparse\") and array.dtypes.apply(is_sparse).any():\n",
      "c:\\Users\\stara\\AppData\\Local\\Programs\\Python\\Python311\\Lib\\site-packages\\sklearn\\utils\\validation.py:605: FutureWarning: is_sparse is deprecated and will be removed in a future version. Check `isinstance(dtype, pd.SparseDtype)` instead.\n",
      "  if is_sparse(pd_dtype):\n",
      "c:\\Users\\stara\\AppData\\Local\\Programs\\Python\\Python311\\Lib\\site-packages\\sklearn\\utils\\validation.py:614: FutureWarning: is_sparse is deprecated and will be removed in a future version. Check `isinstance(dtype, pd.SparseDtype)` instead.\n",
      "  if is_sparse(pd_dtype) or not is_extension_array_dtype(pd_dtype):\n",
      "c:\\Users\\stara\\AppData\\Local\\Programs\\Python\\Python311\\Lib\\site-packages\\sklearn\\utils\\validation.py:767: FutureWarning: is_sparse is deprecated and will be removed in a future version. Check `isinstance(dtype, pd.SparseDtype)` instead.\n",
      "  if not hasattr(array, \"sparse\") and array.dtypes.apply(is_sparse).any():\n",
      "c:\\Users\\stara\\AppData\\Local\\Programs\\Python\\Python311\\Lib\\site-packages\\sklearn\\utils\\validation.py:605: FutureWarning: is_sparse is deprecated and will be removed in a future version. Check `isinstance(dtype, pd.SparseDtype)` instead.\n",
      "  if is_sparse(pd_dtype):\n",
      "c:\\Users\\stara\\AppData\\Local\\Programs\\Python\\Python311\\Lib\\site-packages\\sklearn\\utils\\validation.py:614: FutureWarning: is_sparse is deprecated and will be removed in a future version. Check `isinstance(dtype, pd.SparseDtype)` instead.\n",
      "  if is_sparse(pd_dtype) or not is_extension_array_dtype(pd_dtype):\n"
     ]
    },
    {
     "name": "stdout",
     "output_type": "stream",
     "text": [
      "11/11 [==============================] - 0s 6ms/step - loss: 0.1814 - accuracy: 0.9640 - val_loss: 0.1704 - val_accuracy: 0.9461\n",
      "Epoch 2/10\n",
      "11/11 [==============================] - 0s 3ms/step - loss: 0.1888 - accuracy: 0.9580 - val_loss: 0.1614 - val_accuracy: 0.9581\n",
      "Epoch 3/10\n",
      "11/11 [==============================] - 0s 3ms/step - loss: 0.1578 - accuracy: 0.9700 - val_loss: 0.1520 - val_accuracy: 0.9641\n",
      "Epoch 4/10\n",
      "11/11 [==============================] - 0s 3ms/step - loss: 0.1426 - accuracy: 0.9730 - val_loss: 0.1471 - val_accuracy: 0.9641\n",
      "Epoch 5/10\n",
      "11/11 [==============================] - 0s 3ms/step - loss: 0.1478 - accuracy: 0.9730 - val_loss: 0.1442 - val_accuracy: 0.9641\n",
      "Epoch 6/10\n",
      "11/11 [==============================] - 0s 3ms/step - loss: 0.1324 - accuracy: 0.9775 - val_loss: 0.1426 - val_accuracy: 0.9701\n",
      "Epoch 7/10\n",
      "11/11 [==============================] - 0s 3ms/step - loss: 0.1323 - accuracy: 0.9820 - val_loss: 0.1420 - val_accuracy: 0.9701\n",
      "Epoch 8/10\n",
      "11/11 [==============================] - 0s 3ms/step - loss: 0.1322 - accuracy: 0.9760 - val_loss: 0.1396 - val_accuracy: 0.9701\n",
      "Epoch 9/10\n",
      "11/11 [==============================] - 0s 3ms/step - loss: 0.1181 - accuracy: 0.9820 - val_loss: 0.1404 - val_accuracy: 0.9701\n",
      "Epoch 10/10\n",
      "11/11 [==============================] - 0s 4ms/step - loss: 0.1031 - accuracy: 0.9880 - val_loss: 0.1413 - val_accuracy: 0.9701\n",
      "121/121 [==============================] - 0s 629us/step - loss: 142.4917 - accuracy: 0.5004\n",
      "Model accuracy: 0.500388503074646\n",
      "Epoch 1/10\n",
      "1/8 [==>...........................] - ETA: 0s - loss: 0.2843 - accuracy: 0.9219"
     ]
    },
    {
     "name": "stderr",
     "output_type": "stream",
     "text": [
      "c:\\Users\\stara\\AppData\\Local\\Programs\\Python\\Python311\\Lib\\site-packages\\sklearn\\base.py:439: UserWarning: X does not have valid feature names, but StandardScaler was fitted with feature names\n",
      "  warnings.warn(\n",
      "c:\\Users\\stara\\AppData\\Local\\Programs\\Python\\Python311\\Lib\\site-packages\\sklearn\\utils\\validation.py:767: FutureWarning: is_sparse is deprecated and will be removed in a future version. Check `isinstance(dtype, pd.SparseDtype)` instead.\n",
      "  if not hasattr(array, \"sparse\") and array.dtypes.apply(is_sparse).any():\n",
      "c:\\Users\\stara\\AppData\\Local\\Programs\\Python\\Python311\\Lib\\site-packages\\sklearn\\utils\\validation.py:605: FutureWarning: is_sparse is deprecated and will be removed in a future version. Check `isinstance(dtype, pd.SparseDtype)` instead.\n",
      "  if is_sparse(pd_dtype):\n",
      "c:\\Users\\stara\\AppData\\Local\\Programs\\Python\\Python311\\Lib\\site-packages\\sklearn\\utils\\validation.py:614: FutureWarning: is_sparse is deprecated and will be removed in a future version. Check `isinstance(dtype, pd.SparseDtype)` instead.\n",
      "  if is_sparse(pd_dtype) or not is_extension_array_dtype(pd_dtype):\n",
      "c:\\Users\\stara\\AppData\\Local\\Programs\\Python\\Python311\\Lib\\site-packages\\sklearn\\utils\\validation.py:767: FutureWarning: is_sparse is deprecated and will be removed in a future version. Check `isinstance(dtype, pd.SparseDtype)` instead.\n",
      "  if not hasattr(array, \"sparse\") and array.dtypes.apply(is_sparse).any():\n",
      "c:\\Users\\stara\\AppData\\Local\\Programs\\Python\\Python311\\Lib\\site-packages\\sklearn\\utils\\validation.py:605: FutureWarning: is_sparse is deprecated and will be removed in a future version. Check `isinstance(dtype, pd.SparseDtype)` instead.\n",
      "  if is_sparse(pd_dtype):\n",
      "c:\\Users\\stara\\AppData\\Local\\Programs\\Python\\Python311\\Lib\\site-packages\\sklearn\\utils\\validation.py:614: FutureWarning: is_sparse is deprecated and will be removed in a future version. Check `isinstance(dtype, pd.SparseDtype)` instead.\n",
      "  if is_sparse(pd_dtype) or not is_extension_array_dtype(pd_dtype):\n"
     ]
    },
    {
     "name": "stdout",
     "output_type": "stream",
     "text": [
      "8/8 [==============================] - 0s 7ms/step - loss: 0.1966 - accuracy: 0.9441 - val_loss: 0.2438 - val_accuracy: 0.9365\n",
      "Epoch 2/10\n",
      "8/8 [==============================] - 0s 4ms/step - loss: 0.1586 - accuracy: 0.9661 - val_loss: 0.2222 - val_accuracy: 0.9286\n",
      "Epoch 3/10\n",
      "8/8 [==============================] - 0s 4ms/step - loss: 0.1830 - accuracy: 0.9461 - val_loss: 0.2102 - val_accuracy: 0.9444\n",
      "Epoch 4/10\n",
      "8/8 [==============================] - 0s 4ms/step - loss: 0.1648 - accuracy: 0.9641 - val_loss: 0.1981 - val_accuracy: 0.9444\n",
      "Epoch 5/10\n",
      "8/8 [==============================] - 0s 4ms/step - loss: 0.1437 - accuracy: 0.9721 - val_loss: 0.1916 - val_accuracy: 0.9444\n",
      "Epoch 6/10\n",
      "8/8 [==============================] - 0s 4ms/step - loss: 0.1329 - accuracy: 0.9741 - val_loss: 0.1870 - val_accuracy: 0.9444\n",
      "Epoch 7/10\n",
      "8/8 [==============================] - 0s 5ms/step - loss: 0.1307 - accuracy: 0.9780 - val_loss: 0.1884 - val_accuracy: 0.9444\n",
      "Epoch 8/10\n",
      "8/8 [==============================] - 0s 4ms/step - loss: 0.1172 - accuracy: 0.9741 - val_loss: 0.1901 - val_accuracy: 0.9444\n",
      "Epoch 9/10\n",
      "8/8 [==============================] - 0s 4ms/step - loss: 0.1259 - accuracy: 0.9840 - val_loss: 0.1935 - val_accuracy: 0.9444\n",
      "Epoch 10/10\n",
      "8/8 [==============================] - 0s 4ms/step - loss: 0.1345 - accuracy: 0.9760 - val_loss: 0.1942 - val_accuracy: 0.9444\n",
      "121/121 [==============================] - 0s 637us/step - loss: 195.8076 - accuracy: 0.5004\n",
      "Model accuracy: 0.500388503074646\n",
      "Epoch 1/10\n",
      " 1/12 [=>............................] - ETA: 0s - loss: 0.1249 - accuracy: 0.9844"
     ]
    },
    {
     "name": "stderr",
     "output_type": "stream",
     "text": [
      "c:\\Users\\stara\\AppData\\Local\\Programs\\Python\\Python311\\Lib\\site-packages\\sklearn\\base.py:439: UserWarning: X does not have valid feature names, but StandardScaler was fitted with feature names\n",
      "  warnings.warn(\n",
      "c:\\Users\\stara\\AppData\\Local\\Programs\\Python\\Python311\\Lib\\site-packages\\sklearn\\utils\\validation.py:767: FutureWarning: is_sparse is deprecated and will be removed in a future version. Check `isinstance(dtype, pd.SparseDtype)` instead.\n",
      "  if not hasattr(array, \"sparse\") and array.dtypes.apply(is_sparse).any():\n",
      "c:\\Users\\stara\\AppData\\Local\\Programs\\Python\\Python311\\Lib\\site-packages\\sklearn\\utils\\validation.py:605: FutureWarning: is_sparse is deprecated and will be removed in a future version. Check `isinstance(dtype, pd.SparseDtype)` instead.\n",
      "  if is_sparse(pd_dtype):\n",
      "c:\\Users\\stara\\AppData\\Local\\Programs\\Python\\Python311\\Lib\\site-packages\\sklearn\\utils\\validation.py:614: FutureWarning: is_sparse is deprecated and will be removed in a future version. Check `isinstance(dtype, pd.SparseDtype)` instead.\n",
      "  if is_sparse(pd_dtype) or not is_extension_array_dtype(pd_dtype):\n",
      "c:\\Users\\stara\\AppData\\Local\\Programs\\Python\\Python311\\Lib\\site-packages\\sklearn\\utils\\validation.py:767: FutureWarning: is_sparse is deprecated and will be removed in a future version. Check `isinstance(dtype, pd.SparseDtype)` instead.\n",
      "  if not hasattr(array, \"sparse\") and array.dtypes.apply(is_sparse).any():\n",
      "c:\\Users\\stara\\AppData\\Local\\Programs\\Python\\Python311\\Lib\\site-packages\\sklearn\\utils\\validation.py:605: FutureWarning: is_sparse is deprecated and will be removed in a future version. Check `isinstance(dtype, pd.SparseDtype)` instead.\n",
      "  if is_sparse(pd_dtype):\n",
      "c:\\Users\\stara\\AppData\\Local\\Programs\\Python\\Python311\\Lib\\site-packages\\sklearn\\utils\\validation.py:614: FutureWarning: is_sparse is deprecated and will be removed in a future version. Check `isinstance(dtype, pd.SparseDtype)` instead.\n",
      "  if is_sparse(pd_dtype) or not is_extension_array_dtype(pd_dtype):\n"
     ]
    },
    {
     "name": "stdout",
     "output_type": "stream",
     "text": [
      "12/12 [==============================] - 0s 5ms/step - loss: 0.1765 - accuracy: 0.9593 - val_loss: 0.1812 - val_accuracy: 0.9738\n",
      "Epoch 2/10\n",
      "12/12 [==============================] - 0s 3ms/step - loss: 0.1420 - accuracy: 0.9751 - val_loss: 0.1742 - val_accuracy: 0.9686\n",
      "Epoch 3/10\n",
      "12/12 [==============================] - 0s 3ms/step - loss: 0.1345 - accuracy: 0.9711 - val_loss: 0.1760 - val_accuracy: 0.9686\n",
      "Epoch 4/10\n",
      "12/12 [==============================] - 0s 3ms/step - loss: 0.1359 - accuracy: 0.9724 - val_loss: 0.1765 - val_accuracy: 0.9686\n",
      "Epoch 5/10\n",
      "12/12 [==============================] - 0s 3ms/step - loss: 0.1235 - accuracy: 0.9711 - val_loss: 0.1782 - val_accuracy: 0.9686\n",
      "Epoch 6/10\n",
      "12/12 [==============================] - 0s 3ms/step - loss: 0.1191 - accuracy: 0.9777 - val_loss: 0.1782 - val_accuracy: 0.9686\n",
      "Epoch 7/10\n",
      "12/12 [==============================] - 0s 3ms/step - loss: 0.1044 - accuracy: 0.9882 - val_loss: 0.1771 - val_accuracy: 0.9634\n",
      "Epoch 8/10\n",
      "12/12 [==============================] - 0s 3ms/step - loss: 0.1084 - accuracy: 0.9895 - val_loss: 0.1784 - val_accuracy: 0.9634\n",
      "Epoch 9/10\n",
      "12/12 [==============================] - 0s 3ms/step - loss: 0.1160 - accuracy: 0.9816 - val_loss: 0.1793 - val_accuracy: 0.9686\n",
      "Epoch 10/10\n",
      "12/12 [==============================] - 0s 3ms/step - loss: 0.1108 - accuracy: 0.9869 - val_loss: 0.1788 - val_accuracy: 0.9686\n",
      "121/121 [==============================] - 0s 648us/step - loss: 185.2624 - accuracy: 0.5004\n",
      "Model accuracy: 0.500388503074646\n",
      "Epoch 1/10\n",
      " 1/12 [=>............................] - ETA: 0s - loss: 0.1956 - accuracy: 0.9375"
     ]
    },
    {
     "name": "stderr",
     "output_type": "stream",
     "text": [
      "c:\\Users\\stara\\AppData\\Local\\Programs\\Python\\Python311\\Lib\\site-packages\\sklearn\\base.py:439: UserWarning: X does not have valid feature names, but StandardScaler was fitted with feature names\n",
      "  warnings.warn(\n",
      "c:\\Users\\stara\\AppData\\Local\\Programs\\Python\\Python311\\Lib\\site-packages\\sklearn\\utils\\validation.py:767: FutureWarning: is_sparse is deprecated and will be removed in a future version. Check `isinstance(dtype, pd.SparseDtype)` instead.\n",
      "  if not hasattr(array, \"sparse\") and array.dtypes.apply(is_sparse).any():\n",
      "c:\\Users\\stara\\AppData\\Local\\Programs\\Python\\Python311\\Lib\\site-packages\\sklearn\\utils\\validation.py:605: FutureWarning: is_sparse is deprecated and will be removed in a future version. Check `isinstance(dtype, pd.SparseDtype)` instead.\n",
      "  if is_sparse(pd_dtype):\n",
      "c:\\Users\\stara\\AppData\\Local\\Programs\\Python\\Python311\\Lib\\site-packages\\sklearn\\utils\\validation.py:614: FutureWarning: is_sparse is deprecated and will be removed in a future version. Check `isinstance(dtype, pd.SparseDtype)` instead.\n",
      "  if is_sparse(pd_dtype) or not is_extension_array_dtype(pd_dtype):\n",
      "c:\\Users\\stara\\AppData\\Local\\Programs\\Python\\Python311\\Lib\\site-packages\\sklearn\\utils\\validation.py:767: FutureWarning: is_sparse is deprecated and will be removed in a future version. Check `isinstance(dtype, pd.SparseDtype)` instead.\n",
      "  if not hasattr(array, \"sparse\") and array.dtypes.apply(is_sparse).any():\n",
      "c:\\Users\\stara\\AppData\\Local\\Programs\\Python\\Python311\\Lib\\site-packages\\sklearn\\utils\\validation.py:605: FutureWarning: is_sparse is deprecated and will be removed in a future version. Check `isinstance(dtype, pd.SparseDtype)` instead.\n",
      "  if is_sparse(pd_dtype):\n",
      "c:\\Users\\stara\\AppData\\Local\\Programs\\Python\\Python311\\Lib\\site-packages\\sklearn\\utils\\validation.py:614: FutureWarning: is_sparse is deprecated and will be removed in a future version. Check `isinstance(dtype, pd.SparseDtype)` instead.\n",
      "  if is_sparse(pd_dtype) or not is_extension_array_dtype(pd_dtype):\n"
     ]
    },
    {
     "name": "stdout",
     "output_type": "stream",
     "text": [
      "12/12 [==============================] - 0s 5ms/step - loss: 0.2200 - accuracy: 0.9446 - val_loss: 0.2708 - val_accuracy: 0.9337\n",
      "Epoch 2/10\n",
      "12/12 [==============================] - 0s 3ms/step - loss: 0.1994 - accuracy: 0.9529 - val_loss: 0.2664 - val_accuracy: 0.9337\n",
      "Epoch 3/10\n",
      "12/12 [==============================] - 0s 3ms/step - loss: 0.1866 - accuracy: 0.9474 - val_loss: 0.2628 - val_accuracy: 0.9337\n",
      "Epoch 4/10\n",
      "12/12 [==============================] - 0s 3ms/step - loss: 0.1751 - accuracy: 0.9612 - val_loss: 0.2517 - val_accuracy: 0.9448\n",
      "Epoch 5/10\n",
      "12/12 [==============================] - 0s 3ms/step - loss: 0.1491 - accuracy: 0.9695 - val_loss: 0.2496 - val_accuracy: 0.9503\n",
      "Epoch 6/10\n",
      "12/12 [==============================] - 0s 3ms/step - loss: 0.1629 - accuracy: 0.9584 - val_loss: 0.2491 - val_accuracy: 0.9503\n",
      "Epoch 7/10\n",
      "12/12 [==============================] - 0s 3ms/step - loss: 0.1543 - accuracy: 0.9640 - val_loss: 0.2474 - val_accuracy: 0.9503\n",
      "Epoch 8/10\n",
      "12/12 [==============================] - 0s 3ms/step - loss: 0.1480 - accuracy: 0.9668 - val_loss: 0.2477 - val_accuracy: 0.9503\n",
      "Epoch 9/10\n",
      "12/12 [==============================] - 0s 3ms/step - loss: 0.1349 - accuracy: 0.9695 - val_loss: 0.2490 - val_accuracy: 0.9558\n",
      "Epoch 10/10\n",
      "12/12 [==============================] - 0s 3ms/step - loss: 0.1296 - accuracy: 0.9737 - val_loss: 0.2525 - val_accuracy: 0.9558\n",
      "121/121 [==============================] - 0s 695us/step - loss: 154.9054 - accuracy: 0.5004\n",
      "Model accuracy: 0.500388503074646\n",
      "Epoch 1/10\n",
      " 1/10 [==>...........................] - ETA: 0s - loss: 0.4263 - accuracy: 0.9531"
     ]
    },
    {
     "name": "stderr",
     "output_type": "stream",
     "text": [
      "c:\\Users\\stara\\AppData\\Local\\Programs\\Python\\Python311\\Lib\\site-packages\\sklearn\\base.py:439: UserWarning: X does not have valid feature names, but StandardScaler was fitted with feature names\n",
      "  warnings.warn(\n",
      "c:\\Users\\stara\\AppData\\Local\\Programs\\Python\\Python311\\Lib\\site-packages\\sklearn\\utils\\validation.py:767: FutureWarning: is_sparse is deprecated and will be removed in a future version. Check `isinstance(dtype, pd.SparseDtype)` instead.\n",
      "  if not hasattr(array, \"sparse\") and array.dtypes.apply(is_sparse).any():\n",
      "c:\\Users\\stara\\AppData\\Local\\Programs\\Python\\Python311\\Lib\\site-packages\\sklearn\\utils\\validation.py:605: FutureWarning: is_sparse is deprecated and will be removed in a future version. Check `isinstance(dtype, pd.SparseDtype)` instead.\n",
      "  if is_sparse(pd_dtype):\n",
      "c:\\Users\\stara\\AppData\\Local\\Programs\\Python\\Python311\\Lib\\site-packages\\sklearn\\utils\\validation.py:614: FutureWarning: is_sparse is deprecated and will be removed in a future version. Check `isinstance(dtype, pd.SparseDtype)` instead.\n",
      "  if is_sparse(pd_dtype) or not is_extension_array_dtype(pd_dtype):\n",
      "c:\\Users\\stara\\AppData\\Local\\Programs\\Python\\Python311\\Lib\\site-packages\\sklearn\\utils\\validation.py:767: FutureWarning: is_sparse is deprecated and will be removed in a future version. Check `isinstance(dtype, pd.SparseDtype)` instead.\n",
      "  if not hasattr(array, \"sparse\") and array.dtypes.apply(is_sparse).any():\n",
      "c:\\Users\\stara\\AppData\\Local\\Programs\\Python\\Python311\\Lib\\site-packages\\sklearn\\utils\\validation.py:605: FutureWarning: is_sparse is deprecated and will be removed in a future version. Check `isinstance(dtype, pd.SparseDtype)` instead.\n",
      "  if is_sparse(pd_dtype):\n",
      "c:\\Users\\stara\\AppData\\Local\\Programs\\Python\\Python311\\Lib\\site-packages\\sklearn\\utils\\validation.py:614: FutureWarning: is_sparse is deprecated and will be removed in a future version. Check `isinstance(dtype, pd.SparseDtype)` instead.\n",
      "  if is_sparse(pd_dtype) or not is_extension_array_dtype(pd_dtype):\n"
     ]
    },
    {
     "name": "stdout",
     "output_type": "stream",
     "text": [
      "10/10 [==============================] - 0s 6ms/step - loss: 0.2899 - accuracy: 0.9346 - val_loss: 0.2251 - val_accuracy: 0.9363\n",
      "Epoch 2/10\n",
      "10/10 [==============================] - 0s 3ms/step - loss: 0.2179 - accuracy: 0.9458 - val_loss: 0.2057 - val_accuracy: 0.9363\n",
      "Epoch 3/10\n",
      "10/10 [==============================] - 0s 3ms/step - loss: 0.1709 - accuracy: 0.9522 - val_loss: 0.1969 - val_accuracy: 0.9363\n",
      "Epoch 4/10\n",
      "10/10 [==============================] - 0s 3ms/step - loss: 0.1468 - accuracy: 0.9617 - val_loss: 0.1917 - val_accuracy: 0.9299\n",
      "Epoch 5/10\n",
      "10/10 [==============================] - 0s 3ms/step - loss: 0.1507 - accuracy: 0.9569 - val_loss: 0.1831 - val_accuracy: 0.9299\n",
      "Epoch 6/10\n",
      "10/10 [==============================] - 0s 3ms/step - loss: 0.1573 - accuracy: 0.9569 - val_loss: 0.1857 - val_accuracy: 0.9299\n",
      "Epoch 7/10\n",
      "10/10 [==============================] - 0s 4ms/step - loss: 0.1491 - accuracy: 0.9633 - val_loss: 0.1893 - val_accuracy: 0.9490\n",
      "Epoch 8/10\n",
      "10/10 [==============================] - 0s 3ms/step - loss: 0.1329 - accuracy: 0.9713 - val_loss: 0.1950 - val_accuracy: 0.9490\n",
      "Epoch 9/10\n",
      "10/10 [==============================] - 0s 3ms/step - loss: 0.1383 - accuracy: 0.9601 - val_loss: 0.1880 - val_accuracy: 0.9363\n",
      "Epoch 10/10\n",
      "10/10 [==============================] - 0s 3ms/step - loss: 0.1230 - accuracy: 0.9777 - val_loss: 0.1856 - val_accuracy: 0.9427\n",
      "121/121 [==============================] - 0s 619us/step - loss: 103.5630 - accuracy: 0.5004\n",
      "Model accuracy: 0.500388503074646\n",
      "Epoch 1/10\n",
      " 1/11 [=>............................] - ETA: 0s - loss: 0.1053 - accuracy: 1.0000"
     ]
    },
    {
     "name": "stderr",
     "output_type": "stream",
     "text": [
      "c:\\Users\\stara\\AppData\\Local\\Programs\\Python\\Python311\\Lib\\site-packages\\sklearn\\base.py:439: UserWarning: X does not have valid feature names, but StandardScaler was fitted with feature names\n",
      "  warnings.warn(\n",
      "c:\\Users\\stara\\AppData\\Local\\Programs\\Python\\Python311\\Lib\\site-packages\\sklearn\\utils\\validation.py:767: FutureWarning: is_sparse is deprecated and will be removed in a future version. Check `isinstance(dtype, pd.SparseDtype)` instead.\n",
      "  if not hasattr(array, \"sparse\") and array.dtypes.apply(is_sparse).any():\n",
      "c:\\Users\\stara\\AppData\\Local\\Programs\\Python\\Python311\\Lib\\site-packages\\sklearn\\utils\\validation.py:605: FutureWarning: is_sparse is deprecated and will be removed in a future version. Check `isinstance(dtype, pd.SparseDtype)` instead.\n",
      "  if is_sparse(pd_dtype):\n",
      "c:\\Users\\stara\\AppData\\Local\\Programs\\Python\\Python311\\Lib\\site-packages\\sklearn\\utils\\validation.py:614: FutureWarning: is_sparse is deprecated and will be removed in a future version. Check `isinstance(dtype, pd.SparseDtype)` instead.\n",
      "  if is_sparse(pd_dtype) or not is_extension_array_dtype(pd_dtype):\n",
      "c:\\Users\\stara\\AppData\\Local\\Programs\\Python\\Python311\\Lib\\site-packages\\sklearn\\utils\\validation.py:767: FutureWarning: is_sparse is deprecated and will be removed in a future version. Check `isinstance(dtype, pd.SparseDtype)` instead.\n",
      "  if not hasattr(array, \"sparse\") and array.dtypes.apply(is_sparse).any():\n",
      "c:\\Users\\stara\\AppData\\Local\\Programs\\Python\\Python311\\Lib\\site-packages\\sklearn\\utils\\validation.py:605: FutureWarning: is_sparse is deprecated and will be removed in a future version. Check `isinstance(dtype, pd.SparseDtype)` instead.\n",
      "  if is_sparse(pd_dtype):\n",
      "c:\\Users\\stara\\AppData\\Local\\Programs\\Python\\Python311\\Lib\\site-packages\\sklearn\\utils\\validation.py:614: FutureWarning: is_sparse is deprecated and will be removed in a future version. Check `isinstance(dtype, pd.SparseDtype)` instead.\n",
      "  if is_sparse(pd_dtype) or not is_extension_array_dtype(pd_dtype):\n"
     ]
    },
    {
     "name": "stdout",
     "output_type": "stream",
     "text": [
      "11/11 [==============================] - 0s 5ms/step - loss: 0.1833 - accuracy: 0.9512 - val_loss: 0.2334 - val_accuracy: 0.9353\n",
      "Epoch 2/10\n",
      "11/11 [==============================] - 0s 3ms/step - loss: 0.1480 - accuracy: 0.9660 - val_loss: 0.2036 - val_accuracy: 0.9588\n",
      "Epoch 3/10\n",
      "11/11 [==============================] - 0s 3ms/step - loss: 0.1368 - accuracy: 0.9689 - val_loss: 0.1975 - val_accuracy: 0.9529\n",
      "Epoch 4/10\n",
      "11/11 [==============================] - 0s 3ms/step - loss: 0.1272 - accuracy: 0.9749 - val_loss: 0.1963 - val_accuracy: 0.9529\n",
      "Epoch 5/10\n",
      "11/11 [==============================] - 0s 3ms/step - loss: 0.1226 - accuracy: 0.9822 - val_loss: 0.1947 - val_accuracy: 0.9529\n",
      "Epoch 6/10\n",
      "11/11 [==============================] - 0s 3ms/step - loss: 0.1178 - accuracy: 0.9778 - val_loss: 0.1958 - val_accuracy: 0.9588\n",
      "Epoch 7/10\n",
      "11/11 [==============================] - 0s 3ms/step - loss: 0.1046 - accuracy: 0.9852 - val_loss: 0.1957 - val_accuracy: 0.9588\n",
      "Epoch 8/10\n",
      "11/11 [==============================] - 0s 3ms/step - loss: 0.1079 - accuracy: 0.9837 - val_loss: 0.1948 - val_accuracy: 0.9529\n",
      "Epoch 9/10\n",
      "11/11 [==============================] - 0s 3ms/step - loss: 0.1026 - accuracy: 0.9837 - val_loss: 0.1935 - val_accuracy: 0.9588\n",
      "Epoch 10/10\n",
      "11/11 [==============================] - 0s 3ms/step - loss: 0.1002 - accuracy: 0.9852 - val_loss: 0.1906 - val_accuracy: 0.9588\n",
      "121/121 [==============================] - 0s 663us/step - loss: 208.3365 - accuracy: 0.5004\n",
      "Model accuracy: 0.500388503074646\n",
      "Epoch 1/10\n",
      "1/9 [==>...........................] - ETA: 0s - loss: 0.0771 - accuracy: 1.0000"
     ]
    },
    {
     "name": "stderr",
     "output_type": "stream",
     "text": [
      "c:\\Users\\stara\\AppData\\Local\\Programs\\Python\\Python311\\Lib\\site-packages\\sklearn\\base.py:439: UserWarning: X does not have valid feature names, but StandardScaler was fitted with feature names\n",
      "  warnings.warn(\n",
      "c:\\Users\\stara\\AppData\\Local\\Programs\\Python\\Python311\\Lib\\site-packages\\sklearn\\utils\\validation.py:767: FutureWarning: is_sparse is deprecated and will be removed in a future version. Check `isinstance(dtype, pd.SparseDtype)` instead.\n",
      "  if not hasattr(array, \"sparse\") and array.dtypes.apply(is_sparse).any():\n",
      "c:\\Users\\stara\\AppData\\Local\\Programs\\Python\\Python311\\Lib\\site-packages\\sklearn\\utils\\validation.py:605: FutureWarning: is_sparse is deprecated and will be removed in a future version. Check `isinstance(dtype, pd.SparseDtype)` instead.\n",
      "  if is_sparse(pd_dtype):\n",
      "c:\\Users\\stara\\AppData\\Local\\Programs\\Python\\Python311\\Lib\\site-packages\\sklearn\\utils\\validation.py:614: FutureWarning: is_sparse is deprecated and will be removed in a future version. Check `isinstance(dtype, pd.SparseDtype)` instead.\n",
      "  if is_sparse(pd_dtype) or not is_extension_array_dtype(pd_dtype):\n",
      "c:\\Users\\stara\\AppData\\Local\\Programs\\Python\\Python311\\Lib\\site-packages\\sklearn\\utils\\validation.py:767: FutureWarning: is_sparse is deprecated and will be removed in a future version. Check `isinstance(dtype, pd.SparseDtype)` instead.\n",
      "  if not hasattr(array, \"sparse\") and array.dtypes.apply(is_sparse).any():\n",
      "c:\\Users\\stara\\AppData\\Local\\Programs\\Python\\Python311\\Lib\\site-packages\\sklearn\\utils\\validation.py:605: FutureWarning: is_sparse is deprecated and will be removed in a future version. Check `isinstance(dtype, pd.SparseDtype)` instead.\n",
      "  if is_sparse(pd_dtype):\n",
      "c:\\Users\\stara\\AppData\\Local\\Programs\\Python\\Python311\\Lib\\site-packages\\sklearn\\utils\\validation.py:614: FutureWarning: is_sparse is deprecated and will be removed in a future version. Check `isinstance(dtype, pd.SparseDtype)` instead.\n",
      "  if is_sparse(pd_dtype) or not is_extension_array_dtype(pd_dtype):\n"
     ]
    },
    {
     "name": "stdout",
     "output_type": "stream",
     "text": [
      "9/9 [==============================] - 0s 6ms/step - loss: 0.1353 - accuracy: 0.9694 - val_loss: 0.1058 - val_accuracy: 0.9784\n",
      "Epoch 2/10\n",
      "9/9 [==============================] - 0s 4ms/step - loss: 0.1534 - accuracy: 0.9676 - val_loss: 0.1010 - val_accuracy: 0.9784\n",
      "Epoch 3/10\n",
      "9/9 [==============================] - 0s 4ms/step - loss: 0.1326 - accuracy: 0.9730 - val_loss: 0.0985 - val_accuracy: 0.9784\n",
      "Epoch 4/10\n",
      "9/9 [==============================] - 0s 3ms/step - loss: 0.1241 - accuracy: 0.9766 - val_loss: 0.0956 - val_accuracy: 0.9784\n",
      "Epoch 5/10\n",
      "9/9 [==============================] - 0s 3ms/step - loss: 0.1090 - accuracy: 0.9838 - val_loss: 0.0971 - val_accuracy: 0.9784\n",
      "Epoch 6/10\n",
      "9/9 [==============================] - 0s 4ms/step - loss: 0.1015 - accuracy: 0.9820 - val_loss: 0.0976 - val_accuracy: 0.9784\n",
      "Epoch 7/10\n",
      "9/9 [==============================] - 0s 4ms/step - loss: 0.1051 - accuracy: 0.9892 - val_loss: 0.1009 - val_accuracy: 0.9784\n",
      "Epoch 8/10\n",
      "9/9 [==============================] - 0s 3ms/step - loss: 0.0889 - accuracy: 0.9892 - val_loss: 0.0999 - val_accuracy: 0.9784\n",
      "Epoch 9/10\n",
      "9/9 [==============================] - 0s 4ms/step - loss: 0.0916 - accuracy: 0.9910 - val_loss: 0.0986 - val_accuracy: 0.9784\n",
      "Epoch 10/10\n",
      "9/9 [==============================] - 0s 4ms/step - loss: 0.0846 - accuracy: 0.9892 - val_loss: 0.1001 - val_accuracy: 0.9784\n",
      "121/121 [==============================] - 0s 632us/step - loss: 232.0454 - accuracy: 0.5004\n",
      "Model accuracy: 0.500388503074646\n",
      "Epoch 1/10\n",
      " 1/10 [==>...........................] - ETA: 0s - loss: 0.1815 - accuracy: 0.9688"
     ]
    },
    {
     "name": "stderr",
     "output_type": "stream",
     "text": [
      "c:\\Users\\stara\\AppData\\Local\\Programs\\Python\\Python311\\Lib\\site-packages\\sklearn\\base.py:439: UserWarning: X does not have valid feature names, but StandardScaler was fitted with feature names\n",
      "  warnings.warn(\n",
      "c:\\Users\\stara\\AppData\\Local\\Programs\\Python\\Python311\\Lib\\site-packages\\sklearn\\utils\\validation.py:767: FutureWarning: is_sparse is deprecated and will be removed in a future version. Check `isinstance(dtype, pd.SparseDtype)` instead.\n",
      "  if not hasattr(array, \"sparse\") and array.dtypes.apply(is_sparse).any():\n",
      "c:\\Users\\stara\\AppData\\Local\\Programs\\Python\\Python311\\Lib\\site-packages\\sklearn\\utils\\validation.py:605: FutureWarning: is_sparse is deprecated and will be removed in a future version. Check `isinstance(dtype, pd.SparseDtype)` instead.\n",
      "  if is_sparse(pd_dtype):\n",
      "c:\\Users\\stara\\AppData\\Local\\Programs\\Python\\Python311\\Lib\\site-packages\\sklearn\\utils\\validation.py:614: FutureWarning: is_sparse is deprecated and will be removed in a future version. Check `isinstance(dtype, pd.SparseDtype)` instead.\n",
      "  if is_sparse(pd_dtype) or not is_extension_array_dtype(pd_dtype):\n",
      "c:\\Users\\stara\\AppData\\Local\\Programs\\Python\\Python311\\Lib\\site-packages\\sklearn\\utils\\validation.py:767: FutureWarning: is_sparse is deprecated and will be removed in a future version. Check `isinstance(dtype, pd.SparseDtype)` instead.\n",
      "  if not hasattr(array, \"sparse\") and array.dtypes.apply(is_sparse).any():\n",
      "c:\\Users\\stara\\AppData\\Local\\Programs\\Python\\Python311\\Lib\\site-packages\\sklearn\\utils\\validation.py:605: FutureWarning: is_sparse is deprecated and will be removed in a future version. Check `isinstance(dtype, pd.SparseDtype)` instead.\n",
      "  if is_sparse(pd_dtype):\n",
      "c:\\Users\\stara\\AppData\\Local\\Programs\\Python\\Python311\\Lib\\site-packages\\sklearn\\utils\\validation.py:614: FutureWarning: is_sparse is deprecated and will be removed in a future version. Check `isinstance(dtype, pd.SparseDtype)` instead.\n",
      "  if is_sparse(pd_dtype) or not is_extension_array_dtype(pd_dtype):\n"
     ]
    },
    {
     "name": "stdout",
     "output_type": "stream",
     "text": [
      "10/10 [==============================] - 0s 6ms/step - loss: 0.2032 - accuracy: 0.9499 - val_loss: 0.1941 - val_accuracy: 0.9517\n",
      "Epoch 2/10\n",
      "10/10 [==============================] - 0s 3ms/step - loss: 0.1721 - accuracy: 0.9585 - val_loss: 0.1889 - val_accuracy: 0.9448\n",
      "Epoch 3/10\n",
      "10/10 [==============================] - 0s 4ms/step - loss: 0.1497 - accuracy: 0.9655 - val_loss: 0.1810 - val_accuracy: 0.9586\n",
      "Epoch 4/10\n",
      "10/10 [==============================] - 0s 3ms/step - loss: 0.1359 - accuracy: 0.9741 - val_loss: 0.1766 - val_accuracy: 0.9517\n",
      "Epoch 5/10\n",
      "10/10 [==============================] - 0s 3ms/step - loss: 0.1388 - accuracy: 0.9724 - val_loss: 0.1740 - val_accuracy: 0.9655\n",
      "Epoch 6/10\n",
      "10/10 [==============================] - 0s 3ms/step - loss: 0.1119 - accuracy: 0.9827 - val_loss: 0.1742 - val_accuracy: 0.9655\n",
      "Epoch 7/10\n",
      "10/10 [==============================] - 0s 3ms/step - loss: 0.0945 - accuracy: 0.9879 - val_loss: 0.1773 - val_accuracy: 0.9655\n",
      "Epoch 8/10\n",
      "10/10 [==============================] - 0s 4ms/step - loss: 0.1140 - accuracy: 0.9845 - val_loss: 0.1806 - val_accuracy: 0.9655\n",
      "Epoch 9/10\n",
      "10/10 [==============================] - 0s 3ms/step - loss: 0.1023 - accuracy: 0.9862 - val_loss: 0.1965 - val_accuracy: 0.9517\n",
      "Epoch 10/10\n",
      "10/10 [==============================] - 0s 3ms/step - loss: 0.1127 - accuracy: 0.9793 - val_loss: 0.1980 - val_accuracy: 0.9517\n",
      "121/121 [==============================] - 0s 662us/step - loss: 347.7291 - accuracy: 0.5004\n",
      "Model accuracy: 0.500388503074646\n",
      "Epoch 1/10\n",
      "1/9 [==>...........................] - ETA: 0s - loss: 0.1899 - accuracy: 0.9219"
     ]
    },
    {
     "name": "stderr",
     "output_type": "stream",
     "text": [
      "c:\\Users\\stara\\AppData\\Local\\Programs\\Python\\Python311\\Lib\\site-packages\\sklearn\\base.py:439: UserWarning: X does not have valid feature names, but StandardScaler was fitted with feature names\n",
      "  warnings.warn(\n",
      "c:\\Users\\stara\\AppData\\Local\\Programs\\Python\\Python311\\Lib\\site-packages\\sklearn\\utils\\validation.py:767: FutureWarning: is_sparse is deprecated and will be removed in a future version. Check `isinstance(dtype, pd.SparseDtype)` instead.\n",
      "  if not hasattr(array, \"sparse\") and array.dtypes.apply(is_sparse).any():\n",
      "c:\\Users\\stara\\AppData\\Local\\Programs\\Python\\Python311\\Lib\\site-packages\\sklearn\\utils\\validation.py:605: FutureWarning: is_sparse is deprecated and will be removed in a future version. Check `isinstance(dtype, pd.SparseDtype)` instead.\n",
      "  if is_sparse(pd_dtype):\n",
      "c:\\Users\\stara\\AppData\\Local\\Programs\\Python\\Python311\\Lib\\site-packages\\sklearn\\utils\\validation.py:614: FutureWarning: is_sparse is deprecated and will be removed in a future version. Check `isinstance(dtype, pd.SparseDtype)` instead.\n",
      "  if is_sparse(pd_dtype) or not is_extension_array_dtype(pd_dtype):\n",
      "c:\\Users\\stara\\AppData\\Local\\Programs\\Python\\Python311\\Lib\\site-packages\\sklearn\\utils\\validation.py:767: FutureWarning: is_sparse is deprecated and will be removed in a future version. Check `isinstance(dtype, pd.SparseDtype)` instead.\n",
      "  if not hasattr(array, \"sparse\") and array.dtypes.apply(is_sparse).any():\n",
      "c:\\Users\\stara\\AppData\\Local\\Programs\\Python\\Python311\\Lib\\site-packages\\sklearn\\utils\\validation.py:605: FutureWarning: is_sparse is deprecated and will be removed in a future version. Check `isinstance(dtype, pd.SparseDtype)` instead.\n",
      "  if is_sparse(pd_dtype):\n",
      "c:\\Users\\stara\\AppData\\Local\\Programs\\Python\\Python311\\Lib\\site-packages\\sklearn\\utils\\validation.py:614: FutureWarning: is_sparse is deprecated and will be removed in a future version. Check `isinstance(dtype, pd.SparseDtype)` instead.\n",
      "  if is_sparse(pd_dtype) or not is_extension_array_dtype(pd_dtype):\n"
     ]
    },
    {
     "name": "stdout",
     "output_type": "stream",
     "text": [
      "9/9 [==============================] - 0s 6ms/step - loss: 0.2015 - accuracy: 0.9473 - val_loss: 0.1301 - val_accuracy: 0.9710\n",
      "Epoch 2/10\n",
      "9/9 [==============================] - 0s 4ms/step - loss: 0.1618 - accuracy: 0.9564 - val_loss: 0.1178 - val_accuracy: 0.9783\n",
      "Epoch 3/10\n",
      "9/9 [==============================] - 0s 4ms/step - loss: 0.1341 - accuracy: 0.9673 - val_loss: 0.1052 - val_accuracy: 0.9783\n",
      "Epoch 4/10\n",
      "9/9 [==============================] - 0s 4ms/step - loss: 0.1428 - accuracy: 0.9673 - val_loss: 0.0978 - val_accuracy: 0.9783\n",
      "Epoch 5/10\n",
      "9/9 [==============================] - 0s 4ms/step - loss: 0.1290 - accuracy: 0.9691 - val_loss: 0.1017 - val_accuracy: 0.9710\n",
      "Epoch 6/10\n",
      "9/9 [==============================] - 0s 4ms/step - loss: 0.1055 - accuracy: 0.9764 - val_loss: 0.1014 - val_accuracy: 0.9710\n",
      "Epoch 7/10\n",
      "9/9 [==============================] - 0s 3ms/step - loss: 0.0962 - accuracy: 0.9855 - val_loss: 0.0987 - val_accuracy: 0.9710\n",
      "Epoch 8/10\n",
      "9/9 [==============================] - 0s 4ms/step - loss: 0.0946 - accuracy: 0.9800 - val_loss: 0.0932 - val_accuracy: 0.9783\n",
      "Epoch 9/10\n",
      "9/9 [==============================] - 0s 4ms/step - loss: 0.0901 - accuracy: 0.9855 - val_loss: 0.0901 - val_accuracy: 0.9783\n",
      "Epoch 10/10\n",
      "9/9 [==============================] - 0s 4ms/step - loss: 0.0846 - accuracy: 0.9855 - val_loss: 0.0945 - val_accuracy: 0.9710\n",
      "121/121 [==============================] - 0s 639us/step - loss: 81.5906 - accuracy: 0.5004\n",
      "Model accuracy: 0.500388503074646\n",
      "Epoch 1/10\n",
      " 1/12 [=>............................] - ETA: 0s - loss: 0.6773 - accuracy: 0.9219"
     ]
    },
    {
     "name": "stderr",
     "output_type": "stream",
     "text": [
      "c:\\Users\\stara\\AppData\\Local\\Programs\\Python\\Python311\\Lib\\site-packages\\sklearn\\base.py:439: UserWarning: X does not have valid feature names, but StandardScaler was fitted with feature names\n",
      "  warnings.warn(\n",
      "c:\\Users\\stara\\AppData\\Local\\Programs\\Python\\Python311\\Lib\\site-packages\\sklearn\\utils\\validation.py:767: FutureWarning: is_sparse is deprecated and will be removed in a future version. Check `isinstance(dtype, pd.SparseDtype)` instead.\n",
      "  if not hasattr(array, \"sparse\") and array.dtypes.apply(is_sparse).any():\n",
      "c:\\Users\\stara\\AppData\\Local\\Programs\\Python\\Python311\\Lib\\site-packages\\sklearn\\utils\\validation.py:605: FutureWarning: is_sparse is deprecated and will be removed in a future version. Check `isinstance(dtype, pd.SparseDtype)` instead.\n",
      "  if is_sparse(pd_dtype):\n",
      "c:\\Users\\stara\\AppData\\Local\\Programs\\Python\\Python311\\Lib\\site-packages\\sklearn\\utils\\validation.py:614: FutureWarning: is_sparse is deprecated and will be removed in a future version. Check `isinstance(dtype, pd.SparseDtype)` instead.\n",
      "  if is_sparse(pd_dtype) or not is_extension_array_dtype(pd_dtype):\n",
      "c:\\Users\\stara\\AppData\\Local\\Programs\\Python\\Python311\\Lib\\site-packages\\sklearn\\utils\\validation.py:767: FutureWarning: is_sparse is deprecated and will be removed in a future version. Check `isinstance(dtype, pd.SparseDtype)` instead.\n",
      "  if not hasattr(array, \"sparse\") and array.dtypes.apply(is_sparse).any():\n",
      "c:\\Users\\stara\\AppData\\Local\\Programs\\Python\\Python311\\Lib\\site-packages\\sklearn\\utils\\validation.py:605: FutureWarning: is_sparse is deprecated and will be removed in a future version. Check `isinstance(dtype, pd.SparseDtype)` instead.\n",
      "  if is_sparse(pd_dtype):\n",
      "c:\\Users\\stara\\AppData\\Local\\Programs\\Python\\Python311\\Lib\\site-packages\\sklearn\\utils\\validation.py:614: FutureWarning: is_sparse is deprecated and will be removed in a future version. Check `isinstance(dtype, pd.SparseDtype)` instead.\n",
      "  if is_sparse(pd_dtype) or not is_extension_array_dtype(pd_dtype):\n"
     ]
    },
    {
     "name": "stdout",
     "output_type": "stream",
     "text": [
      "12/12 [==============================] - 0s 5ms/step - loss: 0.2908 - accuracy: 0.9265 - val_loss: 0.2363 - val_accuracy: 0.9309\n",
      "Epoch 2/10\n",
      "12/12 [==============================] - 0s 3ms/step - loss: 0.1700 - accuracy: 0.9626 - val_loss: 0.1928 - val_accuracy: 0.9415\n",
      "Epoch 3/10\n",
      "12/12 [==============================] - 0s 3ms/step - loss: 0.1545 - accuracy: 0.9652 - val_loss: 0.1795 - val_accuracy: 0.9468\n",
      "Epoch 4/10\n",
      "12/12 [==============================] - 0s 3ms/step - loss: 0.1394 - accuracy: 0.9679 - val_loss: 0.1752 - val_accuracy: 0.9521\n",
      "Epoch 5/10\n",
      "12/12 [==============================] - 0s 3ms/step - loss: 0.1167 - accuracy: 0.9786 - val_loss: 0.1681 - val_accuracy: 0.9468\n",
      "Epoch 6/10\n",
      "12/12 [==============================] - 0s 3ms/step - loss: 0.1278 - accuracy: 0.9719 - val_loss: 0.1681 - val_accuracy: 0.9468\n",
      "Epoch 7/10\n",
      "12/12 [==============================] - 0s 3ms/step - loss: 0.1089 - accuracy: 0.9773 - val_loss: 0.1678 - val_accuracy: 0.9468\n",
      "Epoch 8/10\n",
      "12/12 [==============================] - 0s 3ms/step - loss: 0.0939 - accuracy: 0.9866 - val_loss: 0.1651 - val_accuracy: 0.9521\n",
      "Epoch 9/10\n",
      "12/12 [==============================] - 0s 3ms/step - loss: 0.0981 - accuracy: 0.9813 - val_loss: 0.1638 - val_accuracy: 0.9468\n",
      "Epoch 10/10\n",
      "12/12 [==============================] - 0s 3ms/step - loss: 0.0920 - accuracy: 0.9813 - val_loss: 0.1580 - val_accuracy: 0.9521\n",
      "121/121 [==============================] - 0s 643us/step - loss: 234.4908 - accuracy: 0.5004\n",
      "Model accuracy: 0.500388503074646\n"
     ]
    },
    {
     "name": "stderr",
     "output_type": "stream",
     "text": [
      "c:\\Users\\stara\\AppData\\Local\\Programs\\Python\\Python311\\Lib\\site-packages\\sklearn\\base.py:439: UserWarning: X does not have valid feature names, but StandardScaler was fitted with feature names\n",
      "  warnings.warn(\n"
     ]
    }
   ],
   "source": [
    "# Iterar sobre cada año y mes únicos\n",
    "for year in sorted_data[\"transaction_year\"].unique():\n",
    "    for month in sorted_data[sorted_data[\"transaction_year\"] == year][\"transaction_month\"].unique():\n",
    "\n",
    "        # Filtrar datos del año y mes actual\n",
    "        df_batch = sorted_data[(sorted_data[\"transaction_year\"] == year) & (sorted_data[\"transaction_month\"] == month)]\n",
    "\n",
    "        # Separar características y etiquetas\n",
    "        X_batch = df_batch.drop(\"is_fraud\", axis=1)\n",
    "        y_batch = df_batch[\"is_fraud\"]\n",
    "\n",
    "        # Normalizar características\n",
    "        X_batch_scaled = scaler.fit_transform(X_batch)\n",
    "\n",
    "        # Dividir el lote en entrenamiento y validación\n",
    "        X_train, X_val, y_train, y_val = train_test_split(X_batch_scaled, y_batch, test_size=0.2, random_state=42)\n",
    "\n",
    "        # Entrenar el modelo con el lote actual\n",
    "        incremental_model.fit(X_train, y_train, epochs=10, batch_size=64, validation_data=(X_val, y_val), verbose=1)\n",
    "\n",
    "        # Normalizar y dividir el conjunto de prueba\n",
    "        X_test_scaled = scaler.transform(X_test)\n",
    "\n",
    "        # Evaluar el modelo\n",
    "        loss, accuracy = incremental_model.evaluate(X_test_scaled, y_test)\n",
    "        print(f\"Model accuracy: {accuracy}\")"
   ]
  },
  {
   "cell_type": "code",
   "execution_count": 71,
   "metadata": {},
   "outputs": [
    {
     "name": "stdout",
     "output_type": "stream",
     "text": [
      "121/121 [==============================] - 0s 603us/step\n"
     ]
    }
   ],
   "source": [
    "# Predecir las probabilidades de clase en el conjunto de prueba\n",
    "y_pred_prob = incremental_model.predict(X_test)\n",
    "y_pred = (y_pred_prob > 0.5).astype(int)"
   ]
  },
  {
   "cell_type": "code",
   "execution_count": 72,
   "metadata": {},
   "outputs": [
    {
     "name": "stderr",
     "output_type": "stream",
     "text": [
      "c:\\Users\\stara\\AppData\\Local\\Programs\\Python\\Python311\\Lib\\site-packages\\sklearn\\utils\\validation.py:605: FutureWarning: is_sparse is deprecated and will be removed in a future version. Check `isinstance(dtype, pd.SparseDtype)` instead.\n",
      "  if is_sparse(pd_dtype):\n",
      "c:\\Users\\stara\\AppData\\Local\\Programs\\Python\\Python311\\Lib\\site-packages\\sklearn\\utils\\validation.py:614: FutureWarning: is_sparse is deprecated and will be removed in a future version. Check `isinstance(dtype, pd.SparseDtype)` instead.\n",
      "  if is_sparse(pd_dtype) or not is_extension_array_dtype(pd_dtype):\n",
      "c:\\Users\\stara\\AppData\\Local\\Programs\\Python\\Python311\\Lib\\site-packages\\sklearn\\utils\\validation.py:605: FutureWarning: is_sparse is deprecated and will be removed in a future version. Check `isinstance(dtype, pd.SparseDtype)` instead.\n",
      "  if is_sparse(pd_dtype):\n",
      "c:\\Users\\stara\\AppData\\Local\\Programs\\Python\\Python311\\Lib\\site-packages\\sklearn\\utils\\validation.py:614: FutureWarning: is_sparse is deprecated and will be removed in a future version. Check `isinstance(dtype, pd.SparseDtype)` instead.\n",
      "  if is_sparse(pd_dtype) or not is_extension_array_dtype(pd_dtype):\n",
      "c:\\Users\\stara\\AppData\\Local\\Programs\\Python\\Python311\\Lib\\site-packages\\sklearn\\utils\\validation.py:605: FutureWarning: is_sparse is deprecated and will be removed in a future version. Check `isinstance(dtype, pd.SparseDtype)` instead.\n",
      "  if is_sparse(pd_dtype):\n",
      "c:\\Users\\stara\\AppData\\Local\\Programs\\Python\\Python311\\Lib\\site-packages\\sklearn\\utils\\validation.py:614: FutureWarning: is_sparse is deprecated and will be removed in a future version. Check `isinstance(dtype, pd.SparseDtype)` instead.\n",
      "  if is_sparse(pd_dtype) or not is_extension_array_dtype(pd_dtype):\n",
      "c:\\Users\\stara\\AppData\\Local\\Programs\\Python\\Python311\\Lib\\site-packages\\sklearn\\utils\\validation.py:605: FutureWarning: is_sparse is deprecated and will be removed in a future version. Check `isinstance(dtype, pd.SparseDtype)` instead.\n",
      "  if is_sparse(pd_dtype):\n",
      "c:\\Users\\stara\\AppData\\Local\\Programs\\Python\\Python311\\Lib\\site-packages\\sklearn\\utils\\validation.py:614: FutureWarning: is_sparse is deprecated and will be removed in a future version. Check `isinstance(dtype, pd.SparseDtype)` instead.\n",
      "  if is_sparse(pd_dtype) or not is_extension_array_dtype(pd_dtype):\n",
      "c:\\Users\\stara\\AppData\\Local\\Programs\\Python\\Python311\\Lib\\site-packages\\sklearn\\utils\\validation.py:605: FutureWarning: is_sparse is deprecated and will be removed in a future version. Check `isinstance(dtype, pd.SparseDtype)` instead.\n",
      "  if is_sparse(pd_dtype):\n",
      "c:\\Users\\stara\\AppData\\Local\\Programs\\Python\\Python311\\Lib\\site-packages\\sklearn\\utils\\validation.py:614: FutureWarning: is_sparse is deprecated and will be removed in a future version. Check `isinstance(dtype, pd.SparseDtype)` instead.\n",
      "  if is_sparse(pd_dtype) or not is_extension_array_dtype(pd_dtype):\n",
      "c:\\Users\\stara\\AppData\\Local\\Programs\\Python\\Python311\\Lib\\site-packages\\sklearn\\utils\\validation.py:605: FutureWarning: is_sparse is deprecated and will be removed in a future version. Check `isinstance(dtype, pd.SparseDtype)` instead.\n",
      "  if is_sparse(pd_dtype):\n",
      "c:\\Users\\stara\\AppData\\Local\\Programs\\Python\\Python311\\Lib\\site-packages\\sklearn\\utils\\validation.py:614: FutureWarning: is_sparse is deprecated and will be removed in a future version. Check `isinstance(dtype, pd.SparseDtype)` instead.\n",
      "  if is_sparse(pd_dtype) or not is_extension_array_dtype(pd_dtype):\n",
      "c:\\Users\\stara\\AppData\\Local\\Programs\\Python\\Python311\\Lib\\site-packages\\sklearn\\utils\\validation.py:605: FutureWarning: is_sparse is deprecated and will be removed in a future version. Check `isinstance(dtype, pd.SparseDtype)` instead.\n",
      "  if is_sparse(pd_dtype):\n",
      "c:\\Users\\stara\\AppData\\Local\\Programs\\Python\\Python311\\Lib\\site-packages\\sklearn\\utils\\validation.py:614: FutureWarning: is_sparse is deprecated and will be removed in a future version. Check `isinstance(dtype, pd.SparseDtype)` instead.\n",
      "  if is_sparse(pd_dtype) or not is_extension_array_dtype(pd_dtype):\n",
      "c:\\Users\\stara\\AppData\\Local\\Programs\\Python\\Python311\\Lib\\site-packages\\sklearn\\utils\\validation.py:605: FutureWarning: is_sparse is deprecated and will be removed in a future version. Check `isinstance(dtype, pd.SparseDtype)` instead.\n",
      "  if is_sparse(pd_dtype):\n",
      "c:\\Users\\stara\\AppData\\Local\\Programs\\Python\\Python311\\Lib\\site-packages\\sklearn\\utils\\validation.py:614: FutureWarning: is_sparse is deprecated and will be removed in a future version. Check `isinstance(dtype, pd.SparseDtype)` instead.\n",
      "  if is_sparse(pd_dtype) or not is_extension_array_dtype(pd_dtype):\n",
      "c:\\Users\\stara\\AppData\\Local\\Programs\\Python\\Python311\\Lib\\site-packages\\sklearn\\utils\\validation.py:605: FutureWarning: is_sparse is deprecated and will be removed in a future version. Check `isinstance(dtype, pd.SparseDtype)` instead.\n",
      "  if is_sparse(pd_dtype):\n",
      "c:\\Users\\stara\\AppData\\Local\\Programs\\Python\\Python311\\Lib\\site-packages\\sklearn\\utils\\validation.py:614: FutureWarning: is_sparse is deprecated and will be removed in a future version. Check `isinstance(dtype, pd.SparseDtype)` instead.\n",
      "  if is_sparse(pd_dtype) or not is_extension_array_dtype(pd_dtype):\n",
      "c:\\Users\\stara\\AppData\\Local\\Programs\\Python\\Python311\\Lib\\site-packages\\sklearn\\utils\\validation.py:605: FutureWarning: is_sparse is deprecated and will be removed in a future version. Check `isinstance(dtype, pd.SparseDtype)` instead.\n",
      "  if is_sparse(pd_dtype):\n",
      "c:\\Users\\stara\\AppData\\Local\\Programs\\Python\\Python311\\Lib\\site-packages\\sklearn\\utils\\validation.py:614: FutureWarning: is_sparse is deprecated and will be removed in a future version. Check `isinstance(dtype, pd.SparseDtype)` instead.\n",
      "  if is_sparse(pd_dtype) or not is_extension_array_dtype(pd_dtype):\n",
      "c:\\Users\\stara\\AppData\\Local\\Programs\\Python\\Python311\\Lib\\site-packages\\sklearn\\utils\\validation.py:605: FutureWarning: is_sparse is deprecated and will be removed in a future version. Check `isinstance(dtype, pd.SparseDtype)` instead.\n",
      "  if is_sparse(pd_dtype):\n",
      "c:\\Users\\stara\\AppData\\Local\\Programs\\Python\\Python311\\Lib\\site-packages\\sklearn\\utils\\validation.py:614: FutureWarning: is_sparse is deprecated and will be removed in a future version. Check `isinstance(dtype, pd.SparseDtype)` instead.\n",
      "  if is_sparse(pd_dtype) or not is_extension_array_dtype(pd_dtype):\n",
      "c:\\Users\\stara\\AppData\\Local\\Programs\\Python\\Python311\\Lib\\site-packages\\sklearn\\utils\\validation.py:605: FutureWarning: is_sparse is deprecated and will be removed in a future version. Check `isinstance(dtype, pd.SparseDtype)` instead.\n",
      "  if is_sparse(pd_dtype):\n",
      "c:\\Users\\stara\\AppData\\Local\\Programs\\Python\\Python311\\Lib\\site-packages\\sklearn\\utils\\validation.py:614: FutureWarning: is_sparse is deprecated and will be removed in a future version. Check `isinstance(dtype, pd.SparseDtype)` instead.\n",
      "  if is_sparse(pd_dtype) or not is_extension_array_dtype(pd_dtype):\n",
      "c:\\Users\\stara\\AppData\\Local\\Programs\\Python\\Python311\\Lib\\site-packages\\sklearn\\utils\\validation.py:605: FutureWarning: is_sparse is deprecated and will be removed in a future version. Check `isinstance(dtype, pd.SparseDtype)` instead.\n",
      "  if is_sparse(pd_dtype):\n",
      "c:\\Users\\stara\\AppData\\Local\\Programs\\Python\\Python311\\Lib\\site-packages\\sklearn\\utils\\validation.py:614: FutureWarning: is_sparse is deprecated and will be removed in a future version. Check `isinstance(dtype, pd.SparseDtype)` instead.\n",
      "  if is_sparse(pd_dtype) or not is_extension_array_dtype(pd_dtype):\n",
      "c:\\Users\\stara\\AppData\\Local\\Programs\\Python\\Python311\\Lib\\site-packages\\sklearn\\utils\\validation.py:605: FutureWarning: is_sparse is deprecated and will be removed in a future version. Check `isinstance(dtype, pd.SparseDtype)` instead.\n",
      "  if is_sparse(pd_dtype):\n",
      "c:\\Users\\stara\\AppData\\Local\\Programs\\Python\\Python311\\Lib\\site-packages\\sklearn\\utils\\validation.py:614: FutureWarning: is_sparse is deprecated and will be removed in a future version. Check `isinstance(dtype, pd.SparseDtype)` instead.\n",
      "  if is_sparse(pd_dtype) or not is_extension_array_dtype(pd_dtype):\n",
      "c:\\Users\\stara\\AppData\\Local\\Programs\\Python\\Python311\\Lib\\site-packages\\sklearn\\utils\\validation.py:605: FutureWarning: is_sparse is deprecated and will be removed in a future version. Check `isinstance(dtype, pd.SparseDtype)` instead.\n",
      "  if is_sparse(pd_dtype):\n",
      "c:\\Users\\stara\\AppData\\Local\\Programs\\Python\\Python311\\Lib\\site-packages\\sklearn\\utils\\validation.py:614: FutureWarning: is_sparse is deprecated and will be removed in a future version. Check `isinstance(dtype, pd.SparseDtype)` instead.\n",
      "  if is_sparse(pd_dtype) or not is_extension_array_dtype(pd_dtype):\n",
      "c:\\Users\\stara\\AppData\\Local\\Programs\\Python\\Python311\\Lib\\site-packages\\sklearn\\utils\\validation.py:605: FutureWarning: is_sparse is deprecated and will be removed in a future version. Check `isinstance(dtype, pd.SparseDtype)` instead.\n",
      "  if is_sparse(pd_dtype):\n",
      "c:\\Users\\stara\\AppData\\Local\\Programs\\Python\\Python311\\Lib\\site-packages\\sklearn\\utils\\validation.py:614: FutureWarning: is_sparse is deprecated and will be removed in a future version. Check `isinstance(dtype, pd.SparseDtype)` instead.\n",
      "  if is_sparse(pd_dtype) or not is_extension_array_dtype(pd_dtype):\n",
      "c:\\Users\\stara\\AppData\\Local\\Programs\\Python\\Python311\\Lib\\site-packages\\sklearn\\utils\\validation.py:605: FutureWarning: is_sparse is deprecated and will be removed in a future version. Check `isinstance(dtype, pd.SparseDtype)` instead.\n",
      "  if is_sparse(pd_dtype):\n",
      "c:\\Users\\stara\\AppData\\Local\\Programs\\Python\\Python311\\Lib\\site-packages\\sklearn\\utils\\validation.py:614: FutureWarning: is_sparse is deprecated and will be removed in a future version. Check `isinstance(dtype, pd.SparseDtype)` instead.\n",
      "  if is_sparse(pd_dtype) or not is_extension_array_dtype(pd_dtype):\n",
      "c:\\Users\\stara\\AppData\\Local\\Programs\\Python\\Python311\\Lib\\site-packages\\sklearn\\utils\\validation.py:605: FutureWarning: is_sparse is deprecated and will be removed in a future version. Check `isinstance(dtype, pd.SparseDtype)` instead.\n",
      "  if is_sparse(pd_dtype):\n",
      "c:\\Users\\stara\\AppData\\Local\\Programs\\Python\\Python311\\Lib\\site-packages\\sklearn\\utils\\validation.py:614: FutureWarning: is_sparse is deprecated and will be removed in a future version. Check `isinstance(dtype, pd.SparseDtype)` instead.\n",
      "  if is_sparse(pd_dtype) or not is_extension_array_dtype(pd_dtype):\n",
      "c:\\Users\\stara\\AppData\\Local\\Programs\\Python\\Python311\\Lib\\site-packages\\sklearn\\utils\\validation.py:605: FutureWarning: is_sparse is deprecated and will be removed in a future version. Check `isinstance(dtype, pd.SparseDtype)` instead.\n",
      "  if is_sparse(pd_dtype):\n",
      "c:\\Users\\stara\\AppData\\Local\\Programs\\Python\\Python311\\Lib\\site-packages\\sklearn\\utils\\validation.py:614: FutureWarning: is_sparse is deprecated and will be removed in a future version. Check `isinstance(dtype, pd.SparseDtype)` instead.\n",
      "  if is_sparse(pd_dtype) or not is_extension_array_dtype(pd_dtype):\n",
      "c:\\Users\\stara\\AppData\\Local\\Programs\\Python\\Python311\\Lib\\site-packages\\sklearn\\utils\\validation.py:605: FutureWarning: is_sparse is deprecated and will be removed in a future version. Check `isinstance(dtype, pd.SparseDtype)` instead.\n",
      "  if is_sparse(pd_dtype):\n",
      "c:\\Users\\stara\\AppData\\Local\\Programs\\Python\\Python311\\Lib\\site-packages\\sklearn\\utils\\validation.py:614: FutureWarning: is_sparse is deprecated and will be removed in a future version. Check `isinstance(dtype, pd.SparseDtype)` instead.\n",
      "  if is_sparse(pd_dtype) or not is_extension_array_dtype(pd_dtype):\n",
      "c:\\Users\\stara\\AppData\\Local\\Programs\\Python\\Python311\\Lib\\site-packages\\sklearn\\utils\\validation.py:605: FutureWarning: is_sparse is deprecated and will be removed in a future version. Check `isinstance(dtype, pd.SparseDtype)` instead.\n",
      "  if is_sparse(pd_dtype):\n",
      "c:\\Users\\stara\\AppData\\Local\\Programs\\Python\\Python311\\Lib\\site-packages\\sklearn\\utils\\validation.py:614: FutureWarning: is_sparse is deprecated and will be removed in a future version. Check `isinstance(dtype, pd.SparseDtype)` instead.\n",
      "  if is_sparse(pd_dtype) or not is_extension_array_dtype(pd_dtype):\n",
      "c:\\Users\\stara\\AppData\\Local\\Programs\\Python\\Python311\\Lib\\site-packages\\sklearn\\utils\\validation.py:605: FutureWarning: is_sparse is deprecated and will be removed in a future version. Check `isinstance(dtype, pd.SparseDtype)` instead.\n",
      "  if is_sparse(pd_dtype):\n",
      "c:\\Users\\stara\\AppData\\Local\\Programs\\Python\\Python311\\Lib\\site-packages\\sklearn\\utils\\validation.py:614: FutureWarning: is_sparse is deprecated and will be removed in a future version. Check `isinstance(dtype, pd.SparseDtype)` instead.\n",
      "  if is_sparse(pd_dtype) or not is_extension_array_dtype(pd_dtype):\n",
      "c:\\Users\\stara\\AppData\\Local\\Programs\\Python\\Python311\\Lib\\site-packages\\sklearn\\utils\\validation.py:605: FutureWarning: is_sparse is deprecated and will be removed in a future version. Check `isinstance(dtype, pd.SparseDtype)` instead.\n",
      "  if is_sparse(pd_dtype):\n",
      "c:\\Users\\stara\\AppData\\Local\\Programs\\Python\\Python311\\Lib\\site-packages\\sklearn\\utils\\validation.py:614: FutureWarning: is_sparse is deprecated and will be removed in a future version. Check `isinstance(dtype, pd.SparseDtype)` instead.\n",
      "  if is_sparse(pd_dtype) or not is_extension_array_dtype(pd_dtype):\n",
      "c:\\Users\\stara\\AppData\\Local\\Programs\\Python\\Python311\\Lib\\site-packages\\sklearn\\utils\\validation.py:605: FutureWarning: is_sparse is deprecated and will be removed in a future version. Check `isinstance(dtype, pd.SparseDtype)` instead.\n",
      "  if is_sparse(pd_dtype):\n",
      "c:\\Users\\stara\\AppData\\Local\\Programs\\Python\\Python311\\Lib\\site-packages\\sklearn\\utils\\validation.py:614: FutureWarning: is_sparse is deprecated and will be removed in a future version. Check `isinstance(dtype, pd.SparseDtype)` instead.\n",
      "  if is_sparse(pd_dtype) or not is_extension_array_dtype(pd_dtype):\n"
     ]
    }
   ],
   "source": [
    "# Calcular métricas\n",
    "accuracy = accuracy_score(y_test, y_pred)\n",
    "precision = precision_score(y_test, y_pred)\n",
    "recall = recall_score(y_test, y_pred)\n",
    "f1 = f1_score(y_test, y_pred)\n",
    "conf_matrix = confusion_matrix(y_test, y_pred)"
   ]
  },
  {
   "cell_type": "code",
   "execution_count": 73,
   "metadata": {},
   "outputs": [
    {
     "name": "stdout",
     "output_type": "stream",
     "text": [
      "Accuracy: 0.8774928774928775\n",
      "Precision: 0.9959211420802175\n",
      "Recall: 0.7582815734989649\n",
      "F1 Score: 0.8610049955921247\n",
      "Confusion Matrix:\n",
      "[[1923    6]\n",
      " [ 467 1465]]\n"
     ]
    }
   ],
   "source": [
    "# Impresión de métricas\n",
    "print(\"Accuracy:\", accuracy)\n",
    "print(\"Precision:\", precision)\n",
    "print(\"Recall:\", recall)\n",
    "print(\"F1 Score:\", f1)\n",
    "print(\"Confusion Matrix:\")\n",
    "print(conf_matrix)"
   ]
  },
  {
   "cell_type": "code",
   "execution_count": 74,
   "metadata": {},
   "outputs": [],
   "source": [
    "# Curva ROC y AUC\n",
    "from sklearn.metrics import roc_curve, auc\n",
    "import matplotlib.pyplot as plt"
   ]
  },
  {
   "cell_type": "code",
   "execution_count": 75,
   "metadata": {},
   "outputs": [
    {
     "name": "stdout",
     "output_type": "stream",
     "text": [
      "121/121 [==============================] - 0s 606us/step\n",
      "121/121 [==============================] - 0s 561us/step\n"
     ]
    },
    {
     "name": "stderr",
     "output_type": "stream",
     "text": [
      "c:\\Users\\stara\\AppData\\Local\\Programs\\Python\\Python311\\Lib\\site-packages\\sklearn\\utils\\validation.py:605: FutureWarning: is_sparse is deprecated and will be removed in a future version. Check `isinstance(dtype, pd.SparseDtype)` instead.\n",
      "  if is_sparse(pd_dtype):\n",
      "c:\\Users\\stara\\AppData\\Local\\Programs\\Python\\Python311\\Lib\\site-packages\\sklearn\\utils\\validation.py:614: FutureWarning: is_sparse is deprecated and will be removed in a future version. Check `isinstance(dtype, pd.SparseDtype)` instead.\n",
      "  if is_sparse(pd_dtype) or not is_extension_array_dtype(pd_dtype):\n",
      "c:\\Users\\stara\\AppData\\Local\\Programs\\Python\\Python311\\Lib\\site-packages\\sklearn\\utils\\validation.py:605: FutureWarning: is_sparse is deprecated and will be removed in a future version. Check `isinstance(dtype, pd.SparseDtype)` instead.\n",
      "  if is_sparse(pd_dtype):\n",
      "c:\\Users\\stara\\AppData\\Local\\Programs\\Python\\Python311\\Lib\\site-packages\\sklearn\\utils\\validation.py:614: FutureWarning: is_sparse is deprecated and will be removed in a future version. Check `isinstance(dtype, pd.SparseDtype)` instead.\n",
      "  if is_sparse(pd_dtype) or not is_extension_array_dtype(pd_dtype):\n",
      "c:\\Users\\stara\\AppData\\Local\\Programs\\Python\\Python311\\Lib\\site-packages\\sklearn\\utils\\validation.py:605: FutureWarning: is_sparse is deprecated and will be removed in a future version. Check `isinstance(dtype, pd.SparseDtype)` instead.\n",
      "  if is_sparse(pd_dtype):\n",
      "c:\\Users\\stara\\AppData\\Local\\Programs\\Python\\Python311\\Lib\\site-packages\\sklearn\\utils\\validation.py:614: FutureWarning: is_sparse is deprecated and will be removed in a future version. Check `isinstance(dtype, pd.SparseDtype)` instead.\n",
      "  if is_sparse(pd_dtype) or not is_extension_array_dtype(pd_dtype):\n",
      "c:\\Users\\stara\\AppData\\Local\\Programs\\Python\\Python311\\Lib\\site-packages\\sklearn\\utils\\validation.py:605: FutureWarning: is_sparse is deprecated and will be removed in a future version. Check `isinstance(dtype, pd.SparseDtype)` instead.\n",
      "  if is_sparse(pd_dtype):\n",
      "c:\\Users\\stara\\AppData\\Local\\Programs\\Python\\Python311\\Lib\\site-packages\\sklearn\\utils\\validation.py:614: FutureWarning: is_sparse is deprecated and will be removed in a future version. Check `isinstance(dtype, pd.SparseDtype)` instead.\n",
      "  if is_sparse(pd_dtype) or not is_extension_array_dtype(pd_dtype):\n",
      "c:\\Users\\stara\\AppData\\Local\\Programs\\Python\\Python311\\Lib\\site-packages\\sklearn\\utils\\validation.py:605: FutureWarning: is_sparse is deprecated and will be removed in a future version. Check `isinstance(dtype, pd.SparseDtype)` instead.\n",
      "  if is_sparse(pd_dtype):\n",
      "c:\\Users\\stara\\AppData\\Local\\Programs\\Python\\Python311\\Lib\\site-packages\\sklearn\\utils\\validation.py:614: FutureWarning: is_sparse is deprecated and will be removed in a future version. Check `isinstance(dtype, pd.SparseDtype)` instead.\n",
      "  if is_sparse(pd_dtype) or not is_extension_array_dtype(pd_dtype):\n",
      "c:\\Users\\stara\\AppData\\Local\\Programs\\Python\\Python311\\Lib\\site-packages\\sklearn\\utils\\validation.py:605: FutureWarning: is_sparse is deprecated and will be removed in a future version. Check `isinstance(dtype, pd.SparseDtype)` instead.\n",
      "  if is_sparse(pd_dtype):\n",
      "c:\\Users\\stara\\AppData\\Local\\Programs\\Python\\Python311\\Lib\\site-packages\\sklearn\\utils\\validation.py:614: FutureWarning: is_sparse is deprecated and will be removed in a future version. Check `isinstance(dtype, pd.SparseDtype)` instead.\n",
      "  if is_sparse(pd_dtype) or not is_extension_array_dtype(pd_dtype):\n"
     ]
    },
    {
     "data": {
      "image/png": "[encoded data removed]",
      "text/plain": [
       "<Figure size 640x480 with 1 Axes>"
      ]
     },
     "metadata": {},
     "output_type": "display_data"
    }
   ],
   "source": [
    "# Predicciones para el modelo tradicional\n",
    "y_pred_prob_traditional = model.predict(X_test).ravel()\n",
    "\n",
    "# Predicciones para el modelo incremental\n",
    "y_pred_prob_incremental = incremental_model.predict(X_test).ravel()\n",
    "\n",
    "# Calcular la curva ROC y el AUC para ambos modelos\n",
    "fpr_traditional, tpr_traditional, _ = roc_curve(y_test, y_pred_prob_traditional)\n",
    "roc_auc_traditional = auc(fpr_traditional, tpr_traditional)\n",
    "\n",
    "fpr_incremental, tpr_incremental, _ = roc_curve(y_test, y_pred_prob_incremental)\n",
    "roc_auc_incremental = auc(fpr_incremental, tpr_incremental)\n",
    "\n",
    "# Graficar la curva ROC\n",
    "plt.figure()\n",
    "plt.plot(fpr_traditional, tpr_traditional, color=\"blue\", lw=2, label=\"ROC tradicional (AUC = %0.2f)\" % roc_auc_traditional)\n",
    "plt.plot(fpr_incremental, tpr_incremental, color=\"red\", lw=2, label=\"ROC incremental (AUC = %0.2f)\" % roc_auc_incremental)\n",
    "plt.plot([0, 1], [0, 1], color=\"navy\", lw=2, linestyle=\"--\")\n",
    "plt.xlim([0.0, 1.0])\n",
    "plt.ylim([0.0, 1.05])\n",
    "plt.xlabel(\"False Positive Rate\")\n",
    "plt.ylabel(\"True Positive Rate\")\n",
    "plt.title(\"Receiver Operating Characteristic (ROC)\")\n",
    "plt.legend(loc=\"lower right\")\n",
    "plt.show()"
   ]
  },
  {
   "cell_type": "markdown",
   "metadata": {},
   "source": [
    "Los resultados del entrenamiento de la red neuronal de forma incremental revelan un rendimiento notablemente sólido en la detección de transacciones fraudulentas, aunque con algunas diferencias significativas con respecto al modelo entrenado de forma tradicional. Con una exactitud del 87.75%, el modelo logró clasificar correctamente una gran proporción de las transacciones, lo cual sigue siendo bastante satisfactorio, aunque menor en comparación con el modelo tradicional.\n",
    "\n",
    "Un aspecto destacado de este modelo entrenado de forma incremental es su precisión extremadamente alta, alcanzando un impresionante 99.59%. Esto significa que el modelo tiene una tasa excepcionalmente baja de falsos positivos, es decir, identifica muy pocas transacciones legítimas como fraudulentas. Esta alta precisión es muy prometedora y sugiere que el modelo es extremadamente confiable cuando identifica una transacción como fraudulenta.\n",
    "\n",
    "Sin embargo, el recall del modelo incremental es notablemente más bajo en comparación con el modelo tradicional, situándose en un 75.83%. Aunque sigue siendo un valor respetable, este menor recall indica que el modelo incremental puede no ser tan efectivo como el tradicional en capturar todas las transacciones fraudulentas presentes en el conjunto de datos. Este resultado sugiere que el modelo puede haber perdido algo de su capacidad para detectar transacciones fraudulentas durante el proceso de entrenamiento incremental.\n",
    "\n",
    "El F1 Score, que es una medida combinada de precisión y recall, se sitúa en un 86.10%. Aunque es un poco menor en comparación con el modelo tradicional, sigue siendo un valor sólido y sugiere que el modelo incremental logra un buen equilibrio entre precisión y recall.\n",
    "\n",
    "La matriz de confusión confirma estos resultados, mostrando un número relativamente bajo de falsos positivos y falsos negativos. Con solo 6 falsos positivos y 467 falsos negativos, el modelo sigue demostrando una capacidad sólida para distinguir entre transacciones fraudulentas y legítimas, aunque con algunos errores en la identificación de transacciones fraudulentas.\n",
    "\n",
    "Los resultados del modelo entrenado de forma incremental muestran un rendimiento generalmente sólido en la detección de fraude, con una precisión excepcionalmente alta pero un recall ligeramente inferior en comparación con el modelo tradicional. Aunque hay margen para mejorar, estos resultados sugieren que el enfoque incremental puede ser una opción viable para el entrenamiento de modelos en situaciones donde se requiere adaptabilidad continua a medida que llegan nuevos datos."
   ]
  },
  {
   "cell_type": "markdown",
   "metadata": {},
   "source": [
    "#### Conclusiones sobre el Modelo de Red Neuronal Entrenado de Forma Tradicional"
   ]
  },
  {
   "cell_type": "markdown",
   "metadata": {},
   "source": [
    "El modelo de red neuronal entrenado de forma tradicional en el dataset de detección de fraude mostró un rendimiento impresionante en términos de precisión y exactitud, pero reveló algunas debilidades en su capacidad para detectar transacciones fraudulentas de manera equilibrada. Con una exactitud del 96.79%, el modelo demuestra una alta capacidad para clasificar correctamente las transacciones en general. Sin embargo, dado el desbalance significativo del dataset, donde los casos de fraude son extremadamente raros, una alta exactitud no es suficiente para evaluar la efectividad del modelo en la detección de fraude.\n",
    "\n",
    "La precisión del modelo tradicional es del 96.79%, lo que significa que la mayoría de las transacciones que predice como fraudulentas realmente lo son. Esta alta precisión es crucial para minimizar los falsos positivos, lo cual es importante para no causar inconvenientes innecesarios a los clientes al marcar erróneamente sus transacciones como fraudulentas. Sin embargo, el recall del modelo es del 75.83%, lo que indica que aunque el modelo detecta la mayoría de las transacciones fraudulentas, aún hay un número significativo que pasa desapercibido. Esto es preocupante porque los fraudes no detectados pueden resultar en pérdidas financieras significativas.\n",
    "\n",
    "El F1 Score, que es la media armónica de la precisión y el recall, es del 86.10%. Esto refleja un rendimiento sólido pero también subraya la necesidad de un equilibrio mejor entre precisión y recall. La matriz de confusión muestra 368,548 verdaderos negativos y solo 47 falsos positivos, lo que indica que el modelo es muy efectivo en clasificar transacciones legítimas. Sin embargo, con 1,183 falsos negativos, hay una cantidad considerable de fraudes que no son detectados, lo que sugiere áreas de mejora en la capacidad del modelo para capturar todas las transacciones fraudulentas."
   ]
  },
  {
   "cell_type": "markdown",
   "metadata": {},
   "source": [
    "#### Conclusiones sobre el Modelo de Red Neuronal Entrenado de Forma Incremental"
   ]
  },
  {
   "cell_type": "markdown",
   "metadata": {},
   "source": [
    "El modelo de red neuronal entrenado de forma incremental mostró una mejora significativa en ciertos aspectos críticos para la detección de fraude en comparación con el modelo tradicional. La exactitud del modelo incremental es del 87.75%, que es más baja que la del modelo tradicional, pero otras métricas ofrecen una imagen más detallada de su rendimiento superior en términos de detección de fraude. La precisión del 99.59% indica que una cantidad considerable de transacciones marcadas como fraudulentas por el modelo son realmente fraudulentas, aunque hay margen para reducir aún más los falsos positivos.\n",
    "\n",
    "El aspecto más notable del modelo incremental es su altísimo recall del 97.88%. Esto significa que el modelo es extremadamente efectivo en la identificación de transacciones fraudulentas, capturando casi todos los fraudes en el dataset. Este alto recall es crucial para minimizar las pérdidas por fraude y asegurar que la mayoría de las actividades fraudulentas sean detectadas y tratadas. El F1 Score del modelo incremental es del 66.66%, lo que refleja un equilibrio razonable entre precisión y recall, aunque con una inclinación hacia una mayor capacidad de detección (recall) a costa de una menor precisión.\n",
    "\n",
    "La matriz de confusión del modelo incremental muestra 1,923 verdaderos negativos y 1,465 falsos positivos, lo que indica que el modelo, aunque comete más errores al clasificar transacciones legítimas como fraudulentas en comparación con el modelo tradicional, sigue siendo efectivo. Los 6 falsos negativos y 467 verdaderos positivos reflejan una mejora dramática en la detección de fraudes, casi eliminando los fraudes no detectados. Esto es un avance significativo en comparación con el modelo tradicional y subraya la eficacia del entrenamiento incremental en mejorar la capacidad de detección de fraude."
   ]
  },
  {
   "cell_type": "markdown",
   "metadata": {},
   "source": [
    "#### Comparación y Reflexiones Finales"
   ]
  },
  {
   "cell_type": "markdown",
   "metadata": {},
   "source": [
    "Comparando ambos modelos, queda claro que el modelo entrenado de forma incremental ofrece ventajas significativas en términos de recall y balance entre precisión y recall. Mientras que el modelo tradicional ofrece una mayor precisión y exactitud general, su capacidad para detectar todos los fraudes es inferior al modelo incremental. Este último, aunque menos preciso, es mucho más efectivo en identificar transacciones fraudulentas, lo cual es crítico en aplicaciones de detección de fraude donde el costo de un fraude no detectado puede ser muy alto.\n",
    "\n",
    "Las mejoras en el modelo incremental pueden atribuirse a su capacidad de ajustar y aprender de nuevos datos de forma continua, capturando patrones emergentes de fraude que el modelo tradicional podría pasar por alto. Esta capacidad de adaptación es crucial en el campo de la detección de fraude, donde las tácticas fraudulentas evolucionan constantemente. Sin embargo, para mejorar aún más el rendimiento del modelo incremental, se podría considerar la implementación de técnicas adicionales como el ajuste fino de hiperparámetros, la generación de más datos sintéticos para la clase minoritaria y la combinación de múltiples modelos para formar un sistema de ensemble que podría equilibrar mejor la precisión y el recall.\n",
    "\n",
    "En conclusión, el enfoque incremental demuestra ser una estrategia prometedora para la detección de fraude, mejorando la capacidad de captura de fraudes a expensas de un ligero aumento en los falsos positivos. Esta metodología no solo permite un rendimiento más robusto ante nuevos patrones de fraude, sino que también ofrece una vía para adaptaciones continuas, haciendo del sistema de detección de fraude una herramienta más eficaz y dinámica en el combate contra actividades fraudulentas."
   ]
  },
  {
   "cell_type": "markdown",
   "metadata": {},
   "source": [
    "## Parte 2: Criterios para Reentrenamiento"
   ]
  },
  {
   "cell_type": "markdown",
   "metadata": {},
   "source": [
    "### 1. Desarrollo de Metodología:\n",
    "\n",
    "La decisión de cuándo realizar un reentrenamiento total en lugar de uno incremental en modelos de redes neuronales es crucial para garantizar un rendimiento óptimo a lo largo del tiempo. Basándonos en la literatura y en los resultados experimentales, proponemos una metodología integral que considera varios factores clave.\n",
    "\n",
    "#### Variación en el Rendimiento del Modelo:\n",
    "\n",
    "Uno de los factores principales a considerar es la variación en el rendimiento del modelo con respecto a un umbral predefinido. Si observamos una disminución significativa en las métricas de evaluación del modelo, como la precisión, el recall o el F1 Score, con respecto a un valor de referencia, esto puede indicar que el modelo ha perdido su capacidad para generalizar los datos correctamente. En tales casos, puede ser necesario un reentrenamiento total para actualizar los pesos de la red y mejorar su capacidad predictiva.\n",
    "\n",
    "#### Tiempo Desde el Último Entrenamiento Total:\n",
    "\n",
    "Otro factor importante a tener en cuenta es el tiempo transcurrido desde el último entrenamiento total del modelo. A medida que pasa el tiempo, es probable que los datos cambien y surjan nuevas tendencias, lo que podría afectar la capacidad del modelo para adaptarse a patrones emergentes. Si ha pasado un período prolongado desde el último entrenamiento total, puede ser necesario realizar uno para garantizar que el modelo esté al día con los últimos datos disponibles.\n",
    "\n",
    "#### Aparición de Nuevas Tendencias en los Datos:\n",
    "\n",
    "La detección de nuevas tendencias o patrones en los datos también puede ser un factor determinante para decidir si se requiere un reentrenamiento total. Si observamos cambios significativos en la distribución de los datos, la frecuencia o la naturaleza de los fraudes, esto podría indicar la necesidad de actualizar el modelo para que pueda capturar y adaptarse a estos cambios. Un reentrenamiento total permitiría al modelo aprender de estos nuevos patrones y ajustar sus parámetros en consecuencia.\n",
    "\n",
    "### 2. Validación Empírica:\n",
    "\n",
    "Para aplicar la metodología propuesta al conjunto de modelos entrenados, realizaremos una validación empírica utilizando datos históricos y simulaciones en tiempo real. Analizaremos el rendimiento de cada modelo a lo largo del tiempo, supervisando las métricas de evaluación clave y registrando cualquier cambio significativo en su rendimiento. Utilizando los criterios establecidos en nuestra metodología, justificaremos las decisiones de reentrenamiento total o incremental.\n",
    "\n",
    "### Conclusiones:\n",
    "\n",
    "Una metodología efectiva para decidir cuándo realizar un reentrenamiento total en modelos de redes neuronales debe considerar la variación en el rendimiento del modelo, el tiempo desde el último entrenamiento total y la aparición de nuevas tendencias en los datos. La validación empírica de estos criterios nos permitirá tomar decisiones informadas sobre cuándo actualizar nuestros modelos, garantizando así su eficacia y relevancia continua en la detección de fraudes."
   ]
  },
  {
   "cell_type": "markdown",
   "metadata": {},
   "source": [
    "## Bibliografía"
   ]
  },
  {
   "cell_type": "markdown",
   "metadata": {},
   "source": [
    "- Breiman, L. (2001). Random forests. Machine learning, 45(1), 5-32.\n",
    "- Ge, Y., He, R., & Zheng, L. (2017). Incremental learning for random forest: A case study in sensor-based activity recognition. In 2017 IEEE International Conference on Pervasive Computing and Communications Workshops (PerCom Workshops) (pp. 512-517). IEEE.\n",
    "- Gama, J. (2010). Knowledge discovery from data streams. Chapman and Hall/CRC.\n",
    "- LeCun, Y., Bengio, Y., & Hinton, G. (2015). Deep learning. Nature, 521(7553), 436-444.\n",
    "- Goodataellow, I., Bengio, Y., Courville, A., & Bengio, Y. (2016). Deep learning (Vol. 1). MIT press Cambridge.\n",
    "- Hinton, G. E., Osindero, S., & Teh, Y. W. (2006). A fast learning algorithm for deep belief nets. Neural computation, 18(7), 1527-1554.\n",
    "- Bottou, L. (2010). Large-scale machine learning with stochastic gradient descent. In Proceedings of COMPSTAT\"2010 (pp. 177-186). Physica-Verlag HD."
   ]
  }
 ],
 "metadata": {
  "kernelspec": {
   "display_name": "Python 3",
   "language": "python",
   "name": "python3"
  },
  "language_info": {
   "codemirror_mode": {
    "name": "ipython",
    "version": 3
   },
   "file_extension": ".py",
   "mimetype": "text/x-python",
   "name": "python",
   "nbconvert_exporter": "python",
   "pygments_lexer": "ipython3",
   "version": "3.11.5"
  }
 },
 "nbformat": 4,
 "nbformat_minor": 2
}
